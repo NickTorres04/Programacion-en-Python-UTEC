{
  "nbformat": 4,
  "nbformat_minor": 0,
  "metadata": {
    "colab": {
      "provenance": [],
      "authorship_tag": "ABX9TyMiylevbZ1SsYXeW5sl27Wh",
      "include_colab_link": true
    },
    "kernelspec": {
      "name": "python3",
      "display_name": "Python 3"
    },
    "language_info": {
      "name": "python"
    }
  },
  "cells": [
    {
      "cell_type": "markdown",
      "metadata": {
        "id": "view-in-github",
        "colab_type": "text"
      },
      "source": [
        "<a href=\"https://colab.research.google.com/github/NickTorres04/Programacion-en-Python-UTEC/blob/main/Copia_de_mod2_clase4.ipynb\" target=\"_parent\"><img src=\"https://colab.research.google.com/assets/colab-badge.svg\" alt=\"Open In Colab\"/></a>"
      ]
    },
    {
      "cell_type": "code",
      "execution_count": null,
      "metadata": {
        "id": "inBf1XwkdAy6"
      },
      "outputs": [],
      "source": [
        "import numpy as np\n",
        "import pandas as pd"
      ]
    },
    {
      "cell_type": "markdown",
      "source": [
        "COUNT : cantidad de registros con informacion,\n",
        "Mean : Promedio\n",
        "std : Desv. Estandar\n"
      ],
      "metadata": {
        "id": "luwRC41ehh2J"
      }
    },
    {
      "cell_type": "markdown",
      "source": [
        "# ***PANDAS***"
      ],
      "metadata": {
        "id": "Lt6PrNu_gWzJ"
      }
    },
    {
      "cell_type": "code",
      "source": [
        "datos_4 = np.arange(10)\n",
        "print(f\"Datos 4: {datos_4}\")\n",
        "print(f\"Tipo de datos es: {type(datos_4)}\")\n",
        "print(f\"El promedio es: {np.mean(datos_4)}\")\n",
        "print(f\"La suma es: {np.sum(datos_4)}\")"
      ],
      "metadata": {
        "colab": {
          "base_uri": "https://localhost:8080/"
        },
        "id": "MQQRGviFdKGe",
        "outputId": "bfdc0c0d-71e7-41ba-ad62-617996754e5f"
      },
      "execution_count": null,
      "outputs": [
        {
          "output_type": "stream",
          "name": "stdout",
          "text": [
            "Datos 4: [0 1 2 3 4 5 6 7 8 9]\n",
            "Tipo de datos es: <class 'numpy.ndarray'>\n",
            "El promedio es: 4.5\n",
            "La suma es: 45\n"
          ]
        }
      ]
    },
    {
      "cell_type": "code",
      "source": [
        "mat_1 = np.random.uniform(5,6,10) # (rango_inicial,rango_final, cant_valores)\n",
        "print(f\"Matriz 1:\\n {mat_1}\")\n",
        "print(f\" Numero de dimesiones de la matriz 1: {mat_1.ndim}\")\n",
        "print(\"\\n\")\n",
        "mat_2 = np.random.uniform(-1,1,10)\n",
        "print(f\"Matriz 2: \\n {mat_2}\")\n",
        "print(f\" Numero de dimesiones de la matriz 2: {mat_2.ndim}\")\n",
        "print(\"\\n\")\n",
        "print(f\"Matriz (mat_1 + mat_2) : \\n {mat_1 + mat_2}\")\n",
        "print(f\" Numero de dimesiones de la matriz 3: {(mat_1 + mat_2).ndim}\")"
      ],
      "metadata": {
        "colab": {
          "base_uri": "https://localhost:8080/"
        },
        "id": "bJaDSow1dsVR",
        "outputId": "77d0826c-bab6-4f18-9a9d-86d07f8075a2"
      },
      "execution_count": null,
      "outputs": [
        {
          "output_type": "stream",
          "name": "stdout",
          "text": [
            "Matriz 1:\n",
            " [5.37859077 5.79973491 5.49596517 5.14947887 5.46683228 5.19933279\n",
            " 5.65155853 5.15543113 5.63813243 5.73756465]\n",
            " Numero de dimesiones de la matriz 1: 1\n",
            "\n",
            "\n",
            "Matriz 2: \n",
            " [-0.33762062 -0.5869599   0.63246701 -0.85752927 -0.95495511  0.45203669\n",
            " -0.50127854 -0.83925562  0.5304736   0.27506053]\n",
            " Numero de dimesiones de la matriz 2: 1\n",
            "\n",
            "\n",
            "Matriz (mat_1 + mat_2) : \n",
            " [5.04097014 5.21277502 6.12843218 4.29194961 4.51187717 5.65136948\n",
            " 5.15027999 4.31617552 6.16860603 6.01262517]\n",
            " Numero de dimesiones de la matriz 3: 1\n"
          ]
        }
      ]
    },
    {
      "cell_type": "markdown",
      "source": [
        "## ***SERIES***"
      ],
      "metadata": {
        "id": "3EXvIMdAgcKa"
      }
    },
    {
      "cell_type": "code",
      "source": [
        "#GENERAR SERIE:\n",
        "ser_mat_1 =pd.Series(mat_1)\n",
        "print(f\"Serie 1: \\n{ser_mat_1}\")\n",
        "\n",
        "\n",
        "print(\"\\n\")\n",
        "\n",
        "ser_mat_2 = pd.Series(mat_2)\n",
        "print(f\"Serie 2: \\n{ser_mat_2}\")\n",
        "\n",
        "print(\"\\n\")\n",
        "ser_mat_3 = pd.Series(mat_1 + mat_2)\n",
        "print(f\"Serie 3: \\n{ser_mat_3}\")\n",
        "\n",
        "print(\"\\n\")\n",
        "ser_mat_4 = ser_mat_1 + ser_mat_2 + ser_mat_3\n",
        "print(f\"Serie 4: \\n{ser_mat_4}\")"
      ],
      "metadata": {
        "colab": {
          "base_uri": "https://localhost:8080/"
        },
        "id": "m3Goqddadr3l",
        "outputId": "49523256-d2d1-4c8e-f57a-042fee4c3119"
      },
      "execution_count": null,
      "outputs": [
        {
          "output_type": "stream",
          "name": "stdout",
          "text": [
            "Serie 1: \n",
            "0    5.378591\n",
            "1    5.799735\n",
            "2    5.495965\n",
            "3    5.149479\n",
            "4    5.466832\n",
            "5    5.199333\n",
            "6    5.651559\n",
            "7    5.155431\n",
            "8    5.638132\n",
            "9    5.737565\n",
            "dtype: float64\n",
            "\n",
            "\n",
            "Serie 2: \n",
            "0   -0.337621\n",
            "1   -0.586960\n",
            "2    0.632467\n",
            "3   -0.857529\n",
            "4   -0.954955\n",
            "5    0.452037\n",
            "6   -0.501279\n",
            "7   -0.839256\n",
            "8    0.530474\n",
            "9    0.275061\n",
            "dtype: float64\n",
            "\n",
            "\n",
            "Serie 3: \n",
            "0    5.040970\n",
            "1    5.212775\n",
            "2    6.128432\n",
            "3    4.291950\n",
            "4    4.511877\n",
            "5    5.651369\n",
            "6    5.150280\n",
            "7    4.316176\n",
            "8    6.168606\n",
            "9    6.012625\n",
            "dtype: float64\n",
            "\n",
            "\n",
            "Serie 4: \n",
            "0    10.081940\n",
            "1    10.425550\n",
            "2    12.256864\n",
            "3     8.583899\n",
            "4     9.023754\n",
            "5    11.302739\n",
            "6    10.300560\n",
            "7     8.632351\n",
            "8    12.337212\n",
            "9    12.025250\n",
            "dtype: float64\n"
          ]
        }
      ]
    },
    {
      "cell_type": "markdown",
      "source": [
        "## ***Describe***"
      ],
      "metadata": {
        "id": "K44NpudhgS5t"
      }
    },
    {
      "cell_type": "code",
      "source": [
        "ser_mat_4.describe()"
      ],
      "metadata": {
        "colab": {
          "base_uri": "https://localhost:8080/"
        },
        "id": "fIEHH2UyeusU",
        "outputId": "8330c720-9008-4f17-c1af-2010ac03ff29"
      },
      "execution_count": null,
      "outputs": [
        {
          "output_type": "execute_result",
          "data": {
            "text/plain": [
              "count    10.000000\n",
              "mean     10.497012\n",
              "std       1.452644\n",
              "min       8.583899\n",
              "25%       9.288301\n",
              "50%      10.363055\n",
              "75%      11.844623\n",
              "max      12.337212\n",
              "dtype: float64"
            ]
          },
          "metadata": {},
          "execution_count": 25
        }
      ]
    },
    {
      "cell_type": "code",
      "source": [
        "np.array([\"a\",\"b\",\"c\"])\n",
        "pd.Series(np.array([\"a\",\"b\",\"c\"]))"
      ],
      "metadata": {
        "colab": {
          "base_uri": "https://localhost:8080/"
        },
        "id": "sBWaz-XLf-4Y",
        "outputId": "a376b6e3-3e5a-4832-a4b3-65a741f31bf9"
      },
      "execution_count": null,
      "outputs": [
        {
          "output_type": "execute_result",
          "data": {
            "text/plain": [
              "0    a\n",
              "1    b\n",
              "2    c\n",
              "dtype: object"
            ]
          },
          "metadata": {},
          "execution_count": 27
        }
      ]
    },
    {
      "cell_type": "code",
      "source": [
        "pd.Series(np.array([\"a\",\"b\",\"c\"]),index=[\"x\",\"y\",\"z\"])"
      ],
      "metadata": {
        "colab": {
          "base_uri": "https://localhost:8080/"
        },
        "id": "AruF4bpBgnN2",
        "outputId": "1c6743c3-fbe0-49ec-8380-2bf62735ba6a"
      },
      "execution_count": null,
      "outputs": [
        {
          "output_type": "execute_result",
          "data": {
            "text/plain": [
              "x    a\n",
              "y    b\n",
              "z    c\n",
              "dtype: object"
            ]
          },
          "metadata": {},
          "execution_count": 30
        }
      ]
    },
    {
      "cell_type": "code",
      "source": [
        "dic_1 = {\"Series 1\": ser_mat_1,\n",
        "         \"Series 2\": ser_mat_2,\n",
        "         \"Series 3\": ser_mat_3,\n",
        "         \"Series 4\": ser_mat_4\n",
        "         }\n",
        "print(f\"El tipo de dict_1 : {type(dic_1)}\")\n",
        "print(dic_1)"
      ],
      "metadata": {
        "colab": {
          "base_uri": "https://localhost:8080/"
        },
        "id": "dfsJYSGbh8HV",
        "outputId": "fd130723-0aa3-472e-b63d-4b5f6b4b3d28"
      },
      "execution_count": null,
      "outputs": [
        {
          "output_type": "stream",
          "name": "stdout",
          "text": [
            "El tipo de dict_1 : <class 'dict'>\n",
            "{'Series 1': 0    5.378591\n",
            "1    5.799735\n",
            "2    5.495965\n",
            "3    5.149479\n",
            "4    5.466832\n",
            "5    5.199333\n",
            "6    5.651559\n",
            "7    5.155431\n",
            "8    5.638132\n",
            "9    5.737565\n",
            "dtype: float64, 'Series 2': 0   -0.337621\n",
            "1   -0.586960\n",
            "2    0.632467\n",
            "3   -0.857529\n",
            "4   -0.954955\n",
            "5    0.452037\n",
            "6   -0.501279\n",
            "7   -0.839256\n",
            "8    0.530474\n",
            "9    0.275061\n",
            "dtype: float64, 'Series 3': 0    5.040970\n",
            "1    5.212775\n",
            "2    6.128432\n",
            "3    4.291950\n",
            "4    4.511877\n",
            "5    5.651369\n",
            "6    5.150280\n",
            "7    4.316176\n",
            "8    6.168606\n",
            "9    6.012625\n",
            "dtype: float64, 'Series 4': 0    10.081940\n",
            "1    10.425550\n",
            "2    12.256864\n",
            "3     8.583899\n",
            "4     9.023754\n",
            "5    11.302739\n",
            "6    10.300560\n",
            "7     8.632351\n",
            "8    12.337212\n",
            "9    12.025250\n",
            "dtype: float64}\n"
          ]
        }
      ]
    },
    {
      "cell_type": "markdown",
      "source": [
        "### ***Forma tabular:***"
      ],
      "metadata": {
        "id": "o--xXqDYi311"
      }
    },
    {
      "cell_type": "code",
      "source": [
        "# DARLE FORMA TABULAR:\n",
        "data =  pd.DataFrame(dic_1)\n",
        "print(data)\n",
        "print(\"\\n\")\n",
        "print(f\" La cantidad de filas y columnas es: {data.shape}\")"
      ],
      "metadata": {
        "colab": {
          "base_uri": "https://localhost:8080/"
        },
        "id": "f1GRKLQoiWWs",
        "outputId": "bace8ba7-c577-4180-ea0e-99052ba91f13"
      },
      "execution_count": null,
      "outputs": [
        {
          "output_type": "stream",
          "name": "stdout",
          "text": [
            "   Series 1  Series 2  Series 3   Series 4\n",
            "0  5.378591 -0.337621  5.040970  10.081940\n",
            "1  5.799735 -0.586960  5.212775  10.425550\n",
            "2  5.495965  0.632467  6.128432  12.256864\n",
            "3  5.149479 -0.857529  4.291950   8.583899\n",
            "4  5.466832 -0.954955  4.511877   9.023754\n",
            "5  5.199333  0.452037  5.651369  11.302739\n",
            "6  5.651559 -0.501279  5.150280  10.300560\n",
            "7  5.155431 -0.839256  4.316176   8.632351\n",
            "8  5.638132  0.530474  6.168606  12.337212\n",
            "9  5.737565  0.275061  6.012625  12.025250\n",
            "\n",
            "\n",
            " La cantidad de filas y columnas es: (10, 4)\n"
          ]
        }
      ]
    },
    {
      "cell_type": "markdown",
      "source": [
        "## ***Continue*** **TRABAJAR CON GOOGLE DRIVE **"
      ],
      "metadata": {
        "id": "KaStv7DEjQkj"
      }
    },
    {
      "cell_type": "code",
      "source": [
        "import sys\n",
        "sys.path[0]"
      ],
      "metadata": {
        "colab": {
          "base_uri": "https://localhost:8080/",
          "height": 36
        },
        "id": "QqEMVT2CjTmw",
        "outputId": "8a209a06-4a22-4ad9-ffd6-53a6e6312e39"
      },
      "execution_count": null,
      "outputs": [
        {
          "output_type": "execute_result",
          "data": {
            "text/plain": [
              "'/content'"
            ],
            "application/vnd.google.colaboratory.intrinsic+json": {
              "type": "string"
            }
          },
          "metadata": {},
          "execution_count": 39
        }
      ]
    },
    {
      "cell_type": "code",
      "source": [],
      "metadata": {
        "id": "n7DeOXPgjmjq"
      },
      "execution_count": null,
      "outputs": []
    }
  ]
}
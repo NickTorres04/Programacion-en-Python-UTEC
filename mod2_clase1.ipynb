{
  "nbformat": 4,
  "nbformat_minor": 0,
  "metadata": {
    "colab": {
      "provenance": [],
      "authorship_tag": "ABX9TyMqqwyMQQlFRlk33YpGf7R4",
      "include_colab_link": true
    },
    "kernelspec": {
      "name": "python3",
      "display_name": "Python 3"
    },
    "language_info": {
      "name": "python"
    }
  },
  "cells": [
    {
      "cell_type": "markdown",
      "metadata": {
        "id": "view-in-github",
        "colab_type": "text"
      },
      "source": [
        "<a href=\"https://colab.research.google.com/github/NickTorres04/Programacion-en-Python-UTEC/blob/main/mod2_clase1.ipynb\" target=\"_parent\"><img src=\"https://colab.research.google.com/assets/colab-badge.svg\" alt=\"Open In Colab\"/></a>"
      ]
    },
    {
      "cell_type": "code",
      "execution_count": null,
      "metadata": {
        "id": "2lfdrWcDqteA"
      },
      "outputs": [],
      "source": []
    },
    {
      "cell_type": "markdown",
      "source": [
        "***LISTAS***\n"
      ],
      "metadata": {
        "id": "i35zmbhpq-1z"
      }
    },
    {
      "cell_type": "code",
      "source": [
        "#Lista homogenea\n",
        "numeros = [1,2,3,4]\n",
        "numeros"
      ],
      "metadata": {
        "colab": {
          "base_uri": "https://localhost:8080/"
        },
        "id": "C-jaHSCdrDa7",
        "outputId": "c736a89a-01cd-4233-c6c1-e4e8ef464f4c"
      },
      "execution_count": null,
      "outputs": [
        {
          "output_type": "execute_result",
          "data": {
            "text/plain": [
              "[1, 2, 3, 4]"
            ]
          },
          "metadata": {},
          "execution_count": 1
        }
      ]
    },
    {
      "cell_type": "code",
      "source": [
        "#Con caracteres\n",
        "letras = [\"a\",\"b\",\"c\",\"d\",\"e\",\"f\"]\n",
        "letras"
      ],
      "metadata": {
        "colab": {
          "base_uri": "https://localhost:8080/"
        },
        "id": "II4FzC4Trw8P",
        "outputId": "bf46690d-d76d-498a-a700-98c54f6f4807"
      },
      "execution_count": 10,
      "outputs": [
        {
          "output_type": "execute_result",
          "data": {
            "text/plain": [
              "['a', 'b', 'c', 'd', 'e', 'f']"
            ]
          },
          "metadata": {},
          "execution_count": 10
        }
      ]
    },
    {
      "cell_type": "code",
      "source": [
        "#Lista Heterogenea\n",
        "datos = [\"a\",2,\"c\",4,\"f\",True,-14.5]\n"
      ],
      "metadata": {
        "id": "wFFdWg98r8Tx"
      },
      "execution_count": 1,
      "outputs": []
    },
    {
      "cell_type": "code",
      "source": [
        "datos[2]"
      ],
      "metadata": {
        "id": "bCvmKk7rsjC6",
        "outputId": "030baca4-f551-4866-c8d8-96254a1e7386",
        "colab": {
          "base_uri": "https://localhost:8080/",
          "height": 36
        }
      },
      "execution_count": 2,
      "outputs": [
        {
          "output_type": "execute_result",
          "data": {
            "text/plain": [
              "'c'"
            ],
            "application/vnd.google.colaboratory.intrinsic+json": {
              "type": "string"
            }
          },
          "metadata": {},
          "execution_count": 2
        }
      ]
    },
    {
      "cell_type": "code",
      "source": [
        "datos[0:3]"
      ],
      "metadata": {
        "id": "5_-m_48_uLjG",
        "outputId": "c7125157-31e4-4c85-9bb3-92a01f0b0252",
        "colab": {
          "base_uri": "https://localhost:8080/"
        }
      },
      "execution_count": 3,
      "outputs": [
        {
          "output_type": "execute_result",
          "data": {
            "text/plain": [
              "['a', 2, 'c']"
            ]
          },
          "metadata": {},
          "execution_count": 3
        }
      ]
    },
    {
      "cell_type": "code",
      "source": [
        "pares = [0,2,4,6,8,10]\n"
      ],
      "metadata": {
        "id": "kT25sf-OxcBA"
      },
      "execution_count": 4,
      "outputs": []
    },
    {
      "cell_type": "code",
      "source": [
        "pares.append(12)"
      ],
      "metadata": {
        "id": "rNRZM0XJx2j3"
      },
      "execution_count": 5,
      "outputs": []
    },
    {
      "cell_type": "code",
      "source": [
        "pares"
      ],
      "metadata": {
        "id": "pj0PJX5Sx5Nn",
        "outputId": "9aac8a0a-dbf3-494d-a4d8-747543e21ae7",
        "colab": {
          "base_uri": "https://localhost:8080/"
        }
      },
      "execution_count": 6,
      "outputs": [
        {
          "output_type": "execute_result",
          "data": {
            "text/plain": [
              "[0, 2, 4, 6, 8, 10, 12]"
            ]
          },
          "metadata": {},
          "execution_count": 6
        }
      ]
    },
    {
      "cell_type": "code",
      "source": [
        "#insert: agregar elementos en una posicion especifica\n",
        "pares.insert(1,100)"
      ],
      "metadata": {
        "id": "yuczTbbhx6zW"
      },
      "execution_count": 7,
      "outputs": []
    },
    {
      "cell_type": "code",
      "source": [
        "pares"
      ],
      "metadata": {
        "id": "P_znZeg_yz8r",
        "outputId": "00db5f0a-b026-440c-bd62-eb975c46d2d9",
        "colab": {
          "base_uri": "https://localhost:8080/"
        }
      },
      "execution_count": 8,
      "outputs": [
        {
          "output_type": "execute_result",
          "data": {
            "text/plain": [
              "[0, 100, 2, 4, 6, 8, 10, 12]"
            ]
          },
          "metadata": {},
          "execution_count": 8
        }
      ]
    },
    {
      "cell_type": "code",
      "source": [
        "letras.insert(-1,\"AAA\")"
      ],
      "metadata": {
        "id": "DMVvd3FYy1dl"
      },
      "execution_count": 11,
      "outputs": []
    },
    {
      "cell_type": "code",
      "source": [
        "letras"
      ],
      "metadata": {
        "id": "sIasCt8vzD0X",
        "outputId": "5c0d72b3-4ba5-4b82-e298-37032632b05e",
        "colab": {
          "base_uri": "https://localhost:8080/"
        }
      },
      "execution_count": 24,
      "outputs": [
        {
          "output_type": "execute_result",
          "data": {
            "text/plain": [
              "['c', 'd', 'e', 'AAA', 'f']"
            ]
          },
          "metadata": {},
          "execution_count": 24
        }
      ]
    },
    {
      "cell_type": "code",
      "source": [
        "letras.insert(-0,\"BBB\")"
      ],
      "metadata": {
        "id": "2PNo0bg3zj8N"
      },
      "execution_count": 25,
      "outputs": []
    },
    {
      "cell_type": "code",
      "source": [
        "letras"
      ],
      "metadata": {
        "id": "65DvfMOlzmc8",
        "outputId": "a4eb1e44-1774-4ae9-f923-3e355f70cc37",
        "colab": {
          "base_uri": "https://localhost:8080/"
        }
      },
      "execution_count": 26,
      "outputs": [
        {
          "output_type": "execute_result",
          "data": {
            "text/plain": [
              "['BBB', 'c', 'd', 'e', 'AAA', 'f']"
            ]
          },
          "metadata": {},
          "execution_count": 26
        }
      ]
    },
    {
      "cell_type": "code",
      "source": [
        "len(letras)"
      ],
      "metadata": {
        "id": "YcFxjUak1uAg",
        "outputId": "1f232f45-98dc-4d59-ba1d-2f417de643d9",
        "colab": {
          "base_uri": "https://localhost:8080/"
        }
      },
      "execution_count": 27,
      "outputs": [
        {
          "output_type": "execute_result",
          "data": {
            "text/plain": [
              "6"
            ]
          },
          "metadata": {},
          "execution_count": 27
        }
      ]
    },
    {
      "cell_type": "code",
      "source": [
        "letras[0:3]"
      ],
      "metadata": {
        "id": "TeNoKkb2z69N",
        "outputId": "75125d72-89d3-47ef-a38c-811a7caf2e4b",
        "colab": {
          "base_uri": "https://localhost:8080/"
        }
      },
      "execution_count": 17,
      "outputs": [
        {
          "output_type": "execute_result",
          "data": {
            "text/plain": [
              "['BBB', 'a', 'b']"
            ]
          },
          "metadata": {},
          "execution_count": 17
        }
      ]
    },
    {
      "cell_type": "code",
      "source": [
        "letras [:3] =[\"UNO\",\"DOS\",\"TRES\"]"
      ],
      "metadata": {
        "id": "pb8UIEOQ0wEg"
      },
      "execution_count": 18,
      "outputs": []
    },
    {
      "cell_type": "code",
      "source": [
        "letras"
      ],
      "metadata": {
        "id": "9r-ZQ9bJ011r",
        "outputId": "346f170e-81b6-4c0b-8391-35efd32d4f1f",
        "colab": {
          "base_uri": "https://localhost:8080/"
        }
      },
      "execution_count": 19,
      "outputs": [
        {
          "output_type": "execute_result",
          "data": {
            "text/plain": [
              "['UNO', 'DOS', 'TRES', 'c', 'd', 'e', 'AAA', 'f']"
            ]
          },
          "metadata": {},
          "execution_count": 19
        }
      ]
    },
    {
      "cell_type": "code",
      "source": [
        "letras [:3]=[]"
      ],
      "metadata": {
        "id": "If_P06cq1Wn_"
      },
      "execution_count": 29,
      "outputs": []
    },
    {
      "cell_type": "code",
      "source": [
        "letras"
      ],
      "metadata": {
        "id": "9ATSY9zi1aaw",
        "outputId": "88dbb06e-95e8-4f4f-d039-9a4cd9471745",
        "colab": {
          "base_uri": "https://localhost:8080/"
        }
      },
      "execution_count": 30,
      "outputs": [
        {
          "output_type": "execute_result",
          "data": {
            "text/plain": [
              "['e', 'AAA', 'f']"
            ]
          },
          "metadata": {},
          "execution_count": 30
        }
      ]
    },
    {
      "cell_type": "code",
      "source": [
        "letras[0]"
      ],
      "metadata": {
        "id": "hPC13T9a1cRn",
        "outputId": "a3c95899-af97-4c2d-f56f-23e3626207c1",
        "colab": {
          "base_uri": "https://localhost:8080/",
          "height": 36
        }
      },
      "execution_count": 31,
      "outputs": [
        {
          "output_type": "execute_result",
          "data": {
            "text/plain": [
              "'e'"
            ],
            "application/vnd.google.colaboratory.intrinsic+json": {
              "type": "string"
            }
          },
          "metadata": {},
          "execution_count": 31
        }
      ]
    },
    {
      "cell_type": "code",
      "source": [
        "len(letras)"
      ],
      "metadata": {
        "id": "I1JaAxfV10nw",
        "outputId": "09549d23-94ef-4a27-f794-cac215a57b9d",
        "colab": {
          "base_uri": "https://localhost:8080/"
        }
      },
      "execution_count": 32,
      "outputs": [
        {
          "output_type": "execute_result",
          "data": {
            "text/plain": [
              "3"
            ]
          },
          "metadata": {},
          "execution_count": 32
        }
      ]
    },
    {
      "cell_type": "code",
      "source": [
        "#Eliminar elementos de una lista\n",
        "letras"
      ],
      "metadata": {
        "id": "gJlYmi6H2dTx",
        "outputId": "1daf0717-c8b8-4561-dea6-b41281a7f54e",
        "colab": {
          "base_uri": "https://localhost:8080/"
        }
      },
      "execution_count": 33,
      "outputs": [
        {
          "output_type": "execute_result",
          "data": {
            "text/plain": [
              "['e', 'AAA', 'f']"
            ]
          },
          "metadata": {},
          "execution_count": 33
        }
      ]
    },
    {
      "cell_type": "code",
      "source": [
        "letras.pop(2)"
      ],
      "metadata": {
        "id": "O984_D833Edy",
        "outputId": "d938a8ab-d31f-457d-a406-bffc06305ffb",
        "colab": {
          "base_uri": "https://localhost:8080/",
          "height": 36
        }
      },
      "execution_count": 35,
      "outputs": [
        {
          "output_type": "execute_result",
          "data": {
            "text/plain": [
              "'f'"
            ],
            "application/vnd.google.colaboratory.intrinsic+json": {
              "type": "string"
            }
          },
          "metadata": {},
          "execution_count": 35
        }
      ]
    },
    {
      "cell_type": "code",
      "source": [
        "letras"
      ],
      "metadata": {
        "id": "o3JjzpiC3Kal",
        "outputId": "04433eed-505e-426a-8ff8-5cb63b298d21",
        "colab": {
          "base_uri": "https://localhost:8080/"
        }
      },
      "execution_count": 36,
      "outputs": [
        {
          "output_type": "execute_result",
          "data": {
            "text/plain": [
              "['e', 'AAA']"
            ]
          },
          "metadata": {},
          "execution_count": 36
        }
      ]
    }
  ]
}
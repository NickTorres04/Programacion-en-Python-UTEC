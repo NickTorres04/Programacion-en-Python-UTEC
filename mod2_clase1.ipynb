{
  "nbformat": 4,
  "nbformat_minor": 0,
  "metadata": {
    "colab": {
      "provenance": [],
      "authorship_tag": "ABX9TyOjwO7AWYDJ+ckT6Lgmdw5K",
      "include_colab_link": true
    },
    "kernelspec": {
      "name": "python3",
      "display_name": "Python 3"
    },
    "language_info": {
      "name": "python"
    }
  },
  "cells": [
    {
      "cell_type": "markdown",
      "metadata": {
        "id": "view-in-github",
        "colab_type": "text"
      },
      "source": [
        "<a href=\"https://colab.research.google.com/github/NickTorres04/Programacion-en-Python-UTEC/blob/main/mod2_clase1.ipynb\" target=\"_parent\"><img src=\"https://colab.research.google.com/assets/colab-badge.svg\" alt=\"Open In Colab\"/></a>"
      ]
    },
    {
      "cell_type": "code",
      "execution_count": null,
      "metadata": {
        "id": "2lfdrWcDqteA"
      },
      "outputs": [],
      "source": []
    },
    {
      "cell_type": "markdown",
      "source": [
        "***LISTAS***\n"
      ],
      "metadata": {
        "id": "i35zmbhpq-1z"
      }
    },
    {
      "cell_type": "code",
      "source": [
        "#Lista homogenea\n",
        "numeros = [1,2,3,4]\n",
        "numeros"
      ],
      "metadata": {
        "colab": {
          "base_uri": "https://localhost:8080/"
        },
        "id": "C-jaHSCdrDa7",
        "outputId": "c736a89a-01cd-4233-c6c1-e4e8ef464f4c"
      },
      "execution_count": 1,
      "outputs": [
        {
          "output_type": "execute_result",
          "data": {
            "text/plain": [
              "[1, 2, 3, 4]"
            ]
          },
          "metadata": {},
          "execution_count": 1
        }
      ]
    },
    {
      "cell_type": "code",
      "source": [
        "#Con caracteres\n",
        "letras = [\"a\",\"b\",\"c\",\"d\",\"e\",\"f\"]\n",
        "letras"
      ],
      "metadata": {
        "colab": {
          "base_uri": "https://localhost:8080/"
        },
        "id": "II4FzC4Trw8P",
        "outputId": "195033b6-f75d-43d0-8838-2b97634f9a3c"
      },
      "execution_count": 2,
      "outputs": [
        {
          "output_type": "execute_result",
          "data": {
            "text/plain": [
              "['a', 'b', 'c', 'd', 'e', 'f']"
            ]
          },
          "metadata": {},
          "execution_count": 2
        }
      ]
    },
    {
      "cell_type": "code",
      "source": [
        "#Lista Heterogenea\n",
        "datos = [\"a\",2,\"c\",4,\"f\",True,-14.5]\n"
      ],
      "metadata": {
        "id": "wFFdWg98r8Tx"
      },
      "execution_count": null,
      "outputs": []
    }
  ]
}
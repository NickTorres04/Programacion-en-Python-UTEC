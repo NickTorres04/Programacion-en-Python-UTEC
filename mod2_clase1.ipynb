{
  "nbformat": 4,
  "nbformat_minor": 0,
  "metadata": {
    "colab": {
      "provenance": [],
      "authorship_tag": "ABX9TyPwYPJDz1xcnmdpkK/PlAGK",
      "include_colab_link": true
    },
    "kernelspec": {
      "name": "python3",
      "display_name": "Python 3"
    },
    "language_info": {
      "name": "python"
    }
  },
  "cells": [
    {
      "cell_type": "markdown",
      "metadata": {
        "id": "view-in-github",
        "colab_type": "text"
      },
      "source": [
        "<a href=\"https://colab.research.google.com/github/NickTorres04/Programacion-en-Python-UTEC/blob/main/mod2_clase1.ipynb\" target=\"_parent\"><img src=\"https://colab.research.google.com/assets/colab-badge.svg\" alt=\"Open In Colab\"/></a>"
      ]
    },
    {
      "cell_type": "code",
      "execution_count": null,
      "metadata": {
        "id": "2lfdrWcDqteA"
      },
      "outputs": [],
      "source": []
    },
    {
      "cell_type": "markdown",
      "source": [
        "***LISTAS***\n"
      ],
      "metadata": {
        "id": "i35zmbhpq-1z"
      }
    },
    {
      "cell_type": "code",
      "source": [
        "#Lista homogenea\n",
        "numeros = [1,2,3,4]\n",
        "numeros"
      ],
      "metadata": {
        "colab": {
          "base_uri": "https://localhost:8080/"
        },
        "id": "C-jaHSCdrDa7",
        "outputId": "c736a89a-01cd-4233-c6c1-e4e8ef464f4c"
      },
      "execution_count": null,
      "outputs": [
        {
          "output_type": "execute_result",
          "data": {
            "text/plain": [
              "[1, 2, 3, 4]"
            ]
          },
          "metadata": {},
          "execution_count": 1
        }
      ]
    },
    {
      "cell_type": "code",
      "source": [
        "#Con caracteres\n",
        "letras = [\"a\",\"b\",\"c\",\"d\",\"e\",\"f\"]\n",
        "letras"
      ],
      "metadata": {
        "colab": {
          "base_uri": "https://localhost:8080/"
        },
        "id": "II4FzC4Trw8P",
        "outputId": "bf46690d-d76d-498a-a700-98c54f6f4807"
      },
      "execution_count": null,
      "outputs": [
        {
          "output_type": "execute_result",
          "data": {
            "text/plain": [
              "['a', 'b', 'c', 'd', 'e', 'f']"
            ]
          },
          "metadata": {},
          "execution_count": 10
        }
      ]
    },
    {
      "cell_type": "code",
      "source": [
        "#Lista Heterogenea\n",
        "datos = [\"a\",2,\"c\",4,\"f\",True,-14.5]\n"
      ],
      "metadata": {
        "id": "wFFdWg98r8Tx"
      },
      "execution_count": null,
      "outputs": []
    },
    {
      "cell_type": "code",
      "source": [
        "datos[2]"
      ],
      "metadata": {
        "id": "bCvmKk7rsjC6",
        "outputId": "030baca4-f551-4866-c8d8-96254a1e7386",
        "colab": {
          "base_uri": "https://localhost:8080/",
          "height": 36
        }
      },
      "execution_count": null,
      "outputs": [
        {
          "output_type": "execute_result",
          "data": {
            "text/plain": [
              "'c'"
            ],
            "application/vnd.google.colaboratory.intrinsic+json": {
              "type": "string"
            }
          },
          "metadata": {},
          "execution_count": 2
        }
      ]
    },
    {
      "cell_type": "code",
      "source": [
        "datos[0:3]"
      ],
      "metadata": {
        "id": "5_-m_48_uLjG",
        "outputId": "c7125157-31e4-4c85-9bb3-92a01f0b0252",
        "colab": {
          "base_uri": "https://localhost:8080/"
        }
      },
      "execution_count": null,
      "outputs": [
        {
          "output_type": "execute_result",
          "data": {
            "text/plain": [
              "['a', 2, 'c']"
            ]
          },
          "metadata": {},
          "execution_count": 3
        }
      ]
    },
    {
      "cell_type": "code",
      "source": [
        "pares = [0,2,4,6,8,10]\n"
      ],
      "metadata": {
        "id": "kT25sf-OxcBA"
      },
      "execution_count": null,
      "outputs": []
    },
    {
      "cell_type": "code",
      "source": [
        "pares.append(12)"
      ],
      "metadata": {
        "id": "rNRZM0XJx2j3"
      },
      "execution_count": null,
      "outputs": []
    },
    {
      "cell_type": "code",
      "source": [
        "pares"
      ],
      "metadata": {
        "id": "pj0PJX5Sx5Nn",
        "outputId": "9aac8a0a-dbf3-494d-a4d8-747543e21ae7",
        "colab": {
          "base_uri": "https://localhost:8080/"
        }
      },
      "execution_count": null,
      "outputs": [
        {
          "output_type": "execute_result",
          "data": {
            "text/plain": [
              "[0, 2, 4, 6, 8, 10, 12]"
            ]
          },
          "metadata": {},
          "execution_count": 6
        }
      ]
    },
    {
      "cell_type": "code",
      "source": [
        "#insert: agregar elementos en una posicion especifica\n",
        "pares.insert(1,100)"
      ],
      "metadata": {
        "id": "yuczTbbhx6zW"
      },
      "execution_count": null,
      "outputs": []
    },
    {
      "cell_type": "code",
      "source": [
        "pares"
      ],
      "metadata": {
        "id": "P_znZeg_yz8r",
        "outputId": "00db5f0a-b026-440c-bd62-eb975c46d2d9",
        "colab": {
          "base_uri": "https://localhost:8080/"
        }
      },
      "execution_count": null,
      "outputs": [
        {
          "output_type": "execute_result",
          "data": {
            "text/plain": [
              "[0, 100, 2, 4, 6, 8, 10, 12]"
            ]
          },
          "metadata": {},
          "execution_count": 8
        }
      ]
    },
    {
      "cell_type": "code",
      "source": [
        "letras.insert(-1,\"AAA\")"
      ],
      "metadata": {
        "id": "DMVvd3FYy1dl"
      },
      "execution_count": null,
      "outputs": []
    },
    {
      "cell_type": "code",
      "source": [
        "letras"
      ],
      "metadata": {
        "id": "sIasCt8vzD0X",
        "outputId": "5c0d72b3-4ba5-4b82-e298-37032632b05e",
        "colab": {
          "base_uri": "https://localhost:8080/"
        }
      },
      "execution_count": null,
      "outputs": [
        {
          "output_type": "execute_result",
          "data": {
            "text/plain": [
              "['c', 'd', 'e', 'AAA', 'f']"
            ]
          },
          "metadata": {},
          "execution_count": 24
        }
      ]
    },
    {
      "cell_type": "code",
      "source": [
        "letras.insert(-0,\"BBB\")"
      ],
      "metadata": {
        "id": "2PNo0bg3zj8N"
      },
      "execution_count": null,
      "outputs": []
    },
    {
      "cell_type": "code",
      "source": [
        "letras"
      ],
      "metadata": {
        "id": "65DvfMOlzmc8",
        "outputId": "a4eb1e44-1774-4ae9-f923-3e355f70cc37",
        "colab": {
          "base_uri": "https://localhost:8080/"
        }
      },
      "execution_count": null,
      "outputs": [
        {
          "output_type": "execute_result",
          "data": {
            "text/plain": [
              "['BBB', 'c', 'd', 'e', 'AAA', 'f']"
            ]
          },
          "metadata": {},
          "execution_count": 26
        }
      ]
    },
    {
      "cell_type": "code",
      "source": [
        "len(letras)"
      ],
      "metadata": {
        "id": "YcFxjUak1uAg",
        "outputId": "1f232f45-98dc-4d59-ba1d-2f417de643d9",
        "colab": {
          "base_uri": "https://localhost:8080/"
        }
      },
      "execution_count": null,
      "outputs": [
        {
          "output_type": "execute_result",
          "data": {
            "text/plain": [
              "6"
            ]
          },
          "metadata": {},
          "execution_count": 27
        }
      ]
    },
    {
      "cell_type": "code",
      "source": [
        "letras[0:3]"
      ],
      "metadata": {
        "id": "TeNoKkb2z69N",
        "outputId": "75125d72-89d3-47ef-a38c-811a7caf2e4b",
        "colab": {
          "base_uri": "https://localhost:8080/"
        }
      },
      "execution_count": null,
      "outputs": [
        {
          "output_type": "execute_result",
          "data": {
            "text/plain": [
              "['BBB', 'a', 'b']"
            ]
          },
          "metadata": {},
          "execution_count": 17
        }
      ]
    },
    {
      "cell_type": "code",
      "source": [
        "letras [:3] =[\"UNO\",\"DOS\",\"TRES\"]"
      ],
      "metadata": {
        "id": "pb8UIEOQ0wEg"
      },
      "execution_count": null,
      "outputs": []
    },
    {
      "cell_type": "code",
      "source": [
        "letras"
      ],
      "metadata": {
        "id": "9r-ZQ9bJ011r",
        "outputId": "346f170e-81b6-4c0b-8391-35efd32d4f1f",
        "colab": {
          "base_uri": "https://localhost:8080/"
        }
      },
      "execution_count": null,
      "outputs": [
        {
          "output_type": "execute_result",
          "data": {
            "text/plain": [
              "['UNO', 'DOS', 'TRES', 'c', 'd', 'e', 'AAA', 'f']"
            ]
          },
          "metadata": {},
          "execution_count": 19
        }
      ]
    },
    {
      "cell_type": "code",
      "source": [
        "letras [:3]=[]"
      ],
      "metadata": {
        "id": "If_P06cq1Wn_"
      },
      "execution_count": null,
      "outputs": []
    },
    {
      "cell_type": "code",
      "source": [
        "letras"
      ],
      "metadata": {
        "id": "9ATSY9zi1aaw",
        "outputId": "88dbb06e-95e8-4f4f-d039-9a4cd9471745",
        "colab": {
          "base_uri": "https://localhost:8080/"
        }
      },
      "execution_count": null,
      "outputs": [
        {
          "output_type": "execute_result",
          "data": {
            "text/plain": [
              "['e', 'AAA', 'f']"
            ]
          },
          "metadata": {},
          "execution_count": 30
        }
      ]
    },
    {
      "cell_type": "code",
      "source": [
        "letras[0]"
      ],
      "metadata": {
        "id": "hPC13T9a1cRn",
        "outputId": "a3c95899-af97-4c2d-f56f-23e3626207c1",
        "colab": {
          "base_uri": "https://localhost:8080/",
          "height": 36
        }
      },
      "execution_count": null,
      "outputs": [
        {
          "output_type": "execute_result",
          "data": {
            "text/plain": [
              "'e'"
            ],
            "application/vnd.google.colaboratory.intrinsic+json": {
              "type": "string"
            }
          },
          "metadata": {},
          "execution_count": 31
        }
      ]
    },
    {
      "cell_type": "code",
      "source": [
        "len(letras)"
      ],
      "metadata": {
        "id": "I1JaAxfV10nw",
        "outputId": "09549d23-94ef-4a27-f794-cac215a57b9d",
        "colab": {
          "base_uri": "https://localhost:8080/"
        }
      },
      "execution_count": null,
      "outputs": [
        {
          "output_type": "execute_result",
          "data": {
            "text/plain": [
              "3"
            ]
          },
          "metadata": {},
          "execution_count": 32
        }
      ]
    },
    {
      "cell_type": "code",
      "source": [
        "#Eliminar elementos de una lista\n",
        "letras"
      ],
      "metadata": {
        "id": "gJlYmi6H2dTx",
        "outputId": "1daf0717-c8b8-4561-dea6-b41281a7f54e",
        "colab": {
          "base_uri": "https://localhost:8080/"
        }
      },
      "execution_count": null,
      "outputs": [
        {
          "output_type": "execute_result",
          "data": {
            "text/plain": [
              "['e', 'AAA', 'f']"
            ]
          },
          "metadata": {},
          "execution_count": 33
        }
      ]
    },
    {
      "cell_type": "code",
      "source": [
        "letras.pop(2)"
      ],
      "metadata": {
        "id": "O984_D833Edy",
        "outputId": "d938a8ab-d31f-457d-a406-bffc06305ffb",
        "colab": {
          "base_uri": "https://localhost:8080/",
          "height": 36
        }
      },
      "execution_count": null,
      "outputs": [
        {
          "output_type": "execute_result",
          "data": {
            "text/plain": [
              "'f'"
            ],
            "application/vnd.google.colaboratory.intrinsic+json": {
              "type": "string"
            }
          },
          "metadata": {},
          "execution_count": 35
        }
      ]
    },
    {
      "cell_type": "code",
      "source": [
        "letras"
      ],
      "metadata": {
        "id": "o3JjzpiC3Kal",
        "outputId": "04433eed-505e-426a-8ff8-5cb63b298d21",
        "colab": {
          "base_uri": "https://localhost:8080/"
        }
      },
      "execution_count": null,
      "outputs": [
        {
          "output_type": "execute_result",
          "data": {
            "text/plain": [
              "['e', 'AAA']"
            ]
          },
          "metadata": {},
          "execution_count": 36
        }
      ]
    },
    {
      "cell_type": "code",
      "source": [
        "letras.remove(\"e\")"
      ],
      "metadata": {
        "id": "ZkHYG76H4zkW"
      },
      "execution_count": null,
      "outputs": []
    },
    {
      "cell_type": "code",
      "source": [
        "letras"
      ],
      "metadata": {
        "colab": {
          "base_uri": "https://localhost:8080/"
        },
        "id": "YTsvhxWS42vv",
        "outputId": "18328f64-5a20-405e-cb9d-85a7e210d09b"
      },
      "execution_count": null,
      "outputs": [
        {
          "output_type": "execute_result",
          "data": {
            "text/plain": [
              "['AAA']"
            ]
          },
          "metadata": {},
          "execution_count": 41
        }
      ]
    },
    {
      "cell_type": "code",
      "source": [
        "pares"
      ],
      "metadata": {
        "colab": {
          "base_uri": "https://localhost:8080/"
        },
        "id": "AxhBnfJL3n8h",
        "outputId": "14e30700-7e5a-4c5d-d23a-d7eda9ab8126"
      },
      "execution_count": null,
      "outputs": [
        {
          "output_type": "execute_result",
          "data": {
            "text/plain": [
              "[0, 100, 2, 4, 6, 8, 10, 12]"
            ]
          },
          "metadata": {},
          "execution_count": 37
        }
      ]
    },
    {
      "cell_type": "code",
      "source": [
        "pares.remove(100)\n",
        "#Eliminas un valor pero por nombre."
      ],
      "metadata": {
        "id": "kXhdk7jM4sQ2"
      },
      "execution_count": null,
      "outputs": []
    },
    {
      "cell_type": "code",
      "source": [
        "pares"
      ],
      "metadata": {
        "colab": {
          "base_uri": "https://localhost:8080/"
        },
        "id": "7NYwr9yL4vwO",
        "outputId": "dd638e50-8792-4d66-a347-a7bf1ced4fbd"
      },
      "execution_count": null,
      "outputs": [
        {
          "output_type": "execute_result",
          "data": {
            "text/plain": [
              "[0, 2, 4, 6, 8, 10, 12]"
            ]
          },
          "metadata": {},
          "execution_count": 39
        }
      ]
    },
    {
      "cell_type": "code",
      "source": [
        "pares[4:]"
      ],
      "metadata": {
        "colab": {
          "base_uri": "https://localhost:8080/"
        },
        "id": "OxnoMquG5JDN",
        "outputId": "382f4769-0a35-440a-938e-9d066a7a193e"
      },
      "execution_count": null,
      "outputs": [
        {
          "output_type": "execute_result",
          "data": {
            "text/plain": [
              "[8, 10, 12]"
            ]
          },
          "metadata": {},
          "execution_count": 43
        }
      ]
    },
    {
      "cell_type": "code",
      "source": [
        "del pares[4:]"
      ],
      "metadata": {
        "id": "GsqkX-iE5udT"
      },
      "execution_count": null,
      "outputs": []
    },
    {
      "cell_type": "code",
      "source": [
        "pares"
      ],
      "metadata": {
        "colab": {
          "base_uri": "https://localhost:8080/"
        },
        "id": "9FtLSQeJ5wra",
        "outputId": "cae552be-e68c-418d-949d-1f0022d4776e"
      },
      "execution_count": null,
      "outputs": [
        {
          "output_type": "execute_result",
          "data": {
            "text/plain": [
              "[0, 2, 4, 6]"
            ]
          },
          "metadata": {},
          "execution_count": 45
        }
      ]
    },
    {
      "cell_type": "code",
      "source": [
        "#COMO INVERTIR EL ORDEN DE UNA LISTA:\n",
        "pares.reverse()\n",
        "pares"
      ],
      "metadata": {
        "colab": {
          "base_uri": "https://localhost:8080/"
        },
        "id": "M6qQ6sPR-9Jn",
        "outputId": "84adc634-5441-426e-f45b-643f887c68a6"
      },
      "execution_count": null,
      "outputs": [
        {
          "output_type": "execute_result",
          "data": {
            "text/plain": [
              "[6, 4, 2, 0]"
            ]
          },
          "metadata": {},
          "execution_count": 46
        }
      ]
    },
    {
      "cell_type": "code",
      "source": [
        "%whos"
      ],
      "metadata": {
        "colab": {
          "base_uri": "https://localhost:8080/"
        },
        "id": "CSY3FnYN_nLq",
        "outputId": "809db2e5-3db5-4499-ba5a-5c08974b3555"
      },
      "execution_count": null,
      "outputs": [
        {
          "output_type": "stream",
          "name": "stdout",
          "text": [
            "Variable   Type    Data/Info\n",
            "----------------------------\n",
            "datos      list    n=7\n",
            "letras     list    n=1\n",
            "pares      list    n=4\n"
          ]
        }
      ]
    },
    {
      "cell_type": "code",
      "source": [
        "datos.reverse()\n",
        "datos"
      ],
      "metadata": {
        "colab": {
          "base_uri": "https://localhost:8080/"
        },
        "id": "9VS1R-SS_ps_",
        "outputId": "14b3c03c-893a-4e7a-88a2-98d122a247a0"
      },
      "execution_count": null,
      "outputs": [
        {
          "output_type": "execute_result",
          "data": {
            "text/plain": [
              "[-14.5, True, 'f', 4, 'c', 2, 'a']"
            ]
          },
          "metadata": {},
          "execution_count": 48
        }
      ]
    },
    {
      "cell_type": "code",
      "source": [
        "lista_0 = [10,100,1,56,23,120,1000,25,102,3]\n",
        "#ordenarlos de forma ascendente"
      ],
      "metadata": {
        "id": "7V_ppC79Afqi"
      },
      "execution_count": null,
      "outputs": []
    },
    {
      "cell_type": "code",
      "source": [
        "lista_0.sort()\n",
        "lista_0"
      ],
      "metadata": {
        "colab": {
          "base_uri": "https://localhost:8080/"
        },
        "id": "WdjD1YPxArfq",
        "outputId": "85aacf89-9303-4dfd-ea85-e108d52cfd9c"
      },
      "execution_count": null,
      "outputs": [
        {
          "output_type": "execute_result",
          "data": {
            "text/plain": [
              "[1, 3, 10, 23, 25, 56, 100, 102, 120, 1000]"
            ]
          },
          "metadata": {},
          "execution_count": 51
        }
      ]
    },
    {
      "cell_type": "code",
      "source": [
        "lista_0.sort(reverse=True)\n",
        "lista_0"
      ],
      "metadata": {
        "colab": {
          "base_uri": "https://localhost:8080/"
        },
        "id": "Ceh4hw3HBExp",
        "outputId": "eb79ae50-c182-4a07-ce8d-fe577ce70fc8"
      },
      "execution_count": null,
      "outputs": [
        {
          "output_type": "execute_result",
          "data": {
            "text/plain": [
              "[1000, 120, 102, 100, 56, 25, 23, 10, 3, 1]"
            ]
          },
          "metadata": {},
          "execution_count": 55
        }
      ]
    },
    {
      "cell_type": "code",
      "source": [
        "lista_0[0]"
      ],
      "metadata": {
        "colab": {
          "base_uri": "https://localhost:8080/"
        },
        "id": "n_yoIywxBWR4",
        "outputId": "feb2d68f-4f2c-49f6-b2a4-69c6b7509fff"
      },
      "execution_count": null,
      "outputs": [
        {
          "output_type": "execute_result",
          "data": {
            "text/plain": [
              "1000"
            ]
          },
          "metadata": {},
          "execution_count": 58
        }
      ]
    },
    {
      "cell_type": "code",
      "source": [
        "# La funcion in me permite si el elementose encuentra en una lista\n",
        "10 in lista_0"
      ],
      "metadata": {
        "colab": {
          "base_uri": "https://localhost:8080/"
        },
        "id": "mknmVqgoBeCS",
        "outputId": "1d88beb9-ad70-417b-c7cb-8e4e272dd20d"
      },
      "execution_count": null,
      "outputs": [
        {
          "output_type": "execute_result",
          "data": {
            "text/plain": [
              "True"
            ]
          },
          "metadata": {},
          "execution_count": 59
        }
      ]
    },
    {
      "cell_type": "code",
      "source": [
        "55 in lista_0"
      ],
      "metadata": {
        "colab": {
          "base_uri": "https://localhost:8080/"
        },
        "id": "e-GSK6JsBnKe",
        "outputId": "33af050b-b37c-4718-afee-2c1ba128e238"
      },
      "execution_count": null,
      "outputs": [
        {
          "output_type": "execute_result",
          "data": {
            "text/plain": [
              "False"
            ]
          },
          "metadata": {},
          "execution_count": 60
        }
      ]
    },
    {
      "cell_type": "code",
      "source": [
        "lista_0.index(23,3,7)\n",
        "# ( DATO, RANGO1, RANGOFINAL)"
      ],
      "metadata": {
        "colab": {
          "base_uri": "https://localhost:8080/"
        },
        "id": "2ZFIW_XDCi1F",
        "outputId": "de1f6156-36a0-4539-e1db-769aa9d20ef3"
      },
      "execution_count": null,
      "outputs": [
        {
          "output_type": "execute_result",
          "data": {
            "text/plain": [
              "6"
            ]
          },
          "metadata": {},
          "execution_count": 62
        }
      ]
    },
    {
      "cell_type": "code",
      "source": [
        "lista_0.index(10,6,9)"
      ],
      "metadata": {
        "colab": {
          "base_uri": "https://localhost:8080/"
        },
        "id": "D-l03-FfEBHL",
        "outputId": "ddfc5620-db97-4857-9273-9a5297661d27"
      },
      "execution_count": null,
      "outputs": [
        {
          "output_type": "execute_result",
          "data": {
            "text/plain": [
              "7"
            ]
          },
          "metadata": {},
          "execution_count": 63
        }
      ]
    },
    {
      "cell_type": "code",
      "source": [
        "## CONCATENAR LISTAS:\n",
        "marcas_fab =[\"apple\",\"samsung\",\"xiaomi\",\"Nokia\"]"
      ],
      "metadata": {
        "id": "EwNLfszdEqNK"
      },
      "execution_count": null,
      "outputs": []
    },
    {
      "cell_type": "code",
      "source": [
        "marcas_fab"
      ],
      "metadata": {
        "colab": {
          "base_uri": "https://localhost:8080/"
        },
        "id": "MKbwh5ThFXys",
        "outputId": "8959f140-7658-46c5-9019-f037a87567fd"
      },
      "execution_count": null,
      "outputs": [
        {
          "output_type": "execute_result",
          "data": {
            "text/plain": [
              "['apple', 'samsung', 'xiaomi', 'Nokia']"
            ]
          },
          "metadata": {},
          "execution_count": 65
        }
      ]
    },
    {
      "cell_type": "code",
      "source": [
        "otras_marcas = [\"Nextel\",\"Oppo\",\"Motorola\"]"
      ],
      "metadata": {
        "id": "0EKLFhrIFZbD"
      },
      "execution_count": null,
      "outputs": []
    },
    {
      "cell_type": "code",
      "source": [
        "otras_marcas"
      ],
      "metadata": {
        "colab": {
          "base_uri": "https://localhost:8080/"
        },
        "id": "KEK0WuyrGAJn",
        "outputId": "0d7a4bef-3849-4ce7-d4f1-3c52927ee329"
      },
      "execution_count": null,
      "outputs": [
        {
          "output_type": "execute_result",
          "data": {
            "text/plain": [
              "['Nextel', 'Oppo', 'Motorola']"
            ]
          },
          "metadata": {},
          "execution_count": 68
        }
      ]
    },
    {
      "cell_type": "code",
      "source": [
        "range(30,100,10) #INICIO, FIN Y SALTO\n"
      ],
      "metadata": {
        "colab": {
          "base_uri": "https://localhost:8080/"
        },
        "id": "9BQu4DnrGKuq",
        "outputId": "f4a63081-25de-4ee9-fede-075821d84bfb"
      },
      "execution_count": null,
      "outputs": [
        {
          "output_type": "execute_result",
          "data": {
            "text/plain": [
              "range(30, 100, 10)"
            ]
          },
          "metadata": {},
          "execution_count": 69
        }
      ]
    },
    {
      "cell_type": "code",
      "source": [
        "list(range(30,100,10) )"
      ],
      "metadata": {
        "colab": {
          "base_uri": "https://localhost:8080/"
        },
        "id": "uuW-SLxAGpF3",
        "outputId": "2f5f4259-0687-4a9b-ba8e-b15b6a4330f3"
      },
      "execution_count": null,
      "outputs": [
        {
          "output_type": "execute_result",
          "data": {
            "text/plain": [
              "[30, 40, 50, 60, 70, 80, 90]"
            ]
          },
          "metadata": {},
          "execution_count": 70
        }
      ]
    },
    {
      "cell_type": "code",
      "source": [
        "numeros = [10,20,30,40,50,60,70,80,90,100]"
      ],
      "metadata": {
        "id": "nZqelfrpGyZN"
      },
      "execution_count": null,
      "outputs": []
    },
    {
      "cell_type": "code",
      "source": [
        "sum(numeros)"
      ],
      "metadata": {
        "colab": {
          "base_uri": "https://localhost:8080/"
        },
        "id": "_XmU3v12HNgd",
        "outputId": "24e52531-d802-4b7c-d682-f31169a99209"
      },
      "execution_count": null,
      "outputs": [
        {
          "output_type": "execute_result",
          "data": {
            "text/plain": [
              "550"
            ]
          },
          "metadata": {},
          "execution_count": 73
        }
      ]
    },
    {
      "cell_type": "code",
      "source": [
        "min(numeros)"
      ],
      "metadata": {
        "colab": {
          "base_uri": "https://localhost:8080/"
        },
        "id": "90eYEcVbHRrM",
        "outputId": "b7d1a98e-1240-4fec-c815-b2302bf361d1"
      },
      "execution_count": null,
      "outputs": [
        {
          "output_type": "execute_result",
          "data": {
            "text/plain": [
              "10"
            ]
          },
          "metadata": {},
          "execution_count": 74
        }
      ]
    },
    {
      "cell_type": "code",
      "source": [
        "max(numeros)"
      ],
      "metadata": {
        "colab": {
          "base_uri": "https://localhost:8080/"
        },
        "id": "BrZs-2h_HUZb",
        "outputId": "73d5f6e1-b5c1-41d0-862d-96a8a9a6ec4c"
      },
      "execution_count": null,
      "outputs": [
        {
          "output_type": "execute_result",
          "data": {
            "text/plain": [
              "100"
            ]
          },
          "metadata": {},
          "execution_count": 75
        }
      ]
    },
    {
      "cell_type": "code",
      "source": [
        "promedio = sum(numeros) / len(numeros)\n",
        "promedio"
      ],
      "metadata": {
        "colab": {
          "base_uri": "https://localhost:8080/"
        },
        "id": "fKXW5RBJHXS-",
        "outputId": "7e52c548-296a-4954-cdc5-be388127ab93"
      },
      "execution_count": null,
      "outputs": [
        {
          "output_type": "execute_result",
          "data": {
            "text/plain": [
              "55.0"
            ]
          },
          "metadata": {},
          "execution_count": 81
        }
      ]
    },
    {
      "cell_type": "markdown",
      "source": [
        "### LISTA DE LISTAS\n"
      ],
      "metadata": {
        "id": "hlpE1epUIxOd"
      }
    },
    {
      "cell_type": "code",
      "source": [
        "a = [1,2,3]\n",
        "b = [4,5,6]\n",
        "c = [7,8,9]"
      ],
      "metadata": {
        "id": "nOF-I0-sIz4v"
      },
      "execution_count": null,
      "outputs": []
    },
    {
      "cell_type": "code",
      "source": [
        "r = [a,b,c]"
      ],
      "metadata": {
        "id": "16agrkb7JGYc"
      },
      "execution_count": null,
      "outputs": []
    },
    {
      "cell_type": "code",
      "source": [
        "r"
      ],
      "metadata": {
        "colab": {
          "base_uri": "https://localhost:8080/"
        },
        "id": "U-Z0mRUKJJrj",
        "outputId": "f34508c0-0d0e-4300-b643-d56d6caf9110"
      },
      "execution_count": null,
      "outputs": [
        {
          "output_type": "execute_result",
          "data": {
            "text/plain": [
              "[[1, 2, 3], [4, 5, 6], [7, 8, 9]]"
            ]
          },
          "metadata": {},
          "execution_count": 84
        }
      ]
    },
    {
      "cell_type": "code",
      "source": [
        "r[2]"
      ],
      "metadata": {
        "colab": {
          "base_uri": "https://localhost:8080/"
        },
        "id": "ST1LlsMCJcPw",
        "outputId": "5ac29353-59f8-4661-866f-fcfab8c07c26"
      },
      "execution_count": null,
      "outputs": [
        {
          "output_type": "execute_result",
          "data": {
            "text/plain": [
              "[7, 8, 9]"
            ]
          },
          "metadata": {},
          "execution_count": 86
        }
      ]
    },
    {
      "cell_type": "code",
      "source": [
        "r[1][1]"
      ],
      "metadata": {
        "colab": {
          "base_uri": "https://localhost:8080/"
        },
        "id": "iLdNoTkeJgOj",
        "outputId": "bf00bb92-0536-4443-f2bd-d598db5cdc7c"
      },
      "execution_count": null,
      "outputs": [
        {
          "output_type": "execute_result",
          "data": {
            "text/plain": [
              "5"
            ]
          },
          "metadata": {},
          "execution_count": 88
        }
      ]
    },
    {
      "cell_type": "code",
      "source": [
        "r[2][2] ## prof +51997620644"
      ],
      "metadata": {
        "colab": {
          "base_uri": "https://localhost:8080/"
        },
        "id": "EydDoGu7Jv69",
        "outputId": "7fc937a8-4a67-4cf7-ee50-ba5f5b7ae831"
      },
      "execution_count": null,
      "outputs": [
        {
          "output_type": "execute_result",
          "data": {
            "text/plain": [
              "9"
            ]
          },
          "metadata": {},
          "execution_count": 89
        }
      ]
    },
    {
      "cell_type": "markdown",
      "source": [
        "## Clase 2"
      ],
      "metadata": {
        "id": "-egqjxOi8Ycy"
      }
    },
    {
      "cell_type": "markdown",
      "source": [
        "### Pregunta 1\n",
        "1.1. Crear una lista que inicie en el número 12 y acabe en el número 200, en su construcción se considere saltos de 2 en 2, guarde la lista con el nombre \"lista_x\".\n",
        "\n",
        "1.2. Con la lista_x, eliminar el primer y el último valor, los valores eliminados se deberán almacenar en otra lista llamada numeros_eliminados.\n",
        "\n",
        "1.3. Muestre los valores de la lista numeros_eliminados.\n",
        "\n",
        "1.4. Muestre los valores mínimos y máximos de la lista_x."
      ],
      "metadata": {
        "id": "qwJt_e5t8t2K"
      }
    },
    {
      "cell_type": "code",
      "source": [
        "# 1.1\n",
        "lista_x  = list(range(12, 201,2))"
      ],
      "metadata": {
        "id": "PJcaK2fL8xDQ"
      },
      "execution_count": null,
      "outputs": []
    },
    {
      "cell_type": "code",
      "source": [
        "#1.2\n",
        "ultimo_x = lista_x.pop()\n",
        "primero_x = lista_x.pop(0)\n"
      ],
      "metadata": {
        "id": "byElQLk69_0d"
      },
      "execution_count": null,
      "outputs": []
    },
    {
      "cell_type": "code",
      "source": [
        "#1.3\n",
        "print(ultimo_x )\n",
        "print(primero_x)\n"
      ],
      "metadata": {
        "colab": {
          "base_uri": "https://localhost:8080/"
        },
        "id": "ldSZVW-V-KcB",
        "outputId": "af204b31-8233-463f-a522-72cd28781fb2"
      },
      "execution_count": null,
      "outputs": [
        {
          "output_type": "stream",
          "name": "stdout",
          "text": [
            "200\n",
            "12\n"
          ]
        }
      ]
    },
    {
      "cell_type": "code",
      "source": [
        "#1.4\n",
        "valor_max= max(lista_x)\n",
        "valor_min = min(lista_x)"
      ],
      "metadata": {
        "id": "ZkkqBSh8-Qv1"
      },
      "execution_count": null,
      "outputs": []
    },
    {
      "cell_type": "code",
      "source": [
        "valor_max"
      ],
      "metadata": {
        "colab": {
          "base_uri": "https://localhost:8080/"
        },
        "id": "vZyGlz85-cjL",
        "outputId": "4a90797f-d2eb-4c53-fd59-d0097f07f627"
      },
      "execution_count": null,
      "outputs": [
        {
          "output_type": "execute_result",
          "data": {
            "text/plain": [
              "198"
            ]
          },
          "metadata": {},
          "execution_count": 37
        }
      ]
    },
    {
      "cell_type": "code",
      "source": [
        "valor_min"
      ],
      "metadata": {
        "colab": {
          "base_uri": "https://localhost:8080/"
        },
        "id": "XACk0PHs-fAo",
        "outputId": "744196db-5f9c-4c7d-b191-b469476806fb"
      },
      "execution_count": null,
      "outputs": [
        {
          "output_type": "execute_result",
          "data": {
            "text/plain": [
              "14"
            ]
          },
          "metadata": {},
          "execution_count": 38
        }
      ]
    },
    {
      "cell_type": "code",
      "source": [
        "##lista_x =[]\n",
        "##i=12\n",
        "##while i<201:\n",
        "  ##lista_x.append(i)\n",
        "  ##i+=2\n",
        "##print(lista_x)"
      ],
      "metadata": {
        "id": "j-Tj45-I_oS6"
      },
      "execution_count": null,
      "outputs": []
    },
    {
      "cell_type": "markdown",
      "source": [
        "### Pregunta 2\n",
        "2.1. Determine el número de elementos de la lista a crear.\n",
        "2.2. Ingrese los valores de la lista a crear.\n",
        "2.3. Almacene los valores en una lista.\n",
        "2.4. Muestre los valores de la lista.\n",
        "2.5. Calcule y muestre los valores mínimo, máximo y promedio de los valores de la lista."
      ],
      "metadata": {
        "id": "4ooSXLqlEuvM"
      }
    },
    {
      "cell_type": "code",
      "source": [
        "#1\n",
        "lista_element = []\n",
        "cant_element = int(input(\"Ingrese el numero de elementos que desea en la lista: \"))\n",
        "inicio = 1\n",
        "while inicio <= cant_element:\n",
        "  valores = int(input(\"Ingrese el valor a almacenar: \"))\n",
        "  lista_element.append(valores)\n",
        "  inicio=inicio+1\n",
        "print(f\"valor maximo de la lista {max(lista_element)}\")\n",
        "print(f\"valor minimo de la lista {min(lista_element)}\")\n",
        "suma = sum(lista_element)\n",
        "cantidad = len(lista_element)\n",
        "print(f\"El valor promedio de la lista es: {suma/cantidad}\")"
      ],
      "metadata": {
        "colab": {
          "base_uri": "https://localhost:8080/"
        },
        "id": "WixWUYIvEwQj",
        "outputId": "bf16d6c6-4100-4da2-f4e4-e3feff9e9fc9"
      },
      "execution_count": null,
      "outputs": [
        {
          "output_type": "stream",
          "name": "stdout",
          "text": [
            "Ingrese el numero de elementos que desea en la lista: 5\n",
            "Ingrese el valor a almacenar: 1\n",
            "Ingrese el valor a almacenar: 3\n",
            "Ingrese el valor a almacenar: 4\n",
            "Ingrese el valor a almacenar: 5\n",
            "Ingrese el valor a almacenar: 7\n",
            "valor maximo de la lista 7\n",
            "valor minimo de la lista 1\n",
            "El valor promedio de la lista es: 4.0\n"
          ]
        }
      ]
    },
    {
      "cell_type": "markdown",
      "source": [
        "### Pregunta 3\n"
      ],
      "metadata": {
        "id": "zSGBsL6BLlZx"
      }
    },
    {
      "cell_type": "code",
      "source": [
        "lista_x = [\"A\",\"B\",\"b\",\"c\",\"E\",\"E\",\"f\"]\n",
        "x_eliminar = input(\"Ingrese el elemento a eliminar: \")\n",
        "lista_x = [x for x in lista_x if x != x_eliminar] # elemento for elemento\n",
        "print(lista_x)"
      ],
      "metadata": {
        "id": "6Nodc5KLMKrY",
        "outputId": "b9a522c4-6354-4d84-e5c6-f0753fabf914",
        "colab": {
          "base_uri": "https://localhost:8080/"
        }
      },
      "execution_count": null,
      "outputs": [
        {
          "output_type": "stream",
          "name": "stdout",
          "text": [
            "Ingrese el elemento a eliminar: 3\n",
            "['A', 'B', 'b', 'c', 'E', 'E', 'f']\n"
          ]
        }
      ]
    },
    {
      "cell_type": "code",
      "source": [
        "lista_x = [\"A\",\"B\",\"b\",\"c\",\"E\",\"E\",\"f\"]\n",
        "print(lista_x)\n",
        "eliminado = input(\"Ingrese el elemento a eliminar:\")\n",
        "if eliminado in lista_x:\n",
        "  print(f\"ELIMINACION ACTIVADA PARA: {eliminado}\")\n",
        "  lista_x.remove(eliminado)\n",
        "else :\n",
        "  print(\"No se encuentra ese elemento. \")\n",
        "print(lista_x)"
      ],
      "metadata": {
        "id": "fOQVK0EQNhXN",
        "outputId": "0fbb8f4b-cb70-4501-abd4-0058e2c8a11f",
        "colab": {
          "base_uri": "https://localhost:8080/"
        }
      },
      "execution_count": null,
      "outputs": [
        {
          "output_type": "stream",
          "name": "stdout",
          "text": [
            "['A', 'B', 'b', 'c', 'E', 'E', 'f']\n",
            "Ingrese el elemento a eliminar:A\n",
            "ELIMINACION ACTIVADA PARA: A\n",
            "['B', 'b', 'c', 'E', 'E', 'f']\n"
          ]
        }
      ]
    },
    {
      "cell_type": "markdown",
      "source": [
        "### TUPLA"
      ],
      "metadata": {
        "id": "vN8XxxurVNFS"
      }
    },
    {
      "cell_type": "code",
      "source": [
        "tupla_0 = (1,)"
      ],
      "metadata": {
        "id": "GS7Hg_TZVYQx"
      },
      "execution_count": null,
      "outputs": []
    },
    {
      "cell_type": "markdown",
      "source": [
        "#### TUPLA HOMOGENEA"
      ],
      "metadata": {
        "id": "Sv__Lc8dVrIh"
      }
    },
    {
      "cell_type": "code",
      "source": [
        "tupla_1 = (2.0, 2.6, 6.9, 3.3)\n",
        "tupla_1"
      ],
      "metadata": {
        "id": "SHMrX9ieVyZB",
        "outputId": "0dcd626e-0cd4-4296-d9a6-2ddc7baba646",
        "colab": {
          "base_uri": "https://localhost:8080/"
        }
      },
      "execution_count": null,
      "outputs": [
        {
          "output_type": "execute_result",
          "data": {
            "text/plain": [
              "(2.0, 2.6, 6.9, 3.3)"
            ]
          },
          "metadata": {},
          "execution_count": 55
        }
      ]
    },
    {
      "cell_type": "markdown",
      "source": [
        "#### TUPLA HETEROGENEA"
      ],
      "metadata": {
        "id": "TzqGXTxpV7Zr"
      }
    },
    {
      "cell_type": "code",
      "source": [
        "tupla_2 = (3,True, False,\"HOLA\",2.22)\n",
        "tupla_2"
      ],
      "metadata": {
        "id": "e4P9OuMeV_MR",
        "outputId": "e3797eb4-d951-46e7-bc47-6aeb29f71735",
        "colab": {
          "base_uri": "https://localhost:8080/"
        }
      },
      "execution_count": null,
      "outputs": [
        {
          "output_type": "execute_result",
          "data": {
            "text/plain": [
              "(3, True, False, 'HOLA', 2.22)"
            ]
          },
          "metadata": {},
          "execution_count": 56
        }
      ]
    },
    {
      "cell_type": "code",
      "source": [
        "tupla_2[3]"
      ],
      "metadata": {
        "id": "27Gg3raEVd7i",
        "outputId": "1601657e-8433-48c6-bf6f-040cb122754f",
        "colab": {
          "base_uri": "https://localhost:8080/",
          "height": 36
        }
      },
      "execution_count": null,
      "outputs": [
        {
          "output_type": "execute_result",
          "data": {
            "text/plain": [
              "'HOLA'"
            ],
            "application/vnd.google.colaboratory.intrinsic+json": {
              "type": "string"
            }
          },
          "metadata": {},
          "execution_count": 58
        }
      ]
    },
    {
      "cell_type": "code",
      "source": [
        "tupla_5 = (1,2,3,4,5,6,7,8,9)\n",
        "print(tupla_5[0])\n",
        "print(tupla_5[1])\n",
        "print(tupla_5[3:5])"
      ],
      "metadata": {
        "id": "DGZVTOS1YX07",
        "outputId": "dae68430-9b70-41fc-eebe-071afc0fc8e9",
        "colab": {
          "base_uri": "https://localhost:8080/"
        }
      },
      "execution_count": null,
      "outputs": [
        {
          "output_type": "stream",
          "name": "stdout",
          "text": [
            "1\n",
            "2\n",
            "(4, 5)\n"
          ]
        }
      ]
    },
    {
      "cell_type": "markdown",
      "source": [
        "### Pregunta 4\n",
        "4.1. Crear una tupla que contenga el nombre de 10 paises.\n",
        "4.2. Mostrar el segundo país ingresado en la tupla, teniendo una selección previa hecha con saltos de 2 en 2."
      ],
      "metadata": {
        "id": "6cNDf-yVaCHl"
      }
    },
    {
      "cell_type": "code",
      "source": [
        "countries = (\"Peru\", \"Brasil\", \"Alemania\", \"Colombia\", \"Argentina\", \"Ecuador\", \"Uruguay\", \"Rusia\", \"Bolivia\", \"Venezuela\")"
      ],
      "metadata": {
        "id": "qTQ12aqFaQ2_"
      },
      "execution_count": 17,
      "outputs": []
    },
    {
      "cell_type": "code",
      "source": [
        "#segundo de la tupla:\n",
        "print(f\"Numero 2: {countries[1]}\")\n",
        "print(f\"Numero 2: {countries[-9]}\")\n",
        "#Salto 2 en 2 equisde no entendi\n",
        "countries[1::2]"
      ],
      "metadata": {
        "id": "5VXzWDIOalZ3",
        "outputId": "3630be84-d642-4dc1-c1e7-74f7ddb30472",
        "colab": {
          "base_uri": "https://localhost:8080/"
        }
      },
      "execution_count": 18,
      "outputs": [
        {
          "output_type": "stream",
          "name": "stdout",
          "text": [
            "Numero 2: Brasil\n",
            "Numero 2: Brasil\n"
          ]
        },
        {
          "output_type": "execute_result",
          "data": {
            "text/plain": [
              "('Brasil', 'Colombia', 'Ecuador', 'Rusia', 'Venezuela')"
            ]
          },
          "metadata": {},
          "execution_count": 18
        }
      ]
    },
    {
      "cell_type": "code",
      "source": [
        "countries[1:]"
      ],
      "metadata": {
        "id": "Q8ajAXv7djhx",
        "outputId": "81313883-f66a-42ec-89e2-86b29b0c295f",
        "colab": {
          "base_uri": "https://localhost:8080/"
        }
      },
      "execution_count": 19,
      "outputs": [
        {
          "output_type": "execute_result",
          "data": {
            "text/plain": [
              "('Brasil',\n",
              " 'Alemania',\n",
              " 'Colombia',\n",
              " 'Argentina',\n",
              " 'Ecuador',\n",
              " 'Uruguay',\n",
              " 'Rusia',\n",
              " 'Bolivia',\n",
              " 'Venezuela')"
            ]
          },
          "metadata": {},
          "execution_count": 19
        }
      ]
    },
    {
      "cell_type": "code",
      "source": [
        "tupla_vocales =(\"a\",\"e\",\"i\",\"o\",\"u\")"
      ],
      "metadata": {
        "id": "nvV8o02eso4m"
      },
      "execution_count": 2,
      "outputs": []
    },
    {
      "cell_type": "code",
      "source": [
        "tupla_vocales[0]"
      ],
      "metadata": {
        "id": "RxNgKat8vqHJ",
        "outputId": "1896dd12-5523-4637-fcf3-7e4869c48f24",
        "colab": {
          "base_uri": "https://localhost:8080/",
          "height": 36
        }
      },
      "execution_count": 3,
      "outputs": [
        {
          "output_type": "execute_result",
          "data": {
            "text/plain": [
              "'a'"
            ],
            "application/vnd.google.colaboratory.intrinsic+json": {
              "type": "string"
            }
          },
          "metadata": {},
          "execution_count": 3
        }
      ]
    },
    {
      "cell_type": "markdown",
      "source": [
        "### Desempaquetado de Tuplas"
      ],
      "metadata": {
        "id": "rqSONBIWwl2r"
      }
    },
    {
      "cell_type": "code",
      "source": [
        "var_1, var_2 = \"A\",\"B\""
      ],
      "metadata": {
        "id": "uxGj9NilwoR8"
      },
      "execution_count": 4,
      "outputs": []
    },
    {
      "cell_type": "code",
      "source": [
        "var_1"
      ],
      "metadata": {
        "id": "bdqRvupvxinZ",
        "outputId": "52d054bc-59aa-429f-e6a6-3148d3824faa",
        "colab": {
          "base_uri": "https://localhost:8080/",
          "height": 36
        }
      },
      "execution_count": 5,
      "outputs": [
        {
          "output_type": "execute_result",
          "data": {
            "text/plain": [
              "'A'"
            ],
            "application/vnd.google.colaboratory.intrinsic+json": {
              "type": "string"
            }
          },
          "metadata": {},
          "execution_count": 5
        }
      ]
    },
    {
      "cell_type": "code",
      "source": [
        "var_2"
      ],
      "metadata": {
        "id": "LS7zKbd1xkmS",
        "outputId": "f13f1a93-7255-47f7-a68d-9fa14a6e5010",
        "colab": {
          "base_uri": "https://localhost:8080/",
          "height": 36
        }
      },
      "execution_count": 6,
      "outputs": [
        {
          "output_type": "execute_result",
          "data": {
            "text/plain": [
              "'B'"
            ],
            "application/vnd.google.colaboratory.intrinsic+json": {
              "type": "string"
            }
          },
          "metadata": {},
          "execution_count": 6
        }
      ]
    },
    {
      "cell_type": "code",
      "source": [
        "tupla_vocales[0:3]"
      ],
      "metadata": {
        "id": "uvdZvzRmyLKk",
        "outputId": "8330e13c-25a4-4433-d870-ddb92b3ede25",
        "colab": {
          "base_uri": "https://localhost:8080/"
        }
      },
      "execution_count": 7,
      "outputs": [
        {
          "output_type": "execute_result",
          "data": {
            "text/plain": [
              "('a', 'e', 'i')"
            ]
          },
          "metadata": {},
          "execution_count": 7
        }
      ]
    },
    {
      "cell_type": "code",
      "source": [
        "x,y,z =tupla_vocales[0:3]"
      ],
      "metadata": {
        "id": "hHE--dQpyPgO"
      },
      "execution_count": 8,
      "outputs": []
    },
    {
      "cell_type": "code",
      "source": [
        "#tupla de 3 elementos\n",
        "#primer elemento de la tupla es una lista\n",
        "#Segundo elemento es un diccionario\n",
        "#tercer elemento es una tupla\n",
        "tupla_6 = ([1,2,3],{\"UNO\":1,\"DOS\":2},(3,2))"
      ],
      "metadata": {
        "id": "jbngmMGeyUbp"
      },
      "execution_count": 10,
      "outputs": []
    },
    {
      "cell_type": "code",
      "source": [
        "print(f\"posicion O :{tupla_6[0]}\")\n",
        "print(f\"posicion 1 :{tupla_6[1]}\")\n",
        "print(f\"posicion 2 :{tupla_6[2]}\")"
      ],
      "metadata": {
        "id": "MpRNmXLt0brn",
        "outputId": "197b9072-1387-4ef0-b96d-150d5fcd52cc",
        "colab": {
          "base_uri": "https://localhost:8080/"
        }
      },
      "execution_count": 14,
      "outputs": [
        {
          "output_type": "stream",
          "name": "stdout",
          "text": [
            "posicion O :[1, 2, 3]\n",
            "posicion 1 :{'UNO': 1, 'DOS': 2}\n",
            "posicion 2 :(3, 2)\n"
          ]
        }
      ]
    },
    {
      "cell_type": "code",
      "source": [
        "countries"
      ],
      "metadata": {
        "id": "CMzUlArd1mEI",
        "outputId": "5c1ca317-ad9c-46d2-a7c2-ad0b60092cad",
        "colab": {
          "base_uri": "https://localhost:8080/"
        }
      },
      "execution_count": 20,
      "outputs": [
        {
          "output_type": "execute_result",
          "data": {
            "text/plain": [
              "('Peru',\n",
              " 'Brasil',\n",
              " 'Alemania',\n",
              " 'Colombia',\n",
              " 'Argentina',\n",
              " 'Ecuador',\n",
              " 'Uruguay',\n",
              " 'Rusia',\n",
              " 'Bolivia',\n",
              " 'Venezuela')"
            ]
          },
          "metadata": {},
          "execution_count": 20
        }
      ]
    },
    {
      "cell_type": "code",
      "source": [
        "for i in countries:\n",
        "  print(i)\n",
        "#para todo i que va recorrer la tupla countries"
      ],
      "metadata": {
        "id": "77PpMQRE1oeV",
        "outputId": "1695ba1b-251c-42e0-ee0d-4b1b0589b87a",
        "colab": {
          "base_uri": "https://localhost:8080/"
        }
      },
      "execution_count": 23,
      "outputs": [
        {
          "output_type": "stream",
          "name": "stdout",
          "text": [
            "Peru\n",
            "Brasil\n",
            "Alemania\n",
            "Colombia\n",
            "Argentina\n",
            "Ecuador\n",
            "Uruguay\n",
            "Rusia\n",
            "Bolivia\n",
            "Venezuela\n"
          ]
        }
      ]
    },
    {
      "cell_type": "markdown",
      "source": [
        "### DESEMPAQUETADO DE TUPLAS CON FOR"
      ],
      "metadata": {
        "id": "KwSCqWPM2JOP"
      }
    },
    {
      "cell_type": "code",
      "source": [
        "tupla_7 = ((\"A001\",\"APPLE\",\"RED\"),(\"A002\",\"PERA\",\"GREEN\"))"
      ],
      "metadata": {
        "id": "Wkkd1wLu2I1-"
      },
      "execution_count": 24,
      "outputs": []
    },
    {
      "cell_type": "code",
      "source": [
        "for i in tupla_7:\n",
        "  print(i)"
      ],
      "metadata": {
        "id": "QPItM7nR2j5T",
        "outputId": "91a2fa50-04e0-4870-cd36-1300b41c3606",
        "colab": {
          "base_uri": "https://localhost:8080/"
        }
      },
      "execution_count": 25,
      "outputs": [
        {
          "output_type": "stream",
          "name": "stdout",
          "text": [
            "('A001', 'APPLE', 'RED')\n",
            "('A002', 'PERA', 'GREEN')\n"
          ]
        }
      ]
    },
    {
      "cell_type": "code",
      "source": [
        "for cod,fruta,col in tupla_7:\n",
        "  print(f\"La fruta {fruta},con el codigo {cod}, es de color {col}\")"
      ],
      "metadata": {
        "id": "CHN7NoGd21iU",
        "outputId": "f052e2f5-8328-4c27-ff86-11b00fa44412",
        "colab": {
          "base_uri": "https://localhost:8080/"
        }
      },
      "execution_count": 30,
      "outputs": [
        {
          "output_type": "stream",
          "name": "stdout",
          "text": [
            "La fruta APPLE,con el codigo A001, es de color RED\n",
            "La fruta PERA,con el codigo A002, es de color GREEN\n"
          ]
        }
      ]
    },
    {
      "cell_type": "markdown",
      "source": [
        "### FUNTION TUPLE"
      ],
      "metadata": {
        "id": "ZsexaeEF3ouU"
      }
    },
    {
      "cell_type": "code",
      "source": [
        "#crear tupla a partir de una lista:\n",
        "tupla_8 = tuple([1,2,3,4,5])\n",
        "print(tupla_8)\n",
        "type (tupla_8)"
      ],
      "metadata": {
        "id": "tLPt6d9B3f9R",
        "outputId": "fd6c0351-5a73-47f4-ac71-578a258582e7",
        "colab": {
          "base_uri": "https://localhost:8080/"
        }
      },
      "execution_count": 33,
      "outputs": [
        {
          "output_type": "stream",
          "name": "stdout",
          "text": [
            "(1, 2, 3, 4, 5)\n"
          ]
        },
        {
          "output_type": "execute_result",
          "data": {
            "text/plain": [
              "tuple"
            ]
          },
          "metadata": {},
          "execution_count": 33
        }
      ]
    },
    {
      "cell_type": "code",
      "source": [
        "texto = \"ALIANZA\"\n",
        "tupla_9 = tuple(texto)\n",
        "print(tupla_9)"
      ],
      "metadata": {
        "id": "2TtO_Key4J1G",
        "outputId": "e3ef7bd1-a868-454d-f110-613b398ba85b",
        "colab": {
          "base_uri": "https://localhost:8080/"
        }
      },
      "execution_count": 37,
      "outputs": [
        {
          "output_type": "stream",
          "name": "stdout",
          "text": [
            "('A', 'L', 'I', 'A', 'N', 'Z', 'A')\n"
          ]
        }
      ]
    },
    {
      "cell_type": "code",
      "source": [
        "type(list((2,5)))"
      ],
      "metadata": {
        "id": "UqnJd4l64qLB",
        "outputId": "cdfe9b3b-2bc5-4ae4-df1d-4705f3d59537",
        "colab": {
          "base_uri": "https://localhost:8080/"
        }
      },
      "execution_count": 38,
      "outputs": [
        {
          "output_type": "execute_result",
          "data": {
            "text/plain": [
              "list"
            ]
          },
          "metadata": {},
          "execution_count": 38
        }
      ]
    },
    {
      "cell_type": "markdown",
      "source": [
        "### EJERCICIO\n",
        "1. Ingrese una palabra y almacenela en una tupla.\n",
        "2. Mostrar elemento en una tupla"
      ],
      "metadata": {
        "id": "qVgOmjr74ycO"
      }
    },
    {
      "cell_type": "code",
      "source": [
        "texto = input(\"Ingrese palabra a guardar en la tupla: \")\n",
        "tupla_n = tuple(texto)\n",
        "print(f\"La tupla n es: {tupla_n}\")\n",
        "type(tupla_n)"
      ],
      "metadata": {
        "id": "laRk2TTe41iB",
        "outputId": "497a0f39-5050-45f8-85a0-1f68d572eb8a",
        "colab": {
          "base_uri": "https://localhost:8080/"
        }
      },
      "execution_count": 45,
      "outputs": [
        {
          "output_type": "stream",
          "name": "stdout",
          "text": [
            "Ingrese palabra a guardar en la tupla: k\n",
            "La tupla n es: ('k',)\n"
          ]
        },
        {
          "output_type": "execute_result",
          "data": {
            "text/plain": [
              "tuple"
            ]
          },
          "metadata": {},
          "execution_count": 45
        }
      ]
    },
    {
      "cell_type": "markdown",
      "source": [
        "### CONCATENACION DE TUPLAS"
      ],
      "metadata": {
        "id": "tj-CGRa86eNn"
      }
    },
    {
      "cell_type": "code",
      "source": [
        "tupla_x =tuple(\"hola\")\n",
        "tupla_y =tuple(\"abcde\")\n",
        "tupla_z =tuple(\"peru\")"
      ],
      "metadata": {
        "id": "b_AY1CkS6duD"
      },
      "execution_count": 46,
      "outputs": []
    },
    {
      "cell_type": "code",
      "source": [
        "tupla_c = tupla_x + tupla_y + tupla_z\n",
        "tupla_c"
      ],
      "metadata": {
        "id": "UJOJ9YGh6zUZ",
        "outputId": "e6923e1e-8697-4fca-efcf-8bcf80c8c055",
        "colab": {
          "base_uri": "https://localhost:8080/"
        }
      },
      "execution_count": 48,
      "outputs": [
        {
          "output_type": "execute_result",
          "data": {
            "text/plain": [
              "('h', 'o', 'l', 'a', 'a', 'b', 'c', 'd', 'e', 'p', 'e', 'r', 'u')"
            ]
          },
          "metadata": {},
          "execution_count": 48
        }
      ]
    },
    {
      "cell_type": "markdown",
      "source": [
        "### EJERCICIO:\n",
        "1. Crear una tupla con 3 marcas reconocidas.\n",
        "2. Crear una lista con 3 colores de preferencia\n",
        "3. Concatenar la tupla con la lista"
      ],
      "metadata": {
        "id": "_wWo91lI8jCt"
      }
    },
    {
      "cell_type": "code",
      "source": [
        "tupla_marcas = (\"Adidas\",\"Umbro\",\"Nike\")\n",
        "colors_list = [\"Blue\",\"Green\",\"Red\"]\n",
        "tupla_marcaycolor =tupla_marcas + tuple(colors_list)\n",
        "print(tupla_marcaycolor)\n",
        "type(tupla_marcaycolor)"
      ],
      "metadata": {
        "id": "ORiAV71Q7JmL",
        "outputId": "8a904c06-9d22-4dd5-b282-b187c5f8756b",
        "colab": {
          "base_uri": "https://localhost:8080/"
        }
      },
      "execution_count": 57,
      "outputs": [
        {
          "output_type": "stream",
          "name": "stdout",
          "text": [
            "('Adidas', 'Umbro', 'Nike', 'Blue', 'Green', 'Red')\n"
          ]
        },
        {
          "output_type": "execute_result",
          "data": {
            "text/plain": [
              "tuple"
            ]
          },
          "metadata": {},
          "execution_count": 57
        }
      ]
    },
    {
      "cell_type": "markdown",
      "source": [
        "##IMPORTANTE"
      ],
      "metadata": {
        "id": "QpdOeLb9Buyw"
      }
    },
    {
      "cell_type": "code",
      "source": [
        "#whos sirve para saber las variables que voy creando\n",
        "%whos\n",
        "#nombre_lista.append(valor_agregado)\n",
        "# ELIMINAR lista.remove(elemento_a_eliminar)"
      ],
      "metadata": {
        "colab": {
          "base_uri": "https://localhost:8080/"
        },
        "id": "GvgHFAP1BxN9",
        "outputId": "ab49300d-1b29-41af-e226-623cf7ecb5c0"
      },
      "execution_count": null,
      "outputs": [
        {
          "output_type": "stream",
          "name": "stdout",
          "text": [
            "Variable        Type     Data/Info\n",
            "----------------------------------\n",
            "cant_element    int      5\n",
            "cantidad        int      5\n",
            "eliminado       str      A\n",
            "i               int      202\n",
            "inicio          int      6\n",
            "lista_element   list     n=5\n",
            "lista_x         list     n=6\n",
            "primero_x       int      12\n",
            "suma            int      20\n",
            "tupla_0         tuple    n=1\n",
            "tupla_1         tuple    n=4\n",
            "tupla_2         tuple    n=5\n",
            "ultimo_x        int      200\n",
            "valor_max       int      198\n",
            "valor_min       int      14\n",
            "valores         int      7\n",
            "x_eliminar      str      3\n"
          ]
        }
      ]
    }
  ]
}
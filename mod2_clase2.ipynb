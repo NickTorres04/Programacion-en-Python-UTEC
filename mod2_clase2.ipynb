{
  "nbformat": 4,
  "nbformat_minor": 0,
  "metadata": {
    "colab": {
      "provenance": [],
      "authorship_tag": "ABX9TyNlfkevTF34SE9JjJeVFSdk",
      "include_colab_link": true
    },
    "kernelspec": {
      "name": "python3",
      "display_name": "Python 3"
    },
    "language_info": {
      "name": "python"
    }
  },
  "cells": [
    {
      "cell_type": "markdown",
      "metadata": {
        "id": "view-in-github",
        "colab_type": "text"
      },
      "source": [
        "<a href=\"https://colab.research.google.com/github/NickTorres04/Programacion-en-Python-UTEC/blob/main/mod2_clase2.ipynb\" target=\"_parent\"><img src=\"https://colab.research.google.com/assets/colab-badge.svg\" alt=\"Open In Colab\"/></a>"
      ]
    },
    {
      "cell_type": "markdown",
      "source": [
        "# DICCIONARIOS\n"
      ],
      "metadata": {
        "id": "jbgGk9fdECVJ"
      }
    },
    {
      "cell_type": "code",
      "source": [
        "#Almacena conjuntos de datos no ordenados.\n",
        "#son mutantes\n",
        "# SON BI\n",
        "dicc_1 = {\"a\":1,\n",
        "          \"b\":2,\n",
        "          \"c\":3\n",
        "          }\n",
        "type(dicc_1)"
      ],
      "metadata": {
        "id": "N2e7LOv4EIuA",
        "outputId": "88102890-930d-4e56-b119-9cbacfe1c474",
        "colab": {
          "base_uri": "https://localhost:8080/"
        }
      },
      "execution_count": 2,
      "outputs": [
        {
          "output_type": "execute_result",
          "data": {
            "text/plain": [
              "dict"
            ]
          },
          "metadata": {},
          "execution_count": 2
        }
      ]
    },
    {
      "cell_type": "code",
      "source": [
        "dicc_2 = {\"a\":{\"x\":100},\n",
        "          \"b\":[10,20,30]}\n",
        "type(dicc_2)"
      ],
      "metadata": {
        "id": "lOsp9XMnGgR0",
        "outputId": "a3feecb3-1daf-40eb-b399-3a84eb10b172",
        "colab": {
          "base_uri": "https://localhost:8080/"
        }
      },
      "execution_count": 4,
      "outputs": [
        {
          "output_type": "execute_result",
          "data": {
            "text/plain": [
              "dict"
            ]
          },
          "metadata": {},
          "execution_count": 4
        }
      ]
    },
    {
      "cell_type": "markdown",
      "source": [
        "## ELEMENTOS DE UN DICCIONARIO"
      ],
      "metadata": {
        "id": "uzXXSyR1JTaa"
      }
    },
    {
      "cell_type": "code",
      "source": [
        "dicc_4 = {1:100, 2:100, 3:300}"
      ],
      "metadata": {
        "id": "LmU7IFOJJTLd"
      },
      "execution_count": 5,
      "outputs": []
    },
    {
      "cell_type": "code",
      "source": [
        "dicc_4[1]"
      ],
      "metadata": {
        "id": "R7R2zqK-Jxnp",
        "outputId": "26807d0b-0b70-4f91-d824-d1fc3f8fae40",
        "colab": {
          "base_uri": "https://localhost:8080/"
        }
      },
      "execution_count": 6,
      "outputs": [
        {
          "output_type": "execute_result",
          "data": {
            "text/plain": [
              "100"
            ]
          },
          "metadata": {},
          "execution_count": 6
        }
      ]
    },
    {
      "cell_type": "code",
      "source": [
        "dicc_4[3]"
      ],
      "metadata": {
        "id": "JCR3ajsJJ0Ho",
        "outputId": "aeb0169d-342d-4ec2-89fe-0831b64af4e7",
        "colab": {
          "base_uri": "https://localhost:8080/"
        }
      },
      "execution_count": 8,
      "outputs": [
        {
          "output_type": "execute_result",
          "data": {
            "text/plain": [
              "300"
            ]
          },
          "metadata": {},
          "execution_count": 8
        }
      ]
    }
  ]
}
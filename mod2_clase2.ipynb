{
  "nbformat": 4,
  "nbformat_minor": 0,
  "metadata": {
    "colab": {
      "provenance": [],
      "authorship_tag": "ABX9TyPPSMzMV9Px45wcYJ9aUvnJ",
      "include_colab_link": true
    },
    "kernelspec": {
      "name": "python3",
      "display_name": "Python 3"
    },
    "language_info": {
      "name": "python"
    }
  },
  "cells": [
    {
      "cell_type": "markdown",
      "metadata": {
        "id": "view-in-github",
        "colab_type": "text"
      },
      "source": [
        "<a href=\"https://colab.research.google.com/github/NickTorres04/Programacion-en-Python-UTEC/blob/main/mod2_clase2.ipynb\" target=\"_parent\"><img src=\"https://colab.research.google.com/assets/colab-badge.svg\" alt=\"Open In Colab\"/></a>"
      ]
    },
    {
      "cell_type": "markdown",
      "source": [
        "# DICCIONARIOS\n"
      ],
      "metadata": {
        "id": "jbgGk9fdECVJ"
      }
    },
    {
      "cell_type": "code",
      "source": [
        "#Almacena conjuntos de datos no ordenados.\n",
        "#son mutantes\n",
        "# SON BI\n",
        "dicc_1 = {\"a\":1,\n",
        "          \"b\":2,\n",
        "          \"c\":3\n",
        "          }\n",
        "type(dicc_1)"
      ],
      "metadata": {
        "id": "N2e7LOv4EIuA",
        "outputId": "88102890-930d-4e56-b119-9cbacfe1c474",
        "colab": {
          "base_uri": "https://localhost:8080/"
        }
      },
      "execution_count": null,
      "outputs": [
        {
          "output_type": "execute_result",
          "data": {
            "text/plain": [
              "dict"
            ]
          },
          "metadata": {},
          "execution_count": 2
        }
      ]
    },
    {
      "cell_type": "code",
      "source": [
        "dicc_2 = {\"a\":{\"x\":100},\n",
        "          \"b\":[10,20,30]}\n",
        "type(dicc_2)"
      ],
      "metadata": {
        "id": "lOsp9XMnGgR0",
        "outputId": "a3feecb3-1daf-40eb-b399-3a84eb10b172",
        "colab": {
          "base_uri": "https://localhost:8080/"
        }
      },
      "execution_count": null,
      "outputs": [
        {
          "output_type": "execute_result",
          "data": {
            "text/plain": [
              "dict"
            ]
          },
          "metadata": {},
          "execution_count": 4
        }
      ]
    },
    {
      "cell_type": "markdown",
      "source": [
        "## ELEMENTOS DE UN DICCIONARIO"
      ],
      "metadata": {
        "id": "uzXXSyR1JTaa"
      }
    },
    {
      "cell_type": "code",
      "source": [
        "dicc_4 = {1:100, 2:100, 3:300}"
      ],
      "metadata": {
        "id": "LmU7IFOJJTLd"
      },
      "execution_count": null,
      "outputs": []
    },
    {
      "cell_type": "code",
      "source": [
        "dicc_4[1]"
      ],
      "metadata": {
        "id": "R7R2zqK-Jxnp",
        "outputId": "26807d0b-0b70-4f91-d824-d1fc3f8fae40",
        "colab": {
          "base_uri": "https://localhost:8080/"
        }
      },
      "execution_count": null,
      "outputs": [
        {
          "output_type": "execute_result",
          "data": {
            "text/plain": [
              "100"
            ]
          },
          "metadata": {},
          "execution_count": 6
        }
      ]
    },
    {
      "cell_type": "code",
      "source": [
        "dicc_4[3]"
      ],
      "metadata": {
        "id": "JCR3ajsJJ0Ho",
        "outputId": "aeb0169d-342d-4ec2-89fe-0831b64af4e7",
        "colab": {
          "base_uri": "https://localhost:8080/"
        }
      },
      "execution_count": null,
      "outputs": [
        {
          "output_type": "execute_result",
          "data": {
            "text/plain": [
              "300"
            ]
          },
          "metadata": {},
          "execution_count": 8
        }
      ]
    },
    {
      "cell_type": "code",
      "source": [
        "dicc_clase = {\"Nombre\":\"Nick\",\n",
        "             \"Edad\": 22,\n",
        "             \"Profesion\":\"Ing\"}"
      ],
      "metadata": {
        "id": "WCmP8EQPAm8u"
      },
      "execution_count": 3,
      "outputs": []
    },
    {
      "cell_type": "code",
      "source": [
        "dicc_clase.items()"
      ],
      "metadata": {
        "id": "oM_VNX9tBERB",
        "outputId": "0f940426-49c7-4713-ce4e-9e1d43fd7cda",
        "colab": {
          "base_uri": "https://localhost:8080/"
        }
      },
      "execution_count": 4,
      "outputs": [
        {
          "output_type": "execute_result",
          "data": {
            "text/plain": [
              "dict_items([('Nombre', 'Nick'), ('Edad', 22), ('Profesion', 'Ing')])"
            ]
          },
          "metadata": {},
          "execution_count": 4
        }
      ]
    },
    {
      "cell_type": "code",
      "source": [
        "%whos"
      ],
      "metadata": {
        "id": "xyMz_wbcBj7k",
        "outputId": "d3e83c6a-daff-47ff-9b13-71aa08ce75a1",
        "colab": {
          "base_uri": "https://localhost:8080/"
        }
      },
      "execution_count": 5,
      "outputs": [
        {
          "output_type": "stream",
          "name": "stdout",
          "text": [
            "Variable     Type    Data/Info\n",
            "------------------------------\n",
            "dicc_clase   dict    n=3\n"
          ]
        }
      ]
    },
    {
      "cell_type": "code",
      "source": [
        "dicc_2 = {\"a\":{\"x\":100},\"b\":[10,20,30]}\n",
        "type(dicc_2)"
      ],
      "metadata": {
        "id": "htXUkIVpC_Hd",
        "outputId": "19df84b8-237b-49b8-de8c-b5d6dbffefea",
        "colab": {
          "base_uri": "https://localhost:8080/"
        }
      },
      "execution_count": 7,
      "outputs": [
        {
          "output_type": "execute_result",
          "data": {
            "text/plain": [
              "dict"
            ]
          },
          "metadata": {},
          "execution_count": 7
        }
      ]
    },
    {
      "cell_type": "code",
      "source": [
        "list(dicc_2.items())"
      ],
      "metadata": {
        "id": "JrcgcY9lEYvu",
        "outputId": "04a95727-f76d-4426-fc57-267110e519ac",
        "colab": {
          "base_uri": "https://localhost:8080/"
        }
      },
      "execution_count": 8,
      "outputs": [
        {
          "output_type": "execute_result",
          "data": {
            "text/plain": [
              "[('a', {'x': 100}), ('b', [10, 20, 30])]"
            ]
          },
          "metadata": {},
          "execution_count": 8
        }
      ]
    },
    {
      "cell_type": "code",
      "source": [],
      "metadata": {
        "id": "cA5DF19hIaJ9"
      },
      "execution_count": null,
      "outputs": []
    },
    {
      "cell_type": "markdown",
      "source": [
        "## METODO CLEAR"
      ],
      "metadata": {
        "id": "stvbo0V2DAq0"
      }
    },
    {
      "cell_type": "code",
      "source": [
        "dicc_2.clear()"
      ],
      "metadata": {
        "id": "-7y35O8pDDMI"
      },
      "execution_count": 9,
      "outputs": []
    },
    {
      "cell_type": "code",
      "source": [
        "dicc_2"
      ],
      "metadata": {
        "id": "W9ur3AkEJ6oj",
        "outputId": "7b90063c-845c-4d2b-ec65-da60a46e3bd6",
        "colab": {
          "base_uri": "https://localhost:8080/"
        }
      },
      "execution_count": 10,
      "outputs": [
        {
          "output_type": "execute_result",
          "data": {
            "text/plain": [
              "{}"
            ]
          },
          "metadata": {},
          "execution_count": 10
        }
      ]
    },
    {
      "cell_type": "markdown",
      "source": [
        "## METODO **KEYS()**\n"
      ],
      "metadata": {
        "id": "hVP8j0spK6-0"
      }
    },
    {
      "cell_type": "code",
      "source": [
        "dic_precios = {\"detergente\":70,\n",
        "               \"arroz\":20,\n",
        "               \"aceite\":10\n",
        "               }\n",
        "dic_precios"
      ],
      "metadata": {
        "id": "fZDdJmaZKNWk",
        "outputId": "47683573-69c8-4eff-e795-9e9da942aeb5",
        "colab": {
          "base_uri": "https://localhost:8080/"
        }
      },
      "execution_count": 11,
      "outputs": [
        {
          "output_type": "execute_result",
          "data": {
            "text/plain": [
              "{'detergente': 70, 'arroz': 20, 'aceite': 10}"
            ]
          },
          "metadata": {},
          "execution_count": 11
        }
      ]
    },
    {
      "cell_type": "code",
      "source": [
        "type(dic_precios)"
      ],
      "metadata": {
        "id": "YJuiYoGhLOHB",
        "outputId": "935f49a8-9782-4413-8a4e-0eb2711a70e0",
        "colab": {
          "base_uri": "https://localhost:8080/"
        }
      },
      "execution_count": 12,
      "outputs": [
        {
          "output_type": "execute_result",
          "data": {
            "text/plain": [
              "dict"
            ]
          },
          "metadata": {},
          "execution_count": 12
        }
      ]
    },
    {
      "cell_type": "code",
      "source": [
        "list(dic_precios.keys())"
      ],
      "metadata": {
        "id": "pKxtZOhiL9J7",
        "outputId": "c4e1017c-87cc-49c7-a535-9de8b1eba301",
        "colab": {
          "base_uri": "https://localhost:8080/"
        }
      },
      "execution_count": 13,
      "outputs": [
        {
          "output_type": "execute_result",
          "data": {
            "text/plain": [
              "['detergente', 'arroz', 'aceite']"
            ]
          },
          "metadata": {},
          "execution_count": 13
        }
      ]
    },
    {
      "cell_type": "markdown",
      "source": [
        "## METODO **VALUES()**"
      ],
      "metadata": {
        "id": "iMaKL-pnMgRI"
      }
    },
    {
      "cell_type": "code",
      "source": [
        "dic_precios"
      ],
      "metadata": {
        "id": "JQQhJ5tzMiER",
        "outputId": "454d3a45-70f7-47dc-a29c-ab1135f588bd",
        "colab": {
          "base_uri": "https://localhost:8080/"
        }
      },
      "execution_count": 14,
      "outputs": [
        {
          "output_type": "execute_result",
          "data": {
            "text/plain": [
              "{'detergente': 70, 'arroz': 20, 'aceite': 10}"
            ]
          },
          "metadata": {},
          "execution_count": 14
        }
      ]
    },
    {
      "cell_type": "code",
      "source": [
        "list(dic_precios.values())"
      ],
      "metadata": {
        "id": "OE7vqK4DMoSV",
        "outputId": "c80246aa-2f05-4434-9c43-773a8b765cd2",
        "colab": {
          "base_uri": "https://localhost:8080/"
        }
      },
      "execution_count": 15,
      "outputs": [
        {
          "output_type": "execute_result",
          "data": {
            "text/plain": [
              "[70, 20, 10]"
            ]
          },
          "metadata": {},
          "execution_count": 15
        }
      ]
    },
    {
      "cell_type": "markdown",
      "source": [
        "## METODO **ITEMS**()"
      ],
      "metadata": {
        "id": "CVUnkjnsNAyS"
      }
    },
    {
      "cell_type": "code",
      "source": [
        "#CLAVE ELEMENTOS\n",
        "list(dic_precios.items())"
      ],
      "metadata": {
        "id": "Gh4ZmlFrM_i4",
        "outputId": "13b9cd45-f9fc-4b42-cde9-77077c3fca2c",
        "colab": {
          "base_uri": "https://localhost:8080/"
        }
      },
      "execution_count": 16,
      "outputs": [
        {
          "output_type": "execute_result",
          "data": {
            "text/plain": [
              "[('detergente', 70), ('arroz', 20), ('aceite', 10)]"
            ]
          },
          "metadata": {},
          "execution_count": 16
        }
      ]
    },
    {
      "cell_type": "code",
      "source": [
        "dic_jugadores = {\"Messi\":10,\n",
        "                 \"Iniesta\":8,\n",
        "                 \"Xavi\":6,\n",
        "                 \"Suarez\":7,\n",
        "                 \"Neymar\":11,\n",
        "                 \"Puyol\":4,\n",
        "                 \"Pique\":3,\n",
        "                 \"Alves\":2,\n",
        "                 \"Alva\":18,\n",
        "                 \"Ter stegen\":1,\n",
        "                 \"Busquets\":5,\n",
        "                 }\n",
        "#Mostrar Llaves:\n",
        "print(list(dic_jugadores.keys()))\n",
        "print(list(dic_jugadores.values()))\n",
        "print(list(dic_jugadores.items()))"
      ],
      "metadata": {
        "id": "X6-wnGZ6NkJu",
        "outputId": "ba92a74a-fa8f-4eea-d7ce-ad8ef873e60c",
        "colab": {
          "base_uri": "https://localhost:8080/"
        }
      },
      "execution_count": 19,
      "outputs": [
        {
          "output_type": "stream",
          "name": "stdout",
          "text": [
            "['Messi', 'Iniesta', 'Xavi', 'Suarez', 'Neymar', 'Puyol', 'Pique', 'Alves', 'Alva', 'Ter stegen', 'Busquets']\n",
            "[10, 8, 6, 7, 11, 4, 3, 2, 18, 1, 5]\n",
            "[('Messi', 10), ('Iniesta', 8), ('Xavi', 6), ('Suarez', 7), ('Neymar', 11), ('Puyol', 4), ('Pique', 3), ('Alves', 2), ('Alva', 18), ('Ter stegen', 1), ('Busquets', 5)]\n"
          ]
        }
      ]
    },
    {
      "cell_type": "code",
      "source": [
        "dic_jugadores[\"Pedro\"] = 3"
      ],
      "metadata": {
        "id": "F1tq6_UCVWcA"
      },
      "execution_count": 20,
      "outputs": []
    },
    {
      "cell_type": "code",
      "source": [
        "dic_jugadores"
      ],
      "metadata": {
        "id": "pvjijhuHVdso",
        "outputId": "899c271b-7df2-4513-f397-cdd06ec0dc58",
        "colab": {
          "base_uri": "https://localhost:8080/"
        }
      },
      "execution_count": 21,
      "outputs": [
        {
          "output_type": "execute_result",
          "data": {
            "text/plain": [
              "{'Messi': 10,\n",
              " 'Iniesta': 8,\n",
              " 'Xavi': 6,\n",
              " 'Suarez': 7,\n",
              " 'Neymar': 11,\n",
              " 'Puyol': 4,\n",
              " 'Pique': 3,\n",
              " 'Alves': 2,\n",
              " 'Alva': 18,\n",
              " 'Ter stegen': 1,\n",
              " 'Busquets': 5,\n",
              " 'Pedro': 3}"
            ]
          },
          "metadata": {},
          "execution_count": 21
        }
      ]
    },
    {
      "cell_type": "code",
      "source": [
        "dic_jugadores[\"Messi\"]"
      ],
      "metadata": {
        "id": "bn2V9fUuVnRz",
        "outputId": "9eb704f9-9968-4f3c-8b1b-83501c3ca14f",
        "colab": {
          "base_uri": "https://localhost:8080/"
        }
      },
      "execution_count": 22,
      "outputs": [
        {
          "output_type": "execute_result",
          "data": {
            "text/plain": [
              "10"
            ]
          },
          "metadata": {},
          "execution_count": 22
        }
      ]
    },
    {
      "cell_type": "code",
      "source": [
        "dic_jugadores[\"Messi\"] = 30"
      ],
      "metadata": {
        "id": "GzLZ2DSAVri9"
      },
      "execution_count": 23,
      "outputs": []
    },
    {
      "cell_type": "code",
      "source": [
        "dic_jugadores[\"Messi\"]"
      ],
      "metadata": {
        "id": "8M3EYNoXVuNu",
        "outputId": "d2253bc8-7ac1-434e-cfd4-38ec6eab1a81",
        "colab": {
          "base_uri": "https://localhost:8080/"
        }
      },
      "execution_count": 24,
      "outputs": [
        {
          "output_type": "execute_result",
          "data": {
            "text/plain": [
              "30"
            ]
          },
          "metadata": {},
          "execution_count": 24
        }
      ]
    },
    {
      "cell_type": "markdown",
      "source": [
        "## **CREAR COPIA**"
      ],
      "metadata": {
        "id": "PmRW5_Y4V9VM"
      }
    },
    {
      "cell_type": "code",
      "source": [
        "dic_precios_ = dic_precios.copy()\n",
        "dic_precios_"
      ],
      "metadata": {
        "id": "T6WiX863V8BV",
        "outputId": "1a31eeb0-857a-4c9d-de3b-cdfcdc883216",
        "colab": {
          "base_uri": "https://localhost:8080/"
        }
      },
      "execution_count": 26,
      "outputs": [
        {
          "output_type": "execute_result",
          "data": {
            "text/plain": [
              "{'detergente': 70, 'arroz': 20, 'aceite': 10}"
            ]
          },
          "metadata": {},
          "execution_count": 26
        }
      ]
    },
    {
      "cell_type": "code",
      "source": [
        "lista_u = [\"PUCP\",\"UPC\",\"USIL\",\"Ulima\",\"UTP\"]"
      ],
      "metadata": {
        "id": "jX8cBGsRWQ97"
      },
      "execution_count": 28,
      "outputs": []
    },
    {
      "cell_type": "code",
      "source": [
        "dicc_u = dict.fromkeys(lista_u)\n",
        "dicc_u"
      ],
      "metadata": {
        "id": "HqTtamcTW3AQ",
        "outputId": "8a4a8bea-fcf1-45b7-f907-c6fdfb8f3c5e",
        "colab": {
          "base_uri": "https://localhost:8080/"
        }
      },
      "execution_count": 30,
      "outputs": [
        {
          "output_type": "execute_result",
          "data": {
            "text/plain": [
              "{'PUCP': None, 'UPC': None, 'USIL': None, 'Ulima': None, 'UTP': None}"
            ]
          },
          "metadata": {},
          "execution_count": 30
        }
      ]
    },
    {
      "cell_type": "code",
      "source": [
        "dicc_u[\"PUCP\"] = \"la mejor\"\n",
        "dicc_u"
      ],
      "metadata": {
        "id": "9nyXlgHEXFqW",
        "outputId": "25b531c7-f441-4e80-f92f-b631aa3dac81",
        "colab": {
          "base_uri": "https://localhost:8080/"
        }
      },
      "execution_count": 32,
      "outputs": [
        {
          "output_type": "execute_result",
          "data": {
            "text/plain": [
              "{'PUCP': 'la mejor', 'UPC': None, 'USIL': None, 'Ulima': None, 'UTP': None}"
            ]
          },
          "metadata": {},
          "execution_count": 32
        }
      ]
    },
    {
      "cell_type": "code",
      "source": [
        "dicc_u_2 = dict.fromkeys(lista_u,1)\n",
        "dicc_u_2"
      ],
      "metadata": {
        "id": "FmsiukPAXYQI",
        "outputId": "7ec882e3-6343-4d50-d72b-c870038d0e85",
        "colab": {
          "base_uri": "https://localhost:8080/"
        }
      },
      "execution_count": 33,
      "outputs": [
        {
          "output_type": "execute_result",
          "data": {
            "text/plain": [
              "{'PUCP': 1, 'UPC': 1, 'USIL': 1, 'Ulima': 1, 'UTP': 1}"
            ]
          },
          "metadata": {},
          "execution_count": 33
        }
      ]
    },
    {
      "cell_type": "code",
      "source": [
        "val_e = dicc_u_2.popitem()\n",
        "val_e"
      ],
      "metadata": {
        "id": "DRWOZ1BeYVB2",
        "outputId": "e793523a-9621-4ede-ce18-0ce0f6c3e609",
        "colab": {
          "base_uri": "https://localhost:8080/"
        }
      },
      "execution_count": 34,
      "outputs": [
        {
          "output_type": "execute_result",
          "data": {
            "text/plain": [
              "('UTP', 1)"
            ]
          },
          "metadata": {},
          "execution_count": 34
        }
      ]
    },
    {
      "cell_type": "code",
      "source": [
        "dicc_u_2"
      ],
      "metadata": {
        "id": "Xn-dsPpjYeaQ",
        "outputId": "8ab97f13-947e-40c6-ea46-202e7a37c631",
        "colab": {
          "base_uri": "https://localhost:8080/"
        }
      },
      "execution_count": 35,
      "outputs": [
        {
          "output_type": "execute_result",
          "data": {
            "text/plain": [
              "{'PUCP': 1, 'UPC': 1, 'USIL': 1, 'Ulima': 1}"
            ]
          },
          "metadata": {},
          "execution_count": 35
        }
      ]
    },
    {
      "cell_type": "code",
      "source": [
        "type(val_e)"
      ],
      "metadata": {
        "id": "pAgeyy1LYxxm",
        "outputId": "4d0575f3-13ee-4498-9d14-dad16136ac73",
        "colab": {
          "base_uri": "https://localhost:8080/"
        }
      },
      "execution_count": 36,
      "outputs": [
        {
          "output_type": "execute_result",
          "data": {
            "text/plain": [
              "tuple"
            ]
          },
          "metadata": {},
          "execution_count": 36
        }
      ]
    },
    {
      "cell_type": "markdown",
      "source": [
        "### METODO **POP**"
      ],
      "metadata": {
        "id": "OovMKe4jY0YS"
      }
    },
    {
      "cell_type": "code",
      "source": [
        "dicc_u_2.pop(\"UTEC\",\"No se encuentra.\")"
      ],
      "metadata": {
        "id": "qj2EWiecY2cL",
        "outputId": "cec42dc6-4d42-4989-cd3c-d1d46f391bae",
        "colab": {
          "base_uri": "https://localhost:8080/",
          "height": 36
        }
      },
      "execution_count": 38,
      "outputs": [
        {
          "output_type": "execute_result",
          "data": {
            "text/plain": [
              "'No se encuentra.'"
            ],
            "application/vnd.google.colaboratory.intrinsic+json": {
              "type": "string"
            }
          },
          "metadata": {},
          "execution_count": 38
        }
      ]
    },
    {
      "cell_type": "code",
      "source": [
        "dicc_u_2.pop(\"USIL\",999)"
      ],
      "metadata": {
        "id": "gjvc61rrZrLT",
        "outputId": "e692bc02-df1a-417d-b7e5-80d4ed884552",
        "colab": {
          "base_uri": "https://localhost:8080/"
        }
      },
      "execution_count": 39,
      "outputs": [
        {
          "output_type": "execute_result",
          "data": {
            "text/plain": [
              "1"
            ]
          },
          "metadata": {},
          "execution_count": 39
        }
      ]
    },
    {
      "cell_type": "code",
      "source": [
        "dicc_u_2"
      ],
      "metadata": {
        "id": "WeLEbDYJZ4dc",
        "outputId": "399695af-1f11-49ed-e903-8b61c6a6002c",
        "colab": {
          "base_uri": "https://localhost:8080/"
        }
      },
      "execution_count": 40,
      "outputs": [
        {
          "output_type": "execute_result",
          "data": {
            "text/plain": [
              "{'PUCP': 1, 'UPC': 1, 'Ulima': 1}"
            ]
          },
          "metadata": {},
          "execution_count": 40
        }
      ]
    },
    {
      "cell_type": "markdown",
      "source": [
        "### METODO **SETDEFAULT()**"
      ],
      "metadata": {
        "id": "xgtyBCi8aLZR"
      }
    },
    {
      "cell_type": "code",
      "source": [
        "dic_t3 = {\"a\":10,\"b\":5,\"c\":15}\n",
        "dic_t3"
      ],
      "metadata": {
        "id": "4fU0YvHlaQN3",
        "outputId": "8fc2ccb4-3cbd-45c1-b00d-af396197853d",
        "colab": {
          "base_uri": "https://localhost:8080/"
        }
      },
      "execution_count": 41,
      "outputs": [
        {
          "output_type": "execute_result",
          "data": {
            "text/plain": [
              "{'a': 10, 'b': 5, 'c': 15}"
            ]
          },
          "metadata": {},
          "execution_count": 41
        }
      ]
    },
    {
      "cell_type": "code",
      "source": [
        "dic_t3.setdefault(\"x\",1) #agrega"
      ],
      "metadata": {
        "id": "OkkRIjHAbZ_D",
        "outputId": "1020e824-23ec-4460-985d-5d302db338a1",
        "colab": {
          "base_uri": "https://localhost:8080/"
        }
      },
      "execution_count": 46,
      "outputs": [
        {
          "output_type": "execute_result",
          "data": {
            "text/plain": [
              "1"
            ]
          },
          "metadata": {},
          "execution_count": 46
        }
      ]
    },
    {
      "cell_type": "code",
      "source": [
        "dic_t3"
      ],
      "metadata": {
        "id": "2cp23cRnbexR",
        "outputId": "938b50de-8483-400f-b172-527b83681b20",
        "colab": {
          "base_uri": "https://localhost:8080/"
        }
      },
      "execution_count": 47,
      "outputs": [
        {
          "output_type": "execute_result",
          "data": {
            "text/plain": [
              "{'a': 10, 'b': 5, 'c': 15, 'x': 1}"
            ]
          },
          "metadata": {},
          "execution_count": 47
        }
      ]
    },
    {
      "cell_type": "code",
      "source": [
        "dic_t3.setdefault(\"d\")"
      ],
      "metadata": {
        "id": "LV6M5TZ5cnQN"
      },
      "execution_count": 48,
      "outputs": []
    },
    {
      "cell_type": "code",
      "source": [
        "dic_t3.setdefault(\"d\",1) # sino esta D agregale 1 sino no agregues nada.\n",
        "dic_t3"
      ],
      "metadata": {
        "id": "cJBStqwicp1N",
        "outputId": "85a1dcb2-9853-4e91-ee84-d8faa69bb051",
        "colab": {
          "base_uri": "https://localhost:8080/"
        }
      },
      "execution_count": 49,
      "outputs": [
        {
          "output_type": "execute_result",
          "data": {
            "text/plain": [
              "{'a': 10, 'b': 5, 'c': 15, 'x': 1, 'd': None}"
            ]
          },
          "metadata": {},
          "execution_count": 49
        }
      ]
    },
    {
      "cell_type": "markdown",
      "source": [
        "### **UPDATE **"
      ],
      "metadata": {
        "id": "CDChAviMdgmC"
      }
    },
    {
      "cell_type": "code",
      "source": [
        "dic_16 = {\"a\":10,\"b\":15,\"c\":20}\n",
        "dic_16"
      ],
      "metadata": {
        "id": "DS_fYBd1dfvf",
        "outputId": "0302e31f-9aa4-4fa9-c92b-3f403a796225",
        "colab": {
          "base_uri": "https://localhost:8080/"
        }
      },
      "execution_count": 50,
      "outputs": [
        {
          "output_type": "execute_result",
          "data": {
            "text/plain": [
              "{'a': 10, 'b': 15, 'c': 20}"
            ]
          },
          "metadata": {},
          "execution_count": 50
        }
      ]
    },
    {
      "cell_type": "code",
      "source": [
        "dic_16.update({\"d\":100}) # actualiza\n",
        "dic_16"
      ],
      "metadata": {
        "id": "Gb_i99-9dsrx",
        "outputId": "0e004af7-4dde-43de-d1ac-ea923cd05ad3",
        "colab": {
          "base_uri": "https://localhost:8080/"
        }
      },
      "execution_count": 52,
      "outputs": [
        {
          "output_type": "execute_result",
          "data": {
            "text/plain": [
              "{'a': 10, 'b': 15, 'c': 20, 'd': 100}"
            ]
          },
          "metadata": {},
          "execution_count": 52
        }
      ]
    },
    {
      "cell_type": "code",
      "source": [
        "dic_16.update({\"e\":444,\"f\":222})\n",
        "dic_16"
      ],
      "metadata": {
        "id": "2G7gMCtjdy6B",
        "outputId": "e55b0ff7-5a81-4c48-ef29-ef2818582e7f",
        "colab": {
          "base_uri": "https://localhost:8080/"
        }
      },
      "execution_count": 54,
      "outputs": [
        {
          "output_type": "execute_result",
          "data": {
            "text/plain": [
              "{'a': 10, 'b': 15, 'c': 20, 'd': 100, 'e': 444, 'f': 222}"
            ]
          },
          "metadata": {},
          "execution_count": 54
        }
      ]
    },
    {
      "cell_type": "code",
      "source": [
        "dic_16.update({\"d\":None})\n",
        "dic_16"
      ],
      "metadata": {
        "id": "TDVKhE2hd9QJ",
        "outputId": "a05248a0-3dfe-4cf4-c4e3-140d2586cc5b",
        "colab": {
          "base_uri": "https://localhost:8080/"
        }
      },
      "execution_count": 60,
      "outputs": [
        {
          "output_type": "execute_result",
          "data": {
            "text/plain": [
              "{'a': 10, 'b': 15, 'c': 20, 'd': None, 'e': 444, 'f': 222}"
            ]
          },
          "metadata": {},
          "execution_count": 60
        }
      ]
    },
    {
      "cell_type": "markdown",
      "source": [
        "### **GET()**"
      ],
      "metadata": {
        "id": "yDrOs_s6eqXS"
      }
    },
    {
      "cell_type": "code",
      "source": [
        "dic_16.get(\"f\")"
      ],
      "metadata": {
        "id": "t8jew2sdetDJ",
        "outputId": "3bcb6c49-d4a1-4936-c234-152286ec2693",
        "colab": {
          "base_uri": "https://localhost:8080/"
        }
      },
      "execution_count": 63,
      "outputs": [
        {
          "output_type": "execute_result",
          "data": {
            "text/plain": [
              "222"
            ]
          },
          "metadata": {},
          "execution_count": 63
        }
      ]
    },
    {
      "cell_type": "code",
      "source": [
        "print(dic_16.get(\"x\",))"
      ],
      "metadata": {
        "id": "3FQ4PR8oezjc",
        "outputId": "89cb67d6-219c-460f-f778-c86b19bb8c79",
        "colab": {
          "base_uri": "https://localhost:8080/"
        }
      },
      "execution_count": 70,
      "outputs": [
        {
          "output_type": "stream",
          "name": "stdout",
          "text": [
            "None\n"
          ]
        }
      ]
    },
    {
      "cell_type": "code",
      "source": [
        "for i,j in dic_jugadores.items():\n",
        "  print(f\"{i}:{j}\")"
      ],
      "metadata": {
        "id": "2d8w0BdBfG-N",
        "outputId": "d258d6c6-4b50-49ac-cba5-982631abdaa6",
        "colab": {
          "base_uri": "https://localhost:8080/"
        }
      },
      "execution_count": 71,
      "outputs": [
        {
          "output_type": "stream",
          "name": "stdout",
          "text": [
            "Messi:30\n",
            "Iniesta:8\n",
            "Xavi:6\n",
            "Suarez:7\n",
            "Neymar:11\n",
            "Puyol:4\n",
            "Pique:3\n",
            "Alves:2\n",
            "Alva:18\n",
            "Ter stegen:1\n",
            "Busquets:5\n",
            "Pedro:3\n"
          ]
        }
      ]
    },
    {
      "cell_type": "markdown",
      "source": [
        "## PROFE CONTACTO"
      ],
      "metadata": {
        "id": "nNbSVh0JgzEG"
      }
    },
    {
      "cell_type": "code",
      "source": [
        "## david.allendeq@gmail.com\n",
        "## +51997620644"
      ],
      "metadata": {
        "id": "f_6TxNwegx60"
      },
      "execution_count": null,
      "outputs": []
    }
  ]
}
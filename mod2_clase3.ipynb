{
  "nbformat": 4,
  "nbformat_minor": 0,
  "metadata": {
    "colab": {
      "provenance": [],
      "authorship_tag": "ABX9TyM5JJmacaY/RFv0ZssWQPIL",
      "include_colab_link": true
    },
    "kernelspec": {
      "name": "python3",
      "display_name": "Python 3"
    },
    "language_info": {
      "name": "python"
    }
  },
  "cells": [
    {
      "cell_type": "markdown",
      "metadata": {
        "id": "view-in-github",
        "colab_type": "text"
      },
      "source": [
        "<a href=\"https://colab.research.google.com/github/NickTorres04/Programacion-en-Python-UTEC/blob/main/mod2_clase3.ipynb\" target=\"_parent\"><img src=\"https://colab.research.google.com/assets/colab-badge.svg\" alt=\"Open In Colab\"/></a>"
      ]
    },
    {
      "cell_type": "markdown",
      "source": [
        "# **Numpy**"
      ],
      "metadata": {
        "id": "cEBKhtPBxGzn"
      }
    },
    {
      "cell_type": "code",
      "execution_count": 1,
      "metadata": {
        "id": "lngebxIuwF4N"
      },
      "outputs": [],
      "source": [
        "# Arreglo que consume menos memoria.\n",
        "import numpy as np"
      ]
    },
    {
      "cell_type": "code",
      "source": [
        "lista_1 = [1,3,5]\n",
        "print(lista_1)\n",
        "sum(lista_1)"
      ],
      "metadata": {
        "colab": {
          "base_uri": "https://localhost:8080/"
        },
        "id": "D3YUYYxGyWPY",
        "outputId": "ba0b80f3-4d60-4fe4-cc32-de8e9dbd17fa"
      },
      "execution_count": 2,
      "outputs": [
        {
          "output_type": "stream",
          "name": "stdout",
          "text": [
            "[1, 3, 5]\n"
          ]
        },
        {
          "output_type": "execute_result",
          "data": {
            "text/plain": [
              "9"
            ]
          },
          "metadata": {},
          "execution_count": 2
        }
      ]
    },
    {
      "cell_type": "code",
      "source": [
        "type(lista_1)"
      ],
      "metadata": {
        "colab": {
          "base_uri": "https://localhost:8080/"
        },
        "id": "UaDqIrSWymUB",
        "outputId": "90670425-b2a3-478d-bd07-df698c736a96"
      },
      "execution_count": 3,
      "outputs": [
        {
          "output_type": "execute_result",
          "data": {
            "text/plain": [
              "list"
            ]
          },
          "metadata": {},
          "execution_count": 3
        }
      ]
    },
    {
      "cell_type": "code",
      "source": [
        "mat_1=([2,4,5])\n",
        "type(mat_1)"
      ],
      "metadata": {
        "colab": {
          "base_uri": "https://localhost:8080/"
        },
        "id": "iP2_pnFSzIbd",
        "outputId": "841c7aae-de2a-42e8-9daf-ddff68f7a34f"
      },
      "execution_count": 4,
      "outputs": [
        {
          "output_type": "execute_result",
          "data": {
            "text/plain": [
              "list"
            ]
          },
          "metadata": {},
          "execution_count": 4
        }
      ]
    },
    {
      "cell_type": "code",
      "source": [
        "lista_1.append(8)\n",
        "print(lista_1)"
      ],
      "metadata": {
        "colab": {
          "base_uri": "https://localhost:8080/"
        },
        "id": "2M87u1d1zQ0J",
        "outputId": "cf294e73-fa18-4604-d3f3-e5b939cefd0f"
      },
      "execution_count": 5,
      "outputs": [
        {
          "output_type": "stream",
          "name": "stdout",
          "text": [
            "[1, 3, 5, 8]\n"
          ]
        }
      ]
    },
    {
      "cell_type": "code",
      "source": [
        "vector = np.array([1, 2, 3, 4, 5])"
      ],
      "metadata": {
        "id": "vXoZ4PSMzW1q"
      },
      "execution_count": 6,
      "outputs": []
    },
    {
      "cell_type": "code",
      "source": [
        "type(vector)"
      ],
      "metadata": {
        "colab": {
          "base_uri": "https://localhost:8080/"
        },
        "id": "9zyDKi8D0flG",
        "outputId": "2cfc17de-796b-4bee-b7f2-433bc252f833"
      },
      "execution_count": 7,
      "outputs": [
        {
          "output_type": "execute_result",
          "data": {
            "text/plain": [
              "numpy.ndarray"
            ]
          },
          "metadata": {},
          "execution_count": 7
        }
      ]
    },
    {
      "cell_type": "code",
      "source": [
        "#listas:\n",
        "l1 = [1,2,3]\n",
        "l2 = [4,5,6]\n",
        "l1+l2\n",
        "print(l1+l2)"
      ],
      "metadata": {
        "colab": {
          "base_uri": "https://localhost:8080/"
        },
        "id": "pnPnZqZL0hhO",
        "outputId": "4548491f-685c-4d3b-c018-c068f3e291b4"
      },
      "execution_count": 8,
      "outputs": [
        {
          "output_type": "stream",
          "name": "stdout",
          "text": [
            "[1, 2, 3, 4, 5, 6]\n"
          ]
        }
      ]
    },
    {
      "cell_type": "code",
      "source": [
        "a1 = np.array([1,2,3])\n",
        "a2 = np.array([4,5,6])\n",
        "print(f\"Arreglo de Numpy 1 {a1}\")\n",
        "print(f\"Arreglo de Numpy 1 {a2}\")\n",
        "print(f\"Arreglo de Numpy a1 + a2 {a1+a2}\")\n",
        "print(f\"Arreglo de Numpy a1 * a2 {a1*a2}\")"
      ],
      "metadata": {
        "colab": {
          "base_uri": "https://localhost:8080/"
        },
        "id": "7sy5haoG1K-x",
        "outputId": "98cb864f-3962-45ec-c377-d46db3b48899"
      },
      "execution_count": 9,
      "outputs": [
        {
          "output_type": "stream",
          "name": "stdout",
          "text": [
            "Arreglo de Numpy 1 [1 2 3]\n",
            "Arreglo de Numpy 1 [4 5 6]\n",
            "Arreglo de Numpy a1 + a2 [5 7 9]\n",
            "Arreglo de Numpy a1 * a2 [ 4 10 18]\n"
          ]
        }
      ]
    },
    {
      "cell_type": "code",
      "source": [
        "mat_3 =np.array([1,2,3,4,5,6])\n",
        "mat_3"
      ],
      "metadata": {
        "colab": {
          "base_uri": "https://localhost:8080/"
        },
        "id": "zLMqZXfs2Een",
        "outputId": "415830b5-5063-4739-b44a-a7d2fc8fe83e"
      },
      "execution_count": 10,
      "outputs": [
        {
          "output_type": "execute_result",
          "data": {
            "text/plain": [
              "array([1, 2, 3, 4, 5, 6])"
            ]
          },
          "metadata": {},
          "execution_count": 10
        }
      ]
    },
    {
      "cell_type": "markdown",
      "source": [
        "## matriz de DOS DIMENSIONES"
      ],
      "metadata": {
        "id": "7NjNZ1qb2Nyi"
      }
    },
    {
      "cell_type": "code",
      "source": [
        "# Matriz en 2D\n",
        "mat_4 = np.array([[1,2,3],[4,5,6]])\n",
        "mat_4"
      ],
      "metadata": {
        "colab": {
          "base_uri": "https://localhost:8080/"
        },
        "id": "mgIeaIq02Mft",
        "outputId": "08af3fcf-a6a4-44a4-d138-2a93b2195aee"
      },
      "execution_count": 11,
      "outputs": [
        {
          "output_type": "execute_result",
          "data": {
            "text/plain": [
              "array([[1, 2, 3],\n",
              "       [4, 5, 6]])"
            ]
          },
          "metadata": {},
          "execution_count": 11
        }
      ]
    },
    {
      "cell_type": "code",
      "source": [
        "mat_5 = np.array([[1],[4],[6]])\n",
        "mat_5"
      ],
      "metadata": {
        "colab": {
          "base_uri": "https://localhost:8080/"
        },
        "id": "kXIfxZbd2f3A",
        "outputId": "b0eda841-ca83-406b-9910-926e729af29f"
      },
      "execution_count": 12,
      "outputs": [
        {
          "output_type": "execute_result",
          "data": {
            "text/plain": [
              "array([[1],\n",
              "       [4],\n",
              "       [6]])"
            ]
          },
          "metadata": {},
          "execution_count": 12
        }
      ]
    },
    {
      "cell_type": "code",
      "source": [
        "lista_2  =  [1,2,3,4,5]\n",
        "print(f\"La lista es : {lista_2}\\n\")\n",
        "print(f\"El tipo del objeto es: {type(lista_2)}\")"
      ],
      "metadata": {
        "colab": {
          "base_uri": "https://localhost:8080/"
        },
        "id": "ISZCN-lR2oKd",
        "outputId": "b56a653e-698e-4154-f7e2-a035d09b1546"
      },
      "execution_count": 13,
      "outputs": [
        {
          "output_type": "stream",
          "name": "stdout",
          "text": [
            "La lista es : [1, 2, 3, 4, 5]\n",
            "\n",
            "El tipo del objeto es: <class 'list'>\n"
          ]
        }
      ]
    },
    {
      "cell_type": "code",
      "source": [
        "mat_5 =  np.array(lista_2)\n",
        "print(f\"La lista es : {mat_5}\\n\")\n",
        "print(f\"El tipo del objeto es: {type(mat_5)}\")"
      ],
      "metadata": {
        "colab": {
          "base_uri": "https://localhost:8080/"
        },
        "id": "uHeEFoc73P6J",
        "outputId": "c7cff4e9-2a51-43d5-8e82-e9593a64dfff"
      },
      "execution_count": 14,
      "outputs": [
        {
          "output_type": "stream",
          "name": "stdout",
          "text": [
            "La lista es : [1 2 3 4 5]\n",
            "\n",
            "El tipo del objeto es: <class 'numpy.ndarray'>\n"
          ]
        }
      ]
    },
    {
      "cell_type": "code",
      "source": [
        "lista_3  =  [[1,2,3],[4,5,6],[7,8,9]]\n",
        "print(f\"La lista es : {lista_3}\\n\")\n",
        "print(f\"El tipo del objeto es: {type(lista_3)}\")"
      ],
      "metadata": {
        "colab": {
          "base_uri": "https://localhost:8080/"
        },
        "id": "MjshQ_zA4EAx",
        "outputId": "b5f95aa6-ac61-4e75-a168-318b52e9cbc3"
      },
      "execution_count": 15,
      "outputs": [
        {
          "output_type": "stream",
          "name": "stdout",
          "text": [
            "La lista es : [[1, 2, 3], [4, 5, 6], [7, 8, 9]]\n",
            "\n",
            "El tipo del objeto es: <class 'list'>\n"
          ]
        }
      ]
    },
    {
      "cell_type": "code",
      "source": [
        "mat_6  =  np.array(lista_3)\n",
        "print(f\"La lista es :\\n {mat_6}\")\n",
        "print(f\"El tipo del objeto es: {type(mat_6)}\")"
      ],
      "metadata": {
        "colab": {
          "base_uri": "https://localhost:8080/"
        },
        "id": "FLEhEup94QRm",
        "outputId": "afbb9fee-8d21-44ce-9dfa-669d6609e9b5"
      },
      "execution_count": 16,
      "outputs": [
        {
          "output_type": "stream",
          "name": "stdout",
          "text": [
            "La lista es :\n",
            " [[1 2 3]\n",
            " [4 5 6]\n",
            " [7 8 9]]\n",
            "El tipo del objeto es: <class 'numpy.ndarray'>\n"
          ]
        }
      ]
    },
    {
      "cell_type": "code",
      "source": [
        "mat_7 = np.arange(20).reshape(4,5) #FILAS , COLUMNAS\n",
        "print(f\"La lista es :\\n {mat_7}\")\n",
        "print(f\"El tipo del objeto es: {type(mat_7)}\")\n",
        "print(f\"El numero de dimensiones es: {mat_7.ndim}\")\n",
        "print(f\"el numero de elementos es: {mat_7.size}\")\n",
        "print(f\"El tanaño de las dimensiones del objeto es: {mat_7.shape}\")"
      ],
      "metadata": {
        "colab": {
          "base_uri": "https://localhost:8080/"
        },
        "id": "97yBcPeD5dlc",
        "outputId": "34e233db-7d2a-40f8-ca09-ac9a34356db2"
      },
      "execution_count": 17,
      "outputs": [
        {
          "output_type": "stream",
          "name": "stdout",
          "text": [
            "La lista es :\n",
            " [[ 0  1  2  3  4]\n",
            " [ 5  6  7  8  9]\n",
            " [10 11 12 13 14]\n",
            " [15 16 17 18 19]]\n",
            "El tipo del objeto es: <class 'numpy.ndarray'>\n",
            "El numero de dimensiones es: 2\n",
            "el numero de elementos es: 20\n",
            "El tanaño de las dimensiones del objeto es: (4, 5)\n"
          ]
        }
      ]
    },
    {
      "cell_type": "code",
      "source": [
        "print(type(mat_7.shape))\n",
        "print(mat_7.shape[0])\n",
        "print(mat_7.shape[1])"
      ],
      "metadata": {
        "colab": {
          "base_uri": "https://localhost:8080/"
        },
        "id": "QEP_ffz67gFv",
        "outputId": "8449e067-af19-4155-bd9d-ef7f1329402e"
      },
      "execution_count": 18,
      "outputs": [
        {
          "output_type": "stream",
          "name": "stdout",
          "text": [
            "<class 'tuple'>\n",
            "4\n",
            "5\n"
          ]
        }
      ]
    },
    {
      "cell_type": "code",
      "source": [
        "mat_9 = np.zeros((4,3))\n",
        "print(f\"El arreglo es :\\n {mat_9}\")\n",
        "print(f\"El tipo del objeto es: {type(mat_9)}\")\n",
        "print(f\"El numero de dimensiones es: {mat_9.ndim}\")\n",
        "print(f\"el numero de elementos es: {mat_9.size}\")\n",
        "print(f\"El tanaño de las dimensiones del objeto es: {mat_9.shape}\")"
      ],
      "metadata": {
        "colab": {
          "base_uri": "https://localhost:8080/"
        },
        "id": "5D3Fu-e87k1Q",
        "outputId": "eac83063-d871-4b99-b45e-a7cdff048978"
      },
      "execution_count": 19,
      "outputs": [
        {
          "output_type": "stream",
          "name": "stdout",
          "text": [
            "El arreglo es :\n",
            " [[0. 0. 0.]\n",
            " [0. 0. 0.]\n",
            " [0. 0. 0.]\n",
            " [0. 0. 0.]]\n",
            "El tipo del objeto es: <class 'numpy.ndarray'>\n",
            "El numero de dimensiones es: 2\n",
            "el numero de elementos es: 12\n",
            "El tanaño de las dimensiones del objeto es: (4, 3)\n"
          ]
        }
      ]
    },
    {
      "cell_type": "code",
      "source": [
        "mat_10 =  np.linspace(99,88,20) #\n",
        "print(f\"El arreglo es :\\n {mat_10}\\n\")\n",
        "print(f\"El tipo del objeto es: {type(mat_10)}\")\n",
        "print(f\"El numero de dimensiones es: {mat_10.ndim}\")\n",
        "print(f\"el numero de elementos es: {mat_10.size}\")\n",
        "print(f\"El tanaño de las dimensiones del objeto es: {mat_10.shape}\")"
      ],
      "metadata": {
        "colab": {
          "base_uri": "https://localhost:8080/"
        },
        "id": "Fbmz1gy29cEX",
        "outputId": "3ab7276e-f42c-409b-9173-7483078f4bc3"
      },
      "execution_count": 20,
      "outputs": [
        {
          "output_type": "stream",
          "name": "stdout",
          "text": [
            "El arreglo es :\n",
            " [99.         98.42105263 97.84210526 97.26315789 96.68421053 96.10526316\n",
            " 95.52631579 94.94736842 94.36842105 93.78947368 93.21052632 92.63157895\n",
            " 92.05263158 91.47368421 90.89473684 90.31578947 89.73684211 89.15789474\n",
            " 88.57894737 88.        ]\n",
            "\n",
            "El tipo del objeto es: <class 'numpy.ndarray'>\n",
            "El numero de dimensiones es: 1\n",
            "el numero de elementos es: 20\n",
            "El tanaño de las dimensiones del objeto es: (20,)\n"
          ]
        }
      ]
    },
    {
      "cell_type": "code",
      "source": [
        "type(mat_10.shape)"
      ],
      "metadata": {
        "colab": {
          "base_uri": "https://localhost:8080/"
        },
        "id": "f5IFObhu-CBt",
        "outputId": "9e3d267e-c2cc-4fc5-8786-cdba8f44ceec"
      },
      "execution_count": 21,
      "outputs": [
        {
          "output_type": "execute_result",
          "data": {
            "text/plain": [
              "tuple"
            ]
          },
          "metadata": {},
          "execution_count": 21
        }
      ]
    },
    {
      "cell_type": "code",
      "source": [
        "np.arange(24).reshape(6,4)"
      ],
      "metadata": {
        "id": "RlAUqF5XEszo",
        "outputId": "9e2a6e38-3108-4fc0-bc67-246ef99df543",
        "colab": {
          "base_uri": "https://localhost:8080/"
        }
      },
      "execution_count": 22,
      "outputs": [
        {
          "output_type": "execute_result",
          "data": {
            "text/plain": [
              "array([[ 0,  1,  2,  3],\n",
              "       [ 4,  5,  6,  7],\n",
              "       [ 8,  9, 10, 11],\n",
              "       [12, 13, 14, 15],\n",
              "       [16, 17, 18, 19],\n",
              "       [20, 21, 22, 23]])"
            ]
          },
          "metadata": {},
          "execution_count": 22
        }
      ]
    },
    {
      "cell_type": "code",
      "source": [
        "mat_11 = np.arange(24).reshape(2,4,3)\n",
        "print(f\"El arreglo es :\\n {mat_11}\\n\")\n",
        "print(f\"El tipo del objeto es: {type(mat_11)}\")\n",
        "print(f\"El numero de dimensiones es: {mat_11.ndim}\")\n",
        "print(f\"el numero de elementos es: {mat_11.size}\")\n",
        "print(f\"El tanaño de las dimensiones del objeto es: {mat_11.shape}\")"
      ],
      "metadata": {
        "id": "0Ym3JzjBEwzw",
        "outputId": "863b4017-4a90-4765-fbe4-1ffd88d11892",
        "colab": {
          "base_uri": "https://localhost:8080/"
        }
      },
      "execution_count": 23,
      "outputs": [
        {
          "output_type": "stream",
          "name": "stdout",
          "text": [
            "El arreglo es :\n",
            " [[[ 0  1  2]\n",
            "  [ 3  4  5]\n",
            "  [ 6  7  8]\n",
            "  [ 9 10 11]]\n",
            "\n",
            " [[12 13 14]\n",
            "  [15 16 17]\n",
            "  [18 19 20]\n",
            "  [21 22 23]]]\n",
            "\n",
            "El tipo del objeto es: <class 'numpy.ndarray'>\n",
            "El numero de dimensiones es: 3\n",
            "el numero de elementos es: 24\n",
            "El tanaño de las dimensiones del objeto es: (2, 4, 3)\n"
          ]
        }
      ]
    },
    {
      "cell_type": "code",
      "source": [
        "mat_11 = np.arange(24).reshape(6,2,2)\n",
        "print(f\"El arreglo es :\\n {mat_11}\\n\")\n",
        "print(f\"El tipo del objeto es: {type(mat_11)}\")\n",
        "print(f\"El numero de dimensiones es: {mat_11.ndim}\")\n",
        "print(f\"el numero de elementos es: {mat_11.size}\")\n",
        "print(f\"El tanaño de las dimensiones del objeto es: {mat_11.shape}\")"
      ],
      "metadata": {
        "id": "lrfitKKMGrAu",
        "outputId": "589e52d0-a3d6-4fdf-a39d-7f338053138b",
        "colab": {
          "base_uri": "https://localhost:8080/"
        }
      },
      "execution_count": 24,
      "outputs": [
        {
          "output_type": "stream",
          "name": "stdout",
          "text": [
            "El arreglo es :\n",
            " [[[ 0  1]\n",
            "  [ 2  3]]\n",
            "\n",
            " [[ 4  5]\n",
            "  [ 6  7]]\n",
            "\n",
            " [[ 8  9]\n",
            "  [10 11]]\n",
            "\n",
            " [[12 13]\n",
            "  [14 15]]\n",
            "\n",
            " [[16 17]\n",
            "  [18 19]]\n",
            "\n",
            " [[20 21]\n",
            "  [22 23]]]\n",
            "\n",
            "El tipo del objeto es: <class 'numpy.ndarray'>\n",
            "El numero de dimensiones es: 3\n",
            "el numero de elementos es: 24\n",
            "El tanaño de las dimensiones del objeto es: (6, 2, 2)\n"
          ]
        }
      ]
    },
    {
      "cell_type": "code",
      "source": [
        "mat_12 = np.arange(27).reshape(3,3,3)\n",
        "print(f\"El arreglo es :\\n {mat_12}\\n\")\n",
        "print(f\"El tipo del objeto es: {type(mat_12)}\")\n",
        "print(f\"El numero de dimensiones es: {mat_12.ndim}\")\n",
        "print(f\"el numero de elementos es: {mat_12.size}\")\n",
        "print(f\"El tanaño de las dimensiones del objeto es: {mat_12.shape}\")"
      ],
      "metadata": {
        "id": "B1Y-Kbj2HVgN",
        "outputId": "b343dbae-8a3c-4e83-ecb7-92b41aa1396b",
        "colab": {
          "base_uri": "https://localhost:8080/"
        }
      },
      "execution_count": 25,
      "outputs": [
        {
          "output_type": "stream",
          "name": "stdout",
          "text": [
            "El arreglo es :\n",
            " [[[ 0  1  2]\n",
            "  [ 3  4  5]\n",
            "  [ 6  7  8]]\n",
            "\n",
            " [[ 9 10 11]\n",
            "  [12 13 14]\n",
            "  [15 16 17]]\n",
            "\n",
            " [[18 19 20]\n",
            "  [21 22 23]\n",
            "  [24 25 26]]]\n",
            "\n",
            "El tipo del objeto es: <class 'numpy.ndarray'>\n",
            "El numero de dimensiones es: 3\n",
            "el numero de elementos es: 27\n",
            "El tanaño de las dimensiones del objeto es: (3, 3, 3)\n"
          ]
        }
      ]
    },
    {
      "cell_type": "code",
      "source": [
        "mat_13 =np.arange(24).reshape(4,6)\n",
        "mat_13"
      ],
      "metadata": {
        "id": "qyg5NCJ9NKtT",
        "outputId": "f82094cf-0fb0-48c7-e32c-ec812f0d4c87",
        "colab": {
          "base_uri": "https://localhost:8080/"
        }
      },
      "execution_count": 26,
      "outputs": [
        {
          "output_type": "execute_result",
          "data": {
            "text/plain": [
              "array([[ 0,  1,  2,  3,  4,  5],\n",
              "       [ 6,  7,  8,  9, 10, 11],\n",
              "       [12, 13, 14, 15, 16, 17],\n",
              "       [18, 19, 20, 21, 22, 23]])"
            ]
          },
          "metadata": {},
          "execution_count": 26
        }
      ]
    },
    {
      "cell_type": "markdown",
      "source": [
        "# ***CLASS***\n",
        "Operaciones en matrices."
      ],
      "metadata": {
        "id": "JjlLZdDTO34j"
      }
    },
    {
      "cell_type": "markdown",
      "source": [
        "## ***Multiplicacion Vectorial:***"
      ],
      "metadata": {
        "id": "Ozs1bpdCMteJ"
      }
    },
    {
      "cell_type": "code",
      "source": [
        "# Definición de los vectores\n",
        "a = np.array([1, 2, 3])\n",
        "b = np.array([4, 5, 6])\n",
        "\n",
        "# Producto escalar\n",
        "dot_product = np.dot(a, b)\n",
        "\n",
        "print(\"Producto escalar:\", dot_product)"
      ],
      "metadata": {
        "id": "xyuLqxFiMqOt",
        "outputId": "54fe294f-7fee-4c4b-ccc8-67b4c12d0ba8",
        "colab": {
          "base_uri": "https://localhost:8080/"
        }
      },
      "execution_count": 27,
      "outputs": [
        {
          "output_type": "stream",
          "name": "stdout",
          "text": [
            "Producto escalar: 32\n"
          ]
        }
      ]
    },
    {
      "cell_type": "code",
      "source": [
        "# Definir dos vectores\n",
        "vector1 = np.array([1, 0, 0])\n",
        "vector2 = np.array([0, 1, 0])\n",
        "\n",
        "# Calcular el producto cruzado\n",
        "producto_cruzado = np.cross(vector1, vector2)\n",
        "\n",
        "print(\"El producto cruzado es:\", producto_cruzado)"
      ],
      "metadata": {
        "id": "OOhv5lIKNQQX",
        "outputId": "ab51002f-0127-4a24-adb5-2c6054b127b1",
        "colab": {
          "base_uri": "https://localhost:8080/"
        }
      },
      "execution_count": 28,
      "outputs": [
        {
          "output_type": "stream",
          "name": "stdout",
          "text": [
            "El producto cruzado es: [0 0 1]\n"
          ]
        }
      ]
    },
    {
      "cell_type": "code",
      "source": [
        "mat_12"
      ],
      "metadata": {
        "id": "otGxNcPdOBMG",
        "outputId": "0556979d-a587-4637-f292-5d68c6aa77bc",
        "colab": {
          "base_uri": "https://localhost:8080/"
        }
      },
      "execution_count": 29,
      "outputs": [
        {
          "output_type": "execute_result",
          "data": {
            "text/plain": [
              "array([[[ 0,  1,  2],\n",
              "        [ 3,  4,  5],\n",
              "        [ 6,  7,  8]],\n",
              "\n",
              "       [[ 9, 10, 11],\n",
              "        [12, 13, 14],\n",
              "        [15, 16, 17]],\n",
              "\n",
              "       [[18, 19, 20],\n",
              "        [21, 22, 23],\n",
              "        [24, 25, 26]]])"
            ]
          },
          "metadata": {},
          "execution_count": 29
        }
      ]
    },
    {
      "cell_type": "code",
      "source": [
        "mat_12[2].size"
      ],
      "metadata": {
        "id": "7H4pe6g3OTGP",
        "outputId": "d1ef3cdc-f3aa-4a51-aace-0530e04d7b43",
        "colab": {
          "base_uri": "https://localhost:8080/"
        }
      },
      "execution_count": 30,
      "outputs": [
        {
          "output_type": "execute_result",
          "data": {
            "text/plain": [
              "9"
            ]
          },
          "metadata": {},
          "execution_count": 30
        }
      ]
    },
    {
      "cell_type": "code",
      "source": [
        "mat_13 =np.arange(16).reshape(4,4)\n",
        "mat_13"
      ],
      "metadata": {
        "id": "MA_S1zX6OZAP",
        "outputId": "eed607c1-87a0-488e-dd4d-479feaf250bb",
        "colab": {
          "base_uri": "https://localhost:8080/"
        }
      },
      "execution_count": 31,
      "outputs": [
        {
          "output_type": "execute_result",
          "data": {
            "text/plain": [
              "array([[ 0,  1,  2,  3],\n",
              "       [ 4,  5,  6,  7],\n",
              "       [ 8,  9, 10, 11],\n",
              "       [12, 13, 14, 15]])"
            ]
          },
          "metadata": {},
          "execution_count": 31
        }
      ]
    },
    {
      "cell_type": "code",
      "source": [
        "type(mat_13)"
      ],
      "metadata": {
        "id": "s9MSqOZAO9ZN",
        "outputId": "e466f280-ef3f-48c4-fe37-a8424a5cbcd5",
        "colab": {
          "base_uri": "https://localhost:8080/"
        }
      },
      "execution_count": 32,
      "outputs": [
        {
          "output_type": "execute_result",
          "data": {
            "text/plain": [
              "numpy.ndarray"
            ]
          },
          "metadata": {},
          "execution_count": 32
        }
      ]
    },
    {
      "cell_type": "markdown",
      "source": [
        "## ***Suma add***"
      ],
      "metadata": {
        "id": "_zg7MdnQPL1k"
      }
    },
    {
      "cell_type": "code",
      "source": [
        "mat_18 =np.arange(4).reshape(2,2) + 1\n",
        "mat_19 =np.arange(4).reshape(2,2) + 5\n",
        "print(f\"Arreglo 1 :\\n {mat_18}\\n\")\n",
        "print(f\"Arreglo 2 :\\n {mat_19}\\n\")"
      ],
      "metadata": {
        "id": "cuBqtWPtPOVH",
        "outputId": "11d4af82-ec86-4de2-9188-255dd34b1738",
        "colab": {
          "base_uri": "https://localhost:8080/"
        }
      },
      "execution_count": 33,
      "outputs": [
        {
          "output_type": "stream",
          "name": "stdout",
          "text": [
            "Arreglo 1 :\n",
            " [[1 2]\n",
            " [3 4]]\n",
            "\n",
            "Arreglo 2 :\n",
            " [[5 6]\n",
            " [7 8]]\n",
            "\n"
          ]
        }
      ]
    },
    {
      "cell_type": "code",
      "source": [
        "# add\n",
        "print(f\"Arreglo suma (mat_18 + mat_19) :\\n {mat_18 + mat_19}\\n\")\n",
        "print(f\"Arreglo  add np.add(mat_18, mat_19) :\\n {np.add(mat_18, mat_19)}\\n\")"
      ],
      "metadata": {
        "id": "iIGMTItrPrkE",
        "outputId": "a3bfa46e-671c-4fe1-ecde-e8274edc5bc0",
        "colab": {
          "base_uri": "https://localhost:8080/"
        }
      },
      "execution_count": 34,
      "outputs": [
        {
          "output_type": "stream",
          "name": "stdout",
          "text": [
            "Arreglo suma (mat_18 + mat_19) :\n",
            " [[ 6  8]\n",
            " [10 12]]\n",
            "\n",
            "Arreglo  add np.add(mat_18, mat_19) :\n",
            " [[ 6  8]\n",
            " [10 12]]\n",
            "\n"
          ]
        }
      ]
    },
    {
      "cell_type": "markdown",
      "source": [
        "## ***Resta subtract***"
      ],
      "metadata": {
        "id": "7_KHojglQAMG"
      }
    },
    {
      "cell_type": "code",
      "source": [
        "#np.subtract(vector1,vector2)\n",
        "print(f\"Arreglo resta (mat_18 - mat_19) :\\n {mat_18 -  mat_19}\\n\")\n",
        "print(f\"Arreglo sub np.subtract(mat_18, mat_19) :\\n {np.subtract(mat_18, mat_19)}\\n\")"
      ],
      "metadata": {
        "id": "f1C_fQYhQDKN",
        "outputId": "044e08c3-260e-4e0b-b43e-a2f5f4789f53",
        "colab": {
          "base_uri": "https://localhost:8080/"
        }
      },
      "execution_count": 35,
      "outputs": [
        {
          "output_type": "stream",
          "name": "stdout",
          "text": [
            "Arreglo resta (mat_18 - mat_19) :\n",
            " [[-4 -4]\n",
            " [-4 -4]]\n",
            "\n",
            "Arreglo sub np.subtract(mat_18, mat_19) :\n",
            " [[-4 -4]\n",
            " [-4 -4]]\n",
            "\n"
          ]
        }
      ]
    },
    {
      "cell_type": "markdown",
      "source": [
        "## ***Multiply Multiplicacion***"
      ],
      "metadata": {
        "id": "vkim9y8BQiIs"
      }
    },
    {
      "cell_type": "code",
      "source": [
        "#np.multiply(vector1, vector2)\n",
        "print(f\"Arreglo Multiplicacion (mat_18* mat_19) :\\n {mat_18*mat_19}\\n\")\n",
        "print(f\"Arreglo np.multiply(mat_18, mat_19) :\\n {np.multiply(mat_18, mat_19)}\\n\")"
      ],
      "metadata": {
        "id": "oMY3jC-2QhaB",
        "outputId": "d3b600ff-2ca5-49ee-f5bc-f666fa0ffa29",
        "colab": {
          "base_uri": "https://localhost:8080/"
        }
      },
      "execution_count": 36,
      "outputs": [
        {
          "output_type": "stream",
          "name": "stdout",
          "text": [
            "Arreglo Multiplicacion (mat_18* mat_19) :\n",
            " [[ 5 12]\n",
            " [21 32]]\n",
            "\n",
            "Arreglo np.multiply(mat_18, mat_19) :\n",
            " [[ 5 12]\n",
            " [21 32]]\n",
            "\n"
          ]
        }
      ]
    },
    {
      "cell_type": "markdown",
      "source": [
        "## ***Numeros Aleatorios***"
      ],
      "metadata": {
        "id": "NsO3OsxiRxaD"
      }
    },
    {
      "cell_type": "code",
      "source": [
        "n1 = np.random.randint(5)\n",
        "mat_20 = np.random.randint(10, size=5)\n",
        "mat_21 = np.random.randint(999, size=(3,3))\n",
        "mat_22 =np.random.rand(10)\n",
        "mat_23 = np.random.rand(3,3)\n",
        "print(f\"El numero aleatorio n1 es:\\n{n1}\\n\")\n",
        "print(f\"La matriz aleatoria mat_20 es: \\n{mat_20} \\n\")\n",
        "print(f\"La matriz aleatoria mat_21 es: \\n {mat_21} \\n\")\n",
        "print(f\"La matriz aleatoria mat_22 es: \\n{mat_22} \\n\")\n",
        "print(f\"La matriz aleatoria mat_23 es: \\n {mat_23} \\n\")"
      ],
      "metadata": {
        "id": "9AIqqgY9Rprq",
        "outputId": "ba08e521-b1d4-48ff-f99c-c1ea8e8215a1",
        "colab": {
          "base_uri": "https://localhost:8080/"
        }
      },
      "execution_count": 37,
      "outputs": [
        {
          "output_type": "stream",
          "name": "stdout",
          "text": [
            "El numero aleatorio n1 es:\n",
            "1\n",
            "\n",
            "La matriz aleatoria mat_20 es: \n",
            "[5 6 4 4 3] \n",
            "\n",
            "La matriz aleatoria mat_21 es: \n",
            " [[714  16  34]\n",
            " [827 319 451]\n",
            " [ 94 820 304]] \n",
            "\n",
            "La matriz aleatoria mat_22 es: \n",
            "[0.32741008 0.23419607 0.27930058 0.38350027 0.63547413 0.75892848\n",
            " 0.82572085 0.67998239 0.269962   0.71042826] \n",
            "\n",
            "La matriz aleatoria mat_23 es: \n",
            " [[0.83191791 0.79560623 0.00663563]\n",
            " [0.36165603 0.11610236 0.96259359]\n",
            " [0.61236676 0.72664223 0.43591379]] \n",
            "\n"
          ]
        }
      ]
    },
    {
      "cell_type": "code",
      "source": [
        "mat_25 = np.random.choice([3,5,9,5,1],size=(2,2))\n",
        "mat_26 = np.array([[0,1,2],[4,2,3]])\n",
        "print(f\"La matriz aleatoria mat_25 es: \\n{mat_25} \\n\")\n",
        "print(f\"La matriz es de dimensiones: \\n{mat_25.ndim}\")\n",
        "print(f\"La matriz aleatoria mat_26 es: \\n{mat_26} \\n\")\n",
        "print(f\"La matriz es de dimensiones de mat_26: {mat_26.ndim}\")\n",
        "print(f\"El tipo de dato de mat_26: {type(mat_26)}\")\n",
        "print(f\"La dimension de mat_26: {mat_26.shape}\")"
      ],
      "metadata": {
        "id": "D41JGjimWpEK",
        "outputId": "ce7e2a11-378d-42f0-b47c-8a6f7b9577c8",
        "colab": {
          "base_uri": "https://localhost:8080/"
        }
      },
      "execution_count": 38,
      "outputs": [
        {
          "output_type": "stream",
          "name": "stdout",
          "text": [
            "La matriz aleatoria mat_25 es: \n",
            "[[5 5]\n",
            " [1 9]] \n",
            "\n",
            "La matriz es de dimensiones: \n",
            "2\n",
            "La matriz aleatoria mat_26 es: \n",
            "[[0 1 2]\n",
            " [4 2 3]] \n",
            "\n",
            "La matriz es de dimensiones de mat_26: 2\n",
            "El tipo de dato de mat_26: <class 'numpy.ndarray'>\n",
            "La dimension de mat_26: (2, 3)\n"
          ]
        }
      ]
    },
    {
      "cell_type": "code",
      "source": [
        "# La suma de los valores de la matriz es:\n",
        "print(f\"La suma de los valores de la matriz es: {mat_26.sum()}\")\n",
        "# la suma de valores a nivel columna es:\n",
        "print(f\"La suma de los valores de la matriz es: {mat_26.sum(axis=0)}\")\n",
        "# La suma de valores a nivel filas:\n",
        "print(f\"La suma de los valores de la matriz es: {mat_26.sum(axis=1)}\")"
      ],
      "metadata": {
        "id": "gzOidXYPXrtD",
        "outputId": "9620353a-202f-49f6-b6a3-4e3b675c344b",
        "colab": {
          "base_uri": "https://localhost:8080/"
        }
      },
      "execution_count": 39,
      "outputs": [
        {
          "output_type": "stream",
          "name": "stdout",
          "text": [
            "La suma de los valores de la matriz es: 12\n",
            "La suma de los valores de la matriz es: [4 3 5]\n",
            "La suma de los valores de la matriz es: [3 9]\n"
          ]
        }
      ]
    },
    {
      "cell_type": "code",
      "source": [
        "mat_28 = np.array([[1,1],[1,1]])\n",
        "mat_29 = np.array([[2,2],[2,2]])*4\n",
        "print(f\"La matriz mat_28 es: \\n{mat_28} \\n\")\n",
        "print(f\"La matriz mat_29 es: \\n{mat_29} \\n\")"
      ],
      "metadata": {
        "id": "VLDxt94yanLD",
        "outputId": "540c9da4-3991-4ec9-ebcd-b6cf162eb1e4",
        "colab": {
          "base_uri": "https://localhost:8080/"
        }
      },
      "execution_count": 40,
      "outputs": [
        {
          "output_type": "stream",
          "name": "stdout",
          "text": [
            "La matriz mat_28 es: \n",
            "[[1 1]\n",
            " [1 1]] \n",
            "\n",
            "La matriz mat_29 es: \n",
            "[[8 8]\n",
            " [8 8]] \n",
            "\n"
          ]
        }
      ]
    },
    {
      "cell_type": "markdown",
      "source": [
        "## ***Concatenacion -  concatenate.***\n",
        "\n",
        "\n"
      ],
      "metadata": {
        "id": "1qxEZwhubCcg"
      }
    },
    {
      "cell_type": "code",
      "source": [
        "np.concatenate([mat_28,mat_29])\n",
        "print(f\"np.concatenate([mat_28,mat_29]) :\\n {np.concatenate([mat_28,mat_29])}\")\n",
        "# apilar vertical:\n",
        "print(f\"np.vstack([mat_28,mat_29]) :\\n {np.concatenate([mat_28,mat_29],axis=0)}\")\n",
        "# apilar horizontal:\n",
        "print(f\"np.hstack([mat_28,mat_29]) :\\n {np.concatenate([mat_28,mat_29],axis=1)}\")"
      ],
      "metadata": {
        "id": "ZnzmoPfybBRn",
        "outputId": "86fa4bc4-5494-416f-a381-94aadc7b9b2b",
        "colab": {
          "base_uri": "https://localhost:8080/"
        }
      },
      "execution_count": 41,
      "outputs": [
        {
          "output_type": "stream",
          "name": "stdout",
          "text": [
            "np.concatenate([mat_28,mat_29]) :\n",
            " [[1 1]\n",
            " [1 1]\n",
            " [8 8]\n",
            " [8 8]]\n",
            "np.vstack([mat_28,mat_29]) :\n",
            " [[1 1]\n",
            " [1 1]\n",
            " [8 8]\n",
            " [8 8]]\n",
            "np.hstack([mat_28,mat_29]) :\n",
            " [[1 1 8 8]\n",
            " [1 1 8 8]]\n"
          ]
        }
      ]
    },
    {
      "cell_type": "code",
      "source": [],
      "metadata": {
        "id": "LLhApPhjbgIk"
      },
      "execution_count": 41,
      "outputs": []
    },
    {
      "cell_type": "code",
      "source": [],
      "metadata": {
        "id": "hAiiNgZqbzek"
      },
      "execution_count": 41,
      "outputs": []
    }
  ]
}
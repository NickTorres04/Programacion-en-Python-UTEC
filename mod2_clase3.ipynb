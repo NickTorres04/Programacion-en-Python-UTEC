{
  "nbformat": 4,
  "nbformat_minor": 0,
  "metadata": {
    "colab": {
      "provenance": [],
      "authorship_tag": "ABX9TyMrv5Flq7W9lrlRzr8nCGYS",
      "include_colab_link": true
    },
    "kernelspec": {
      "name": "python3",
      "display_name": "Python 3"
    },
    "language_info": {
      "name": "python"
    }
  },
  "cells": [
    {
      "cell_type": "markdown",
      "metadata": {
        "id": "view-in-github",
        "colab_type": "text"
      },
      "source": [
        "<a href=\"https://colab.research.google.com/github/NickTorres04/Programacion-en-Python-UTEC/blob/main/mod2_clase3.ipynb\" target=\"_parent\"><img src=\"https://colab.research.google.com/assets/colab-badge.svg\" alt=\"Open In Colab\"/></a>"
      ]
    },
    {
      "cell_type": "markdown",
      "source": [
        "# **Numpy**"
      ],
      "metadata": {
        "id": "cEBKhtPBxGzn"
      }
    },
    {
      "cell_type": "code",
      "execution_count": null,
      "metadata": {
        "id": "lngebxIuwF4N"
      },
      "outputs": [],
      "source": [
        "# Arreglo que consume menos memoria.\n",
        "import numpy as np"
      ]
    },
    {
      "cell_type": "code",
      "source": [
        "lista_1 = [1,3,5]\n",
        "print(lista_1)\n",
        "sum(lista_1)"
      ],
      "metadata": {
        "colab": {
          "base_uri": "https://localhost:8080/"
        },
        "id": "D3YUYYxGyWPY",
        "outputId": "fa3029b7-87b6-40a7-a256-b656613a531c"
      },
      "execution_count": null,
      "outputs": [
        {
          "output_type": "stream",
          "name": "stdout",
          "text": [
            "[1, 3, 5]\n"
          ]
        },
        {
          "output_type": "execute_result",
          "data": {
            "text/plain": [
              "9"
            ]
          },
          "metadata": {},
          "execution_count": 64
        }
      ]
    },
    {
      "cell_type": "code",
      "source": [
        "type(lista_1)"
      ],
      "metadata": {
        "colab": {
          "base_uri": "https://localhost:8080/"
        },
        "id": "UaDqIrSWymUB",
        "outputId": "ceb991d3-efaa-4aff-9698-b6385d90839a"
      },
      "execution_count": null,
      "outputs": [
        {
          "output_type": "execute_result",
          "data": {
            "text/plain": [
              "list"
            ]
          },
          "metadata": {},
          "execution_count": 65
        }
      ]
    },
    {
      "cell_type": "code",
      "source": [
        "mat_1=([2,4,5])\n",
        "type(mat_1)"
      ],
      "metadata": {
        "colab": {
          "base_uri": "https://localhost:8080/"
        },
        "id": "iP2_pnFSzIbd",
        "outputId": "cd05249b-b8b6-401f-a24f-78720e29768e"
      },
      "execution_count": null,
      "outputs": [
        {
          "output_type": "execute_result",
          "data": {
            "text/plain": [
              "list"
            ]
          },
          "metadata": {},
          "execution_count": 66
        }
      ]
    },
    {
      "cell_type": "code",
      "source": [
        "lista_1.append(8)\n",
        "print(lista_1)"
      ],
      "metadata": {
        "colab": {
          "base_uri": "https://localhost:8080/"
        },
        "id": "2M87u1d1zQ0J",
        "outputId": "9a69e395-94a1-4940-d558-8cc91c8861a6"
      },
      "execution_count": null,
      "outputs": [
        {
          "output_type": "stream",
          "name": "stdout",
          "text": [
            "[1, 3, 5, 8]\n"
          ]
        }
      ]
    },
    {
      "cell_type": "code",
      "source": [
        "vector = np.array([1, 2, 3, 4, 5])"
      ],
      "metadata": {
        "id": "vXoZ4PSMzW1q"
      },
      "execution_count": null,
      "outputs": []
    },
    {
      "cell_type": "code",
      "source": [
        "type(vector)"
      ],
      "metadata": {
        "colab": {
          "base_uri": "https://localhost:8080/"
        },
        "id": "9zyDKi8D0flG",
        "outputId": "db0bd509-207c-4fb7-bc2c-55a809cb7b07"
      },
      "execution_count": null,
      "outputs": [
        {
          "output_type": "execute_result",
          "data": {
            "text/plain": [
              "numpy.ndarray"
            ]
          },
          "metadata": {},
          "execution_count": 69
        }
      ]
    },
    {
      "cell_type": "code",
      "source": [
        "#listas:\n",
        "l1 = [1,2,3]\n",
        "l2 = [4,5,6]\n",
        "l1+l2\n",
        "print(l1+l2)"
      ],
      "metadata": {
        "colab": {
          "base_uri": "https://localhost:8080/"
        },
        "id": "pnPnZqZL0hhO",
        "outputId": "5ab365fc-a029-4ff3-82b8-6924a246a55a"
      },
      "execution_count": null,
      "outputs": [
        {
          "output_type": "stream",
          "name": "stdout",
          "text": [
            "[1, 2, 3, 4, 5, 6]\n"
          ]
        }
      ]
    },
    {
      "cell_type": "code",
      "source": [
        "a1 = np.array([1,2,3])\n",
        "a2 = np.array([4,5,6])\n",
        "print(f\"Arreglo de Numpy 1 {a1}\")\n",
        "print(f\"Arreglo de Numpy 1 {a2}\")\n",
        "print(f\"Arreglo de Numpy a1 + a2 {a1+a2}\")\n",
        "print(f\"Arreglo de Numpy a1 * a2 {a1*a2}\")"
      ],
      "metadata": {
        "colab": {
          "base_uri": "https://localhost:8080/"
        },
        "id": "7sy5haoG1K-x",
        "outputId": "bf258619-cb0c-4391-845c-e803b14ce4b6"
      },
      "execution_count": null,
      "outputs": [
        {
          "output_type": "stream",
          "name": "stdout",
          "text": [
            "Arreglo de Numpy 1 [1 2 3]\n",
            "Arreglo de Numpy 1 [4 5 6]\n",
            "Arreglo de Numpy a1 + a2 [5 7 9]\n",
            "Arreglo de Numpy a1 * a2 [ 4 10 18]\n"
          ]
        }
      ]
    },
    {
      "cell_type": "code",
      "source": [
        "mat_3 =np.array([1,2,3,4,5,6])\n",
        "mat_3"
      ],
      "metadata": {
        "colab": {
          "base_uri": "https://localhost:8080/"
        },
        "id": "zLMqZXfs2Een",
        "outputId": "71352d96-5ee9-4600-e194-d6ca56ea1659"
      },
      "execution_count": null,
      "outputs": [
        {
          "output_type": "execute_result",
          "data": {
            "text/plain": [
              "array([1, 2, 3, 4, 5, 6])"
            ]
          },
          "metadata": {},
          "execution_count": 72
        }
      ]
    },
    {
      "cell_type": "markdown",
      "source": [
        "## matriz de DOS DIMENSIONES"
      ],
      "metadata": {
        "id": "7NjNZ1qb2Nyi"
      }
    },
    {
      "cell_type": "code",
      "source": [
        "# Matriz en 2D\n",
        "mat_4 = np.array([[1,2,3],[4,5,6]])\n",
        "mat_4"
      ],
      "metadata": {
        "colab": {
          "base_uri": "https://localhost:8080/"
        },
        "id": "mgIeaIq02Mft",
        "outputId": "35473ad2-f984-4e9b-945d-f26c8b7ac862"
      },
      "execution_count": null,
      "outputs": [
        {
          "output_type": "execute_result",
          "data": {
            "text/plain": [
              "array([[1, 2, 3],\n",
              "       [4, 5, 6]])"
            ]
          },
          "metadata": {},
          "execution_count": 73
        }
      ]
    },
    {
      "cell_type": "code",
      "source": [
        "mat_5 = np.array([[1],[4],[6]])\n",
        "mat_5"
      ],
      "metadata": {
        "colab": {
          "base_uri": "https://localhost:8080/"
        },
        "id": "kXIfxZbd2f3A",
        "outputId": "1cb7b8e4-82b3-4cf2-b826-484259996231"
      },
      "execution_count": null,
      "outputs": [
        {
          "output_type": "execute_result",
          "data": {
            "text/plain": [
              "array([[1],\n",
              "       [4],\n",
              "       [6]])"
            ]
          },
          "metadata": {},
          "execution_count": 74
        }
      ]
    },
    {
      "cell_type": "code",
      "source": [
        "lista_2  =  [1,2,3,4,5]\n",
        "print(f\"La lista es : {lista_2}\\n\")\n",
        "print(f\"El tipo del objeto es: {type(lista_2)}\")"
      ],
      "metadata": {
        "colab": {
          "base_uri": "https://localhost:8080/"
        },
        "id": "ISZCN-lR2oKd",
        "outputId": "6e62e6f4-fe29-433b-a636-e72fc6519279"
      },
      "execution_count": null,
      "outputs": [
        {
          "output_type": "stream",
          "name": "stdout",
          "text": [
            "La lista es : [1, 2, 3, 4, 5]\n",
            "\n",
            "El tipo del objeto es: <class 'list'>\n"
          ]
        }
      ]
    },
    {
      "cell_type": "code",
      "source": [
        "mat_5 =  np.array(lista_2)\n",
        "print(f\"La lista es : {mat_5}\\n\")\n",
        "print(f\"El tipo del objeto es: {type(mat_5)}\")"
      ],
      "metadata": {
        "colab": {
          "base_uri": "https://localhost:8080/"
        },
        "id": "uHeEFoc73P6J",
        "outputId": "cf3097f9-f22b-42ad-da26-0d091e798930"
      },
      "execution_count": null,
      "outputs": [
        {
          "output_type": "stream",
          "name": "stdout",
          "text": [
            "La lista es : [1 2 3 4 5]\n",
            "\n",
            "El tipo del objeto es: <class 'numpy.ndarray'>\n"
          ]
        }
      ]
    },
    {
      "cell_type": "code",
      "source": [
        "lista_3  =  [[1,2,3],[4,5,6],[7,8,9]]\n",
        "print(f\"La lista es : {lista_3}\\n\")\n",
        "print(f\"El tipo del objeto es: {type(lista_3)}\")"
      ],
      "metadata": {
        "colab": {
          "base_uri": "https://localhost:8080/"
        },
        "id": "MjshQ_zA4EAx",
        "outputId": "b535be64-4e71-40e7-edfa-0aafb7b0562d"
      },
      "execution_count": null,
      "outputs": [
        {
          "output_type": "stream",
          "name": "stdout",
          "text": [
            "La lista es : [[1, 2, 3], [4, 5, 6], [7, 8, 9]]\n",
            "\n",
            "El tipo del objeto es: <class 'list'>\n"
          ]
        }
      ]
    },
    {
      "cell_type": "code",
      "source": [
        "mat_6  =  np.array(lista_3)\n",
        "print(f\"La lista es :\\n {mat_6}\")\n",
        "print(f\"El tipo del objeto es: {type(mat_6)}\")"
      ],
      "metadata": {
        "colab": {
          "base_uri": "https://localhost:8080/"
        },
        "id": "FLEhEup94QRm",
        "outputId": "f659d0ee-e163-44d8-c3a9-1566ca85a006"
      },
      "execution_count": null,
      "outputs": [
        {
          "output_type": "stream",
          "name": "stdout",
          "text": [
            "La lista es :\n",
            " [[1 2 3]\n",
            " [4 5 6]\n",
            " [7 8 9]]\n",
            "El tipo del objeto es: <class 'numpy.ndarray'>\n"
          ]
        }
      ]
    },
    {
      "cell_type": "code",
      "source": [
        "mat_7 = np.arange(20).reshape(4,5) #FILAS , COLUMNAS\n",
        "print(f\"La lista es :\\n {mat_7}\")\n",
        "print(f\"El tipo del objeto es: {type(mat_7)}\")\n",
        "print(f\"El numero de dimensiones es: {mat_7.ndim}\")\n",
        "print(f\"el numero de elementos es: {mat_7.size}\")\n",
        "print(f\"El tanaño de las dimensiones del objeto es: {mat_7.shape}\")"
      ],
      "metadata": {
        "colab": {
          "base_uri": "https://localhost:8080/"
        },
        "id": "97yBcPeD5dlc",
        "outputId": "4117eb4f-9b7a-4532-990a-359919451119"
      },
      "execution_count": null,
      "outputs": [
        {
          "output_type": "stream",
          "name": "stdout",
          "text": [
            "La lista es :\n",
            " [[ 0  1  2  3  4]\n",
            " [ 5  6  7  8  9]\n",
            " [10 11 12 13 14]\n",
            " [15 16 17 18 19]]\n",
            "El tipo del objeto es: <class 'numpy.ndarray'>\n",
            "El numero de dimensiones es: 2\n",
            "el numero de elementos es: 20\n",
            "El tanaño de las dimensiones del objeto es: (4, 5)\n"
          ]
        }
      ]
    },
    {
      "cell_type": "code",
      "source": [
        "print(type(mat_7.shape))\n",
        "print(mat_7.shape[0])\n",
        "print(mat_7.shape[1])"
      ],
      "metadata": {
        "colab": {
          "base_uri": "https://localhost:8080/"
        },
        "id": "QEP_ffz67gFv",
        "outputId": "719d8368-9a84-4297-e3ed-ea8165cdaa89"
      },
      "execution_count": null,
      "outputs": [
        {
          "output_type": "stream",
          "name": "stdout",
          "text": [
            "<class 'tuple'>\n",
            "4\n",
            "5\n"
          ]
        }
      ]
    },
    {
      "cell_type": "code",
      "source": [
        "mat_9 = np.zeros((4,3))\n",
        "print(f\"El arreglo es :\\n {mat_9}\")\n",
        "print(f\"El tipo del objeto es: {type(mat_9)}\")\n",
        "print(f\"El numero de dimensiones es: {mat_9.ndim}\")\n",
        "print(f\"el numero de elementos es: {mat_9.size}\")\n",
        "print(f\"El tanaño de las dimensiones del objeto es: {mat_9.shape}\")"
      ],
      "metadata": {
        "colab": {
          "base_uri": "https://localhost:8080/"
        },
        "id": "5D3Fu-e87k1Q",
        "outputId": "77317018-4980-4fa3-ba31-9bd023c890ef"
      },
      "execution_count": null,
      "outputs": [
        {
          "output_type": "stream",
          "name": "stdout",
          "text": [
            "El arreglo es :\n",
            " [[0. 0. 0.]\n",
            " [0. 0. 0.]\n",
            " [0. 0. 0.]\n",
            " [0. 0. 0.]]\n",
            "El tipo del objeto es: <class 'numpy.ndarray'>\n",
            "El numero de dimensiones es: 2\n",
            "el numero de elementos es: 12\n",
            "El tanaño de las dimensiones del objeto es: (4, 3)\n"
          ]
        }
      ]
    },
    {
      "cell_type": "code",
      "source": [
        "mat_10 =  np.linspace(99,88,20) #\n",
        "print(f\"El arreglo es :\\n {mat_10}\\n\")\n",
        "print(f\"El tipo del objeto es: {type(mat_10)}\")\n",
        "print(f\"El numero de dimensiones es: {mat_10.ndim}\")\n",
        "print(f\"el numero de elementos es: {mat_10.size}\")\n",
        "print(f\"El tanaño de las dimensiones del objeto es: {mat_10.shape}\")"
      ],
      "metadata": {
        "colab": {
          "base_uri": "https://localhost:8080/"
        },
        "id": "Fbmz1gy29cEX",
        "outputId": "9f8ed64a-5254-40e5-f982-47734fb3677d"
      },
      "execution_count": null,
      "outputs": [
        {
          "output_type": "stream",
          "name": "stdout",
          "text": [
            "El arreglo es :\n",
            " [99.         98.42105263 97.84210526 97.26315789 96.68421053 96.10526316\n",
            " 95.52631579 94.94736842 94.36842105 93.78947368 93.21052632 92.63157895\n",
            " 92.05263158 91.47368421 90.89473684 90.31578947 89.73684211 89.15789474\n",
            " 88.57894737 88.        ]\n",
            "\n",
            "El tipo del objeto es: <class 'numpy.ndarray'>\n",
            "El numero de dimensiones es: 1\n",
            "el numero de elementos es: 20\n",
            "El tanaño de las dimensiones del objeto es: (20,)\n"
          ]
        }
      ]
    },
    {
      "cell_type": "code",
      "source": [
        "type(mat_10.shape)"
      ],
      "metadata": {
        "colab": {
          "base_uri": "https://localhost:8080/"
        },
        "id": "f5IFObhu-CBt",
        "outputId": "fa70bb7e-3ba3-4ddb-f08a-1ea75646cff7"
      },
      "execution_count": null,
      "outputs": [
        {
          "output_type": "execute_result",
          "data": {
            "text/plain": [
              "tuple"
            ]
          },
          "metadata": {},
          "execution_count": 83
        }
      ]
    },
    {
      "cell_type": "code",
      "source": [
        "np.arange(24).reshape(6,4)"
      ],
      "metadata": {
        "id": "RlAUqF5XEszo",
        "outputId": "f7334e60-05d7-4e9e-a05e-e5e4b360030f",
        "colab": {
          "base_uri": "https://localhost:8080/"
        }
      },
      "execution_count": null,
      "outputs": [
        {
          "output_type": "execute_result",
          "data": {
            "text/plain": [
              "array([[ 0,  1,  2,  3],\n",
              "       [ 4,  5,  6,  7],\n",
              "       [ 8,  9, 10, 11],\n",
              "       [12, 13, 14, 15],\n",
              "       [16, 17, 18, 19],\n",
              "       [20, 21, 22, 23]])"
            ]
          },
          "metadata": {},
          "execution_count": 84
        }
      ]
    },
    {
      "cell_type": "code",
      "source": [
        "mat_11 = np.arange(24).reshape(2,4,3)\n",
        "print(f\"El arreglo es :\\n {mat_11}\\n\")\n",
        "print(f\"El tipo del objeto es: {type(mat_11)}\")\n",
        "print(f\"El numero de dimensiones es: {mat_11.ndim}\")\n",
        "print(f\"el numero de elementos es: {mat_11.size}\")\n",
        "print(f\"El tanaño de las dimensiones del objeto es: {mat_11.shape}\")"
      ],
      "metadata": {
        "id": "0Ym3JzjBEwzw",
        "outputId": "82643afb-cc29-4154-def7-55ace8e74fcc",
        "colab": {
          "base_uri": "https://localhost:8080/"
        }
      },
      "execution_count": null,
      "outputs": [
        {
          "output_type": "stream",
          "name": "stdout",
          "text": [
            "El arreglo es :\n",
            " [[[ 0  1  2]\n",
            "  [ 3  4  5]\n",
            "  [ 6  7  8]\n",
            "  [ 9 10 11]]\n",
            "\n",
            " [[12 13 14]\n",
            "  [15 16 17]\n",
            "  [18 19 20]\n",
            "  [21 22 23]]]\n",
            "\n",
            "El tipo del objeto es: <class 'numpy.ndarray'>\n",
            "El numero de dimensiones es: 3\n",
            "el numero de elementos es: 24\n",
            "El tanaño de las dimensiones del objeto es: (2, 4, 3)\n"
          ]
        }
      ]
    },
    {
      "cell_type": "code",
      "source": [
        "mat_11 = np.arange(24).reshape(6,2,2)\n",
        "print(f\"El arreglo es :\\n {mat_11}\\n\")\n",
        "print(f\"El tipo del objeto es: {type(mat_11)}\")\n",
        "print(f\"El numero de dimensiones es: {mat_11.ndim}\")\n",
        "print(f\"el numero de elementos es: {mat_11.size}\")\n",
        "print(f\"El tanaño de las dimensiones del objeto es: {mat_11.shape}\")"
      ],
      "metadata": {
        "id": "lrfitKKMGrAu",
        "outputId": "3c6eca67-71a7-468d-fe08-477e8d183215",
        "colab": {
          "base_uri": "https://localhost:8080/"
        }
      },
      "execution_count": null,
      "outputs": [
        {
          "output_type": "stream",
          "name": "stdout",
          "text": [
            "El arreglo es :\n",
            " [[[ 0  1]\n",
            "  [ 2  3]]\n",
            "\n",
            " [[ 4  5]\n",
            "  [ 6  7]]\n",
            "\n",
            " [[ 8  9]\n",
            "  [10 11]]\n",
            "\n",
            " [[12 13]\n",
            "  [14 15]]\n",
            "\n",
            " [[16 17]\n",
            "  [18 19]]\n",
            "\n",
            " [[20 21]\n",
            "  [22 23]]]\n",
            "\n",
            "El tipo del objeto es: <class 'numpy.ndarray'>\n",
            "El numero de dimensiones es: 3\n",
            "el numero de elementos es: 24\n",
            "El tanaño de las dimensiones del objeto es: (6, 2, 2)\n"
          ]
        }
      ]
    },
    {
      "cell_type": "code",
      "source": [
        "mat_12 = np.arange(27).reshape(3,3,3)\n",
        "print(f\"El arreglo es :\\n {mat_12}\\n\")\n",
        "print(f\"El tipo del objeto es: {type(mat_12)}\")\n",
        "print(f\"El numero de dimensiones es: {mat_12.ndim}\")\n",
        "print(f\"el numero de elementos es: {mat_12.size}\")\n",
        "print(f\"El tanaño de las dimensiones del objeto es: {mat_12.shape}\")"
      ],
      "metadata": {
        "id": "B1Y-Kbj2HVgN",
        "outputId": "7a3b7293-f2ba-47ba-d146-77e43f7f5e4a",
        "colab": {
          "base_uri": "https://localhost:8080/"
        }
      },
      "execution_count": null,
      "outputs": [
        {
          "output_type": "stream",
          "name": "stdout",
          "text": [
            "El arreglo es :\n",
            " [[[ 0  1  2]\n",
            "  [ 3  4  5]\n",
            "  [ 6  7  8]]\n",
            "\n",
            " [[ 9 10 11]\n",
            "  [12 13 14]\n",
            "  [15 16 17]]\n",
            "\n",
            " [[18 19 20]\n",
            "  [21 22 23]\n",
            "  [24 25 26]]]\n",
            "\n",
            "El tipo del objeto es: <class 'numpy.ndarray'>\n",
            "El numero de dimensiones es: 3\n",
            "el numero de elementos es: 27\n",
            "El tanaño de las dimensiones del objeto es: (3, 3, 3)\n"
          ]
        }
      ]
    },
    {
      "cell_type": "code",
      "source": [
        "mat_13 =np.arange(24).reshape(4,6)\n",
        "mat_13"
      ],
      "metadata": {
        "id": "qyg5NCJ9NKtT",
        "outputId": "251de1be-cd50-4977-e9fb-55e206141e22",
        "colab": {
          "base_uri": "https://localhost:8080/"
        }
      },
      "execution_count": null,
      "outputs": [
        {
          "output_type": "execute_result",
          "data": {
            "text/plain": [
              "array([[ 0,  1,  2,  3,  4,  5],\n",
              "       [ 6,  7,  8,  9, 10, 11],\n",
              "       [12, 13, 14, 15, 16, 17],\n",
              "       [18, 19, 20, 21, 22, 23]])"
            ]
          },
          "metadata": {},
          "execution_count": 88
        }
      ]
    },
    {
      "cell_type": "markdown",
      "source": [
        "# ***CLASS***\n",
        "Operaciones en matrices."
      ],
      "metadata": {
        "id": "JjlLZdDTO34j"
      }
    },
    {
      "cell_type": "markdown",
      "source": [
        "## ***Multiplicacion Vectorial:***"
      ],
      "metadata": {
        "id": "Ozs1bpdCMteJ"
      }
    },
    {
      "cell_type": "code",
      "source": [
        "# Definición de los vectores\n",
        "a = np.array([1, 2, 3])\n",
        "b = np.array([4, 5, 6])\n",
        "\n",
        "# Producto escalar\n",
        "dot_product = np.dot(a, b)\n",
        "\n",
        "print(\"Producto escalar:\", dot_product)"
      ],
      "metadata": {
        "id": "xyuLqxFiMqOt",
        "outputId": "fbf4b721-2ce1-4ed1-fcb6-71edec3fd8b3",
        "colab": {
          "base_uri": "https://localhost:8080/"
        }
      },
      "execution_count": null,
      "outputs": [
        {
          "output_type": "stream",
          "name": "stdout",
          "text": [
            "Producto escalar: 32\n"
          ]
        }
      ]
    },
    {
      "cell_type": "code",
      "source": [
        "# Definir dos vectores\n",
        "vector1 = np.array([1, 0, 0])\n",
        "vector2 = np.array([0, 1, 0])\n",
        "\n",
        "# Calcular el producto cruzado\n",
        "producto_cruzado = np.cross(vector1, vector2)\n",
        "\n",
        "print(\"El producto cruzado es:\", producto_cruzado)"
      ],
      "metadata": {
        "id": "OOhv5lIKNQQX",
        "outputId": "3c4b8a9e-4dd9-42c8-fcbe-03a729225dfb",
        "colab": {
          "base_uri": "https://localhost:8080/"
        }
      },
      "execution_count": null,
      "outputs": [
        {
          "output_type": "stream",
          "name": "stdout",
          "text": [
            "El producto cruzado es: [0 0 1]\n"
          ]
        }
      ]
    },
    {
      "cell_type": "code",
      "source": [
        "mat_12"
      ],
      "metadata": {
        "id": "otGxNcPdOBMG",
        "outputId": "a98baa16-78ba-4b98-8c08-a56406958227",
        "colab": {
          "base_uri": "https://localhost:8080/"
        }
      },
      "execution_count": null,
      "outputs": [
        {
          "output_type": "execute_result",
          "data": {
            "text/plain": [
              "array([[[ 0,  1,  2],\n",
              "        [ 3,  4,  5],\n",
              "        [ 6,  7,  8]],\n",
              "\n",
              "       [[ 9, 10, 11],\n",
              "        [12, 13, 14],\n",
              "        [15, 16, 17]],\n",
              "\n",
              "       [[18, 19, 20],\n",
              "        [21, 22, 23],\n",
              "        [24, 25, 26]]])"
            ]
          },
          "metadata": {},
          "execution_count": 92
        }
      ]
    },
    {
      "cell_type": "code",
      "source": [
        "mat_12[2].size"
      ],
      "metadata": {
        "id": "7H4pe6g3OTGP",
        "outputId": "50723a45-efae-4f39-da0f-f4e033ec923c",
        "colab": {
          "base_uri": "https://localhost:8080/"
        }
      },
      "execution_count": null,
      "outputs": [
        {
          "output_type": "execute_result",
          "data": {
            "text/plain": [
              "9"
            ]
          },
          "metadata": {},
          "execution_count": 93
        }
      ]
    },
    {
      "cell_type": "code",
      "source": [
        "mat_13 =np.arange(16).reshape(4,4)\n",
        "mat_13"
      ],
      "metadata": {
        "id": "MA_S1zX6OZAP",
        "outputId": "6f169a9b-a5d3-4174-921a-c05d8f6d0298",
        "colab": {
          "base_uri": "https://localhost:8080/"
        }
      },
      "execution_count": null,
      "outputs": [
        {
          "output_type": "execute_result",
          "data": {
            "text/plain": [
              "array([[ 0,  1,  2,  3],\n",
              "       [ 4,  5,  6,  7],\n",
              "       [ 8,  9, 10, 11],\n",
              "       [12, 13, 14, 15]])"
            ]
          },
          "metadata": {},
          "execution_count": 94
        }
      ]
    },
    {
      "cell_type": "code",
      "source": [
        "type(mat_13)"
      ],
      "metadata": {
        "id": "s9MSqOZAO9ZN",
        "outputId": "d4b6795e-42c3-4e7d-b780-86d133d4467a",
        "colab": {
          "base_uri": "https://localhost:8080/"
        }
      },
      "execution_count": null,
      "outputs": [
        {
          "output_type": "execute_result",
          "data": {
            "text/plain": [
              "numpy.ndarray"
            ]
          },
          "metadata": {},
          "execution_count": 95
        }
      ]
    },
    {
      "cell_type": "markdown",
      "source": [
        "## ***Suma add***"
      ],
      "metadata": {
        "id": "_zg7MdnQPL1k"
      }
    },
    {
      "cell_type": "code",
      "source": [
        "mat_18 =np.arange(4).reshape(2,2) + 1\n",
        "mat_19 =np.arange(4).reshape(2,2) + 5\n",
        "print(f\"Arreglo 1 :\\n {mat_18}\\n\")\n",
        "print(f\"Arreglo 2 :\\n {mat_19}\\n\")"
      ],
      "metadata": {
        "id": "cuBqtWPtPOVH",
        "outputId": "3e20b08f-295a-4451-fc73-1a389f884eda",
        "colab": {
          "base_uri": "https://localhost:8080/"
        }
      },
      "execution_count": null,
      "outputs": [
        {
          "output_type": "stream",
          "name": "stdout",
          "text": [
            "Arreglo 1 :\n",
            " [[1 2]\n",
            " [3 4]]\n",
            "\n",
            "Arreglo 2 :\n",
            " [[5 6]\n",
            " [7 8]]\n",
            "\n"
          ]
        }
      ]
    },
    {
      "cell_type": "code",
      "source": [
        "# add\n",
        "print(f\"Arreglo suma (mat_18 + mat_19) :\\n {mat_18 + mat_19}\\n\")\n",
        "print(f\"Arreglo  add np.add(mat_18, mat_19) :\\n {np.add(mat_18, mat_19)}\\n\")"
      ],
      "metadata": {
        "id": "iIGMTItrPrkE",
        "outputId": "521c25c4-c59d-4daa-b582-62cd6b9d9243",
        "colab": {
          "base_uri": "https://localhost:8080/"
        }
      },
      "execution_count": null,
      "outputs": [
        {
          "output_type": "stream",
          "name": "stdout",
          "text": [
            "Arreglo suma (mat_18 + mat_19) :\n",
            " [[ 6  8]\n",
            " [10 12]]\n",
            "\n",
            "Arreglo  add np.add(mat_18, mat_19) :\n",
            " [[ 6  8]\n",
            " [10 12]]\n",
            "\n"
          ]
        }
      ]
    },
    {
      "cell_type": "markdown",
      "source": [
        "## ***Resta subtract***"
      ],
      "metadata": {
        "id": "7_KHojglQAMG"
      }
    },
    {
      "cell_type": "code",
      "source": [
        "#np.subtract(vector1,vector2)\n",
        "print(f\"Arreglo resta (mat_18 - mat_19) :\\n {mat_18 -  mat_19}\\n\")\n",
        "print(f\"Arreglo sub np.subtract(mat_18, mat_19) :\\n {np.subtract(mat_18, mat_19)}\\n\")"
      ],
      "metadata": {
        "id": "f1C_fQYhQDKN",
        "outputId": "1e094a76-605c-470f-ecb8-5ef8cce0d0b9",
        "colab": {
          "base_uri": "https://localhost:8080/"
        }
      },
      "execution_count": null,
      "outputs": [
        {
          "output_type": "stream",
          "name": "stdout",
          "text": [
            "Arreglo resta (mat_18 - mat_19) :\n",
            " [[-4 -4]\n",
            " [-4 -4]]\n",
            "\n",
            "Arreglo sub np.subtract(mat_18, mat_19) :\n",
            " [[-4 -4]\n",
            " [-4 -4]]\n",
            "\n"
          ]
        }
      ]
    },
    {
      "cell_type": "markdown",
      "source": [
        "## ***Multiply Multiplicacion***"
      ],
      "metadata": {
        "id": "vkim9y8BQiIs"
      }
    },
    {
      "cell_type": "code",
      "source": [
        "#np.multiply(vector1, vector2)\n",
        "print(f\"Arreglo Multiplicacion (mat_18* mat_19) :\\n {mat_18*mat_19}\\n\")\n",
        "print(f\"Arreglo np.multiply(mat_18, mat_19) :\\n {np.multiply(mat_18, mat_19)}\\n\")"
      ],
      "metadata": {
        "id": "oMY3jC-2QhaB",
        "outputId": "88fc7a53-052d-4318-fc6c-5e8704f70dc4",
        "colab": {
          "base_uri": "https://localhost:8080/"
        }
      },
      "execution_count": null,
      "outputs": [
        {
          "output_type": "stream",
          "name": "stdout",
          "text": [
            "Arreglo Multiplicacion (mat_18* mat_19) :\n",
            " [[ 5 12]\n",
            " [21 32]]\n",
            "\n",
            "Arreglo np.multiply(mat_18, mat_19) :\n",
            " [[ 5 12]\n",
            " [21 32]]\n",
            "\n"
          ]
        }
      ]
    },
    {
      "cell_type": "markdown",
      "source": [
        "## ***Numeros Aleatorios***"
      ],
      "metadata": {
        "id": "NsO3OsxiRxaD"
      }
    },
    {
      "cell_type": "code",
      "source": [
        "n1 = np.random.randint(5)\n",
        "mat_20 = np.random.randint(10, size=5)\n",
        "mat_21 = np.random.randint(999, size=(3,3))\n",
        "mat_22 =np.random.rand(10)\n",
        "mat_23 = np.random.rand(3,3)\n",
        "print(f\"El numero aleatorio n1 es:\\n{n1}\\n\")\n",
        "print(f\"La matriz aleatoria mat_20 es: \\n{mat_20} \\n\")\n",
        "print(f\"La matriz aleatoria mat_21 es: \\n {mat_21} \\n\")\n",
        "print(f\"La matriz aleatoria mat_22 es: \\n{mat_22} \\n\")\n",
        "print(f\"La matriz aleatoria mat_23 es: \\n {mat_23} \\n\")"
      ],
      "metadata": {
        "id": "9AIqqgY9Rprq",
        "outputId": "ff26551b-e393-4ccb-d0fc-0c0fb2b6922e",
        "colab": {
          "base_uri": "https://localhost:8080/"
        }
      },
      "execution_count": 141,
      "outputs": [
        {
          "output_type": "stream",
          "name": "stdout",
          "text": [
            "El numero aleatorio n1 es:\n",
            "1\n",
            "\n",
            "La matriz aleatoria mat_20 es: \n",
            "[9 7 4 9 1] \n",
            "\n",
            "La matriz aleatoria mat_21 es: \n",
            " [[689 580 859]\n",
            " [998 372 899]\n",
            " [591 397 841]] \n",
            "\n",
            "La matriz aleatoria mat_22 es: \n",
            "[0.67245295 0.95357144 0.95691694 0.13761578 0.9449914  0.15703088\n",
            " 0.75216636 0.04319533 0.74245983 0.4671832 ] \n",
            "\n",
            "La matriz aleatoria mat_23 es: \n",
            " [[0.4183935  0.18894048 0.18800927]\n",
            " [0.58340302 0.61674516 0.56315145]\n",
            " [0.03081959 0.03675271 0.45420261]] \n",
            "\n"
          ]
        }
      ]
    },
    {
      "cell_type": "code",
      "source": [
        "mat_25 = np.random.choice([3,5,9,5,1],size=(2,2))\n",
        "mat_26 = np.array([[0,1,2],[4,2,3]])\n",
        "print(f\"La matriz aleatoria mat_25 es: \\n{mat_25} \\n\")\n",
        "print(f\"La matriz es de dimensiones: \\n{mat_25.ndim}\")\n",
        "print(f\"La matriz aleatoria mat_26 es: \\n{mat_26} \\n\")\n",
        "print(f\"La matriz es de dimensiones de mat_26: {mat_26.ndim}\")\n",
        "print(f\"El tipo de dato de mat_26: {type(mat_26)}\")\n",
        "print(f\"La dimension de mat_26: {mat_26.shape}\")"
      ],
      "metadata": {
        "id": "D41JGjimWpEK",
        "outputId": "56733c58-eb0a-4cce-b153-dd6dee19311f",
        "colab": {
          "base_uri": "https://localhost:8080/"
        }
      },
      "execution_count": 160,
      "outputs": [
        {
          "output_type": "stream",
          "name": "stdout",
          "text": [
            "La matriz aleatoria mat_25 es: \n",
            "[[5 5]\n",
            " [3 9]] \n",
            "\n",
            "La matriz es de dimensiones: \n",
            "2\n",
            "La matriz aleatoria mat_26 es: \n",
            "[[0 1 2]\n",
            " [4 2 3]] \n",
            "\n",
            "La matriz es de dimensiones de mat_26: 2\n",
            "El tipo de dato de mat_26: <class 'numpy.ndarray'>\n",
            "La dimension de mat_26: (2, 3)\n"
          ]
        }
      ]
    },
    {
      "cell_type": "code",
      "source": [
        "# La suma de los valores de la matriz es:\n",
        "print(f\"La suma de los valores de la matriz es: {mat_26.sum()}\")\n",
        "# la suma de valores a nivel columna es:\n",
        "print(f\"La suma de los valores de la matriz es: {mat_26.sum(axis=0)}\")\n",
        "# La suma de valores a nivel filas:\n",
        "print(f\"La suma de los valores de la matriz es: {mat_26.sum(axis=1)}\")"
      ],
      "metadata": {
        "id": "gzOidXYPXrtD",
        "outputId": "fa4e07de-59e4-4f4f-d8d7-bd31c06badcb",
        "colab": {
          "base_uri": "https://localhost:8080/"
        }
      },
      "execution_count": 164,
      "outputs": [
        {
          "output_type": "stream",
          "name": "stdout",
          "text": [
            "La suma de los valores de la matriz es: 12\n",
            "La suma de los valores de la matriz es: [4 3 5]\n",
            "La suma de los valores de la matriz es: [3 9]\n"
          ]
        }
      ]
    },
    {
      "cell_type": "code",
      "source": [
        "mat_28 = np.array([[1,1],[1,1]])\n",
        "mat_29 = np.array([[2,2],[2,2]])*4\n",
        "print(f\"La matriz mat_28 es: \\n{mat_28} \\n\")\n",
        "print(f\"La matriz mat_29 es: \\n{mat_29} \\n\")"
      ],
      "metadata": {
        "id": "VLDxt94yanLD",
        "outputId": "ead90087-9014-481e-ba77-9cb695e6c4ad",
        "colab": {
          "base_uri": "https://localhost:8080/"
        }
      },
      "execution_count": 165,
      "outputs": [
        {
          "output_type": "stream",
          "name": "stdout",
          "text": [
            "La matriz mat_28 es: \n",
            "[[1 1]\n",
            " [1 1]] \n",
            "\n",
            "La matriz mat_29 es: \n",
            "[[8 8]\n",
            " [8 8]] \n",
            "\n"
          ]
        }
      ]
    },
    {
      "cell_type": "markdown",
      "source": [
        "## ***Concatenacion -  concatenate.***\n",
        "\n",
        "\n"
      ],
      "metadata": {
        "id": "1qxEZwhubCcg"
      }
    },
    {
      "cell_type": "code",
      "source": [
        "np.concatenate([mat_28,mat_29])\n",
        "print(f\"np.concatenate([mat_28,mat_29]) :\\n {np.concatenate([mat_28,mat_29])}\")\n",
        "# apilar vertical:\n",
        "print(f\"np.vstack([mat_28,mat_29]) :\\n {np.concatenate([mat_28,mat_29],axis=0)}\")\n",
        "# apilar horizontal:\n",
        "print(f\"np.hstack([mat_28,mat_29]) :\\n {np.concatenate([mat_28,mat_29],axis=1)}\")"
      ],
      "metadata": {
        "id": "ZnzmoPfybBRn",
        "outputId": "48813813-6cb9-4149-c434-2740b26a34a3",
        "colab": {
          "base_uri": "https://localhost:8080/"
        }
      },
      "execution_count": 167,
      "outputs": [
        {
          "output_type": "stream",
          "name": "stdout",
          "text": [
            "np.concatenate([mat_28,mat_29]) :\n",
            " [[1 1]\n",
            " [1 1]\n",
            " [8 8]\n",
            " [8 8]]\n",
            "np.vstack([mat_28,mat_29]) :\n",
            " [[1 1]\n",
            " [1 1]\n",
            " [8 8]\n",
            " [8 8]]\n",
            "np.hstack([mat_28,mat_29]) :\n",
            " [[1 1 8 8]\n",
            " [1 1 8 8]]\n"
          ]
        }
      ]
    },
    {
      "cell_type": "code",
      "source": [],
      "metadata": {
        "id": "LLhApPhjbgIk"
      },
      "execution_count": null,
      "outputs": []
    }
  ]
}
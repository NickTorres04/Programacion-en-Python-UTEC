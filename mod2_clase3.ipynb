{
  "nbformat": 4,
  "nbformat_minor": 0,
  "metadata": {
    "colab": {
      "provenance": [],
      "authorship_tag": "ABX9TyM5JJmacaY/RFv0ZssWQPIL",
      "include_colab_link": true
    },
    "kernelspec": {
      "name": "python3",
      "display_name": "Python 3"
    },
    "language_info": {
      "name": "python"
    }
  },
  "cells": [
    {
      "cell_type": "markdown",
      "metadata": {
        "id": "view-in-github",
        "colab_type": "text"
      },
      "source": [
        "<a href=\"https://colab.research.google.com/github/NickTorres04/Programacion-en-Python-UTEC/blob/main/mod2_clase3.ipynb\" target=\"_parent\"><img src=\"https://colab.research.google.com/assets/colab-badge.svg\" alt=\"Open In Colab\"/></a>"
      ]
    },
    {
      "cell_type": "markdown",
      "source": [
        "# **Numpy**"
      ],
      "metadata": {
        "id": "cEBKhtPBxGzn"
      }
    },
    {
      "cell_type": "code",
      "execution_count": 168,
      "metadata": {
        "id": "lngebxIuwF4N"
      },
      "outputs": [],
      "source": [
        "# Arreglo que consume menos memoria.\n",
        "import numpy as np"
      ]
    },
    {
      "cell_type": "code",
      "source": [
        "lista_1 = [1,3,5]\n",
        "print(lista_1)\n",
        "sum(lista_1)"
      ],
      "metadata": {
        "colab": {
          "base_uri": "https://localhost:8080/"
        },
        "id": "D3YUYYxGyWPY",
        "outputId": "7f42ee75-9553-4de6-f4bf-f72cf8acc5d6"
      },
      "execution_count": 169,
      "outputs": [
        {
          "output_type": "stream",
          "name": "stdout",
          "text": [
            "[1, 3, 5]\n"
          ]
        },
        {
          "output_type": "execute_result",
          "data": {
            "text/plain": [
              "9"
            ]
          },
          "metadata": {},
          "execution_count": 169
        }
      ]
    },
    {
      "cell_type": "code",
      "source": [
        "type(lista_1)"
      ],
      "metadata": {
        "colab": {
          "base_uri": "https://localhost:8080/"
        },
        "id": "UaDqIrSWymUB",
        "outputId": "711aeb50-7c23-414c-8081-bb90e41be8bd"
      },
      "execution_count": 170,
      "outputs": [
        {
          "output_type": "execute_result",
          "data": {
            "text/plain": [
              "list"
            ]
          },
          "metadata": {},
          "execution_count": 170
        }
      ]
    },
    {
      "cell_type": "code",
      "source": [
        "mat_1=([2,4,5])\n",
        "type(mat_1)"
      ],
      "metadata": {
        "colab": {
          "base_uri": "https://localhost:8080/"
        },
        "id": "iP2_pnFSzIbd",
        "outputId": "5b425e80-c5ad-4266-c954-b89d052315aa"
      },
      "execution_count": 171,
      "outputs": [
        {
          "output_type": "execute_result",
          "data": {
            "text/plain": [
              "list"
            ]
          },
          "metadata": {},
          "execution_count": 171
        }
      ]
    },
    {
      "cell_type": "code",
      "source": [
        "lista_1.append(8)\n",
        "print(lista_1)"
      ],
      "metadata": {
        "colab": {
          "base_uri": "https://localhost:8080/"
        },
        "id": "2M87u1d1zQ0J",
        "outputId": "3c77cc44-21e9-4e54-aa82-7519fb3f1f2f"
      },
      "execution_count": 172,
      "outputs": [
        {
          "output_type": "stream",
          "name": "stdout",
          "text": [
            "[1, 3, 5, 8]\n"
          ]
        }
      ]
    },
    {
      "cell_type": "code",
      "source": [
        "vector = np.array([1, 2, 3, 4, 5])"
      ],
      "metadata": {
        "id": "vXoZ4PSMzW1q"
      },
      "execution_count": 173,
      "outputs": []
    },
    {
      "cell_type": "code",
      "source": [
        "type(vector)"
      ],
      "metadata": {
        "colab": {
          "base_uri": "https://localhost:8080/"
        },
        "id": "9zyDKi8D0flG",
        "outputId": "b5358bd2-a093-4743-94ae-dfa871cd6599"
      },
      "execution_count": 174,
      "outputs": [
        {
          "output_type": "execute_result",
          "data": {
            "text/plain": [
              "numpy.ndarray"
            ]
          },
          "metadata": {},
          "execution_count": 174
        }
      ]
    },
    {
      "cell_type": "code",
      "source": [
        "#listas:\n",
        "l1 = [1,2,3]\n",
        "l2 = [4,5,6]\n",
        "l1+l2\n",
        "print(l1+l2)"
      ],
      "metadata": {
        "colab": {
          "base_uri": "https://localhost:8080/"
        },
        "id": "pnPnZqZL0hhO",
        "outputId": "bc1ac11f-fe8f-4e19-cc96-b39967d88f7b"
      },
      "execution_count": 175,
      "outputs": [
        {
          "output_type": "stream",
          "name": "stdout",
          "text": [
            "[1, 2, 3, 4, 5, 6]\n"
          ]
        }
      ]
    },
    {
      "cell_type": "code",
      "source": [
        "a1 = np.array([1,2,3])\n",
        "a2 = np.array([4,5,6])\n",
        "print(f\"Arreglo de Numpy 1 {a1}\")\n",
        "print(f\"Arreglo de Numpy 1 {a2}\")\n",
        "print(f\"Arreglo de Numpy a1 + a2 {a1+a2}\")\n",
        "print(f\"Arreglo de Numpy a1 * a2 {a1*a2}\")"
      ],
      "metadata": {
        "colab": {
          "base_uri": "https://localhost:8080/"
        },
        "id": "7sy5haoG1K-x",
        "outputId": "bd545554-14ca-4888-87da-865a1bf4d95c"
      },
      "execution_count": 176,
      "outputs": [
        {
          "output_type": "stream",
          "name": "stdout",
          "text": [
            "Arreglo de Numpy 1 [1 2 3]\n",
            "Arreglo de Numpy 1 [4 5 6]\n",
            "Arreglo de Numpy a1 + a2 [5 7 9]\n",
            "Arreglo de Numpy a1 * a2 [ 4 10 18]\n"
          ]
        }
      ]
    },
    {
      "cell_type": "code",
      "source": [
        "mat_3 =np.array([1,2,3,4,5,6])\n",
        "mat_3"
      ],
      "metadata": {
        "colab": {
          "base_uri": "https://localhost:8080/"
        },
        "id": "zLMqZXfs2Een",
        "outputId": "94f6520b-def3-4321-8fd2-1410335202c0"
      },
      "execution_count": 177,
      "outputs": [
        {
          "output_type": "execute_result",
          "data": {
            "text/plain": [
              "array([1, 2, 3, 4, 5, 6])"
            ]
          },
          "metadata": {},
          "execution_count": 177
        }
      ]
    },
    {
      "cell_type": "markdown",
      "source": [
        "## matriz de DOS DIMENSIONES"
      ],
      "metadata": {
        "id": "7NjNZ1qb2Nyi"
      }
    },
    {
      "cell_type": "code",
      "source": [
        "# Matriz en 2D\n",
        "mat_4 = np.array([[1,2,3],[4,5,6]])\n",
        "mat_4"
      ],
      "metadata": {
        "colab": {
          "base_uri": "https://localhost:8080/"
        },
        "id": "mgIeaIq02Mft",
        "outputId": "cf8b79db-0976-4cae-d3fa-7005f80f68b2"
      },
      "execution_count": 178,
      "outputs": [
        {
          "output_type": "execute_result",
          "data": {
            "text/plain": [
              "array([[1, 2, 3],\n",
              "       [4, 5, 6]])"
            ]
          },
          "metadata": {},
          "execution_count": 178
        }
      ]
    },
    {
      "cell_type": "code",
      "source": [
        "mat_5 = np.array([[1],[4],[6]])\n",
        "mat_5"
      ],
      "metadata": {
        "colab": {
          "base_uri": "https://localhost:8080/"
        },
        "id": "kXIfxZbd2f3A",
        "outputId": "90848993-5754-4dbb-8982-ab19e991fe86"
      },
      "execution_count": 179,
      "outputs": [
        {
          "output_type": "execute_result",
          "data": {
            "text/plain": [
              "array([[1],\n",
              "       [4],\n",
              "       [6]])"
            ]
          },
          "metadata": {},
          "execution_count": 179
        }
      ]
    },
    {
      "cell_type": "code",
      "source": [
        "lista_2  =  [1,2,3,4,5]\n",
        "print(f\"La lista es : {lista_2}\\n\")\n",
        "print(f\"El tipo del objeto es: {type(lista_2)}\")"
      ],
      "metadata": {
        "colab": {
          "base_uri": "https://localhost:8080/"
        },
        "id": "ISZCN-lR2oKd",
        "outputId": "13060af2-0b35-4bce-e5b2-8df0125734a2"
      },
      "execution_count": 180,
      "outputs": [
        {
          "output_type": "stream",
          "name": "stdout",
          "text": [
            "La lista es : [1, 2, 3, 4, 5]\n",
            "\n",
            "El tipo del objeto es: <class 'list'>\n"
          ]
        }
      ]
    },
    {
      "cell_type": "code",
      "source": [
        "mat_5 =  np.array(lista_2)\n",
        "print(f\"La lista es : {mat_5}\\n\")\n",
        "print(f\"El tipo del objeto es: {type(mat_5)}\")"
      ],
      "metadata": {
        "colab": {
          "base_uri": "https://localhost:8080/"
        },
        "id": "uHeEFoc73P6J",
        "outputId": "45e5a542-dec4-482e-d30a-a28e4a68ccab"
      },
      "execution_count": 181,
      "outputs": [
        {
          "output_type": "stream",
          "name": "stdout",
          "text": [
            "La lista es : [1 2 3 4 5]\n",
            "\n",
            "El tipo del objeto es: <class 'numpy.ndarray'>\n"
          ]
        }
      ]
    },
    {
      "cell_type": "code",
      "source": [
        "lista_3  =  [[1,2,3],[4,5,6],[7,8,9]]\n",
        "print(f\"La lista es : {lista_3}\\n\")\n",
        "print(f\"El tipo del objeto es: {type(lista_3)}\")"
      ],
      "metadata": {
        "colab": {
          "base_uri": "https://localhost:8080/"
        },
        "id": "MjshQ_zA4EAx",
        "outputId": "7f0fc5a4-204d-4b83-de89-24ee03622cb9"
      },
      "execution_count": 182,
      "outputs": [
        {
          "output_type": "stream",
          "name": "stdout",
          "text": [
            "La lista es : [[1, 2, 3], [4, 5, 6], [7, 8, 9]]\n",
            "\n",
            "El tipo del objeto es: <class 'list'>\n"
          ]
        }
      ]
    },
    {
      "cell_type": "code",
      "source": [
        "mat_6  =  np.array(lista_3)\n",
        "print(f\"La lista es :\\n {mat_6}\")\n",
        "print(f\"El tipo del objeto es: {type(mat_6)}\")"
      ],
      "metadata": {
        "colab": {
          "base_uri": "https://localhost:8080/"
        },
        "id": "FLEhEup94QRm",
        "outputId": "ba207dcf-8da9-4d4e-aa69-54906dae82ba"
      },
      "execution_count": 183,
      "outputs": [
        {
          "output_type": "stream",
          "name": "stdout",
          "text": [
            "La lista es :\n",
            " [[1 2 3]\n",
            " [4 5 6]\n",
            " [7 8 9]]\n",
            "El tipo del objeto es: <class 'numpy.ndarray'>\n"
          ]
        }
      ]
    },
    {
      "cell_type": "code",
      "source": [
        "mat_7 = np.arange(20).reshape(4,5) #FILAS , COLUMNAS\n",
        "print(f\"La lista es :\\n {mat_7}\")\n",
        "print(f\"El tipo del objeto es: {type(mat_7)}\")\n",
        "print(f\"El numero de dimensiones es: {mat_7.ndim}\")\n",
        "print(f\"el numero de elementos es: {mat_7.size}\")\n",
        "print(f\"El tanaño de las dimensiones del objeto es: {mat_7.shape}\")"
      ],
      "metadata": {
        "colab": {
          "base_uri": "https://localhost:8080/"
        },
        "id": "97yBcPeD5dlc",
        "outputId": "cff442a6-4094-4104-c4b5-58492a052b35"
      },
      "execution_count": 184,
      "outputs": [
        {
          "output_type": "stream",
          "name": "stdout",
          "text": [
            "La lista es :\n",
            " [[ 0  1  2  3  4]\n",
            " [ 5  6  7  8  9]\n",
            " [10 11 12 13 14]\n",
            " [15 16 17 18 19]]\n",
            "El tipo del objeto es: <class 'numpy.ndarray'>\n",
            "El numero de dimensiones es: 2\n",
            "el numero de elementos es: 20\n",
            "El tanaño de las dimensiones del objeto es: (4, 5)\n"
          ]
        }
      ]
    },
    {
      "cell_type": "code",
      "source": [
        "print(type(mat_7.shape))\n",
        "print(mat_7.shape[0])\n",
        "print(mat_7.shape[1])"
      ],
      "metadata": {
        "colab": {
          "base_uri": "https://localhost:8080/"
        },
        "id": "QEP_ffz67gFv",
        "outputId": "3890fef4-22bc-4ee0-a3d3-9e2a232dd85e"
      },
      "execution_count": 185,
      "outputs": [
        {
          "output_type": "stream",
          "name": "stdout",
          "text": [
            "<class 'tuple'>\n",
            "4\n",
            "5\n"
          ]
        }
      ]
    },
    {
      "cell_type": "code",
      "source": [
        "mat_9 = np.zeros((4,3))\n",
        "print(f\"El arreglo es :\\n {mat_9}\")\n",
        "print(f\"El tipo del objeto es: {type(mat_9)}\")\n",
        "print(f\"El numero de dimensiones es: {mat_9.ndim}\")\n",
        "print(f\"el numero de elementos es: {mat_9.size}\")\n",
        "print(f\"El tanaño de las dimensiones del objeto es: {mat_9.shape}\")"
      ],
      "metadata": {
        "colab": {
          "base_uri": "https://localhost:8080/"
        },
        "id": "5D3Fu-e87k1Q",
        "outputId": "ed47ef4d-2ce5-4728-8e0c-ed60407b77fe"
      },
      "execution_count": 186,
      "outputs": [
        {
          "output_type": "stream",
          "name": "stdout",
          "text": [
            "El arreglo es :\n",
            " [[0. 0. 0.]\n",
            " [0. 0. 0.]\n",
            " [0. 0. 0.]\n",
            " [0. 0. 0.]]\n",
            "El tipo del objeto es: <class 'numpy.ndarray'>\n",
            "El numero de dimensiones es: 2\n",
            "el numero de elementos es: 12\n",
            "El tanaño de las dimensiones del objeto es: (4, 3)\n"
          ]
        }
      ]
    },
    {
      "cell_type": "code",
      "source": [
        "mat_10 =  np.linspace(99,88,20) #\n",
        "print(f\"El arreglo es :\\n {mat_10}\\n\")\n",
        "print(f\"El tipo del objeto es: {type(mat_10)}\")\n",
        "print(f\"El numero de dimensiones es: {mat_10.ndim}\")\n",
        "print(f\"el numero de elementos es: {mat_10.size}\")\n",
        "print(f\"El tanaño de las dimensiones del objeto es: {mat_10.shape}\")"
      ],
      "metadata": {
        "colab": {
          "base_uri": "https://localhost:8080/"
        },
        "id": "Fbmz1gy29cEX",
        "outputId": "3a3a84e7-afe8-4583-9b4b-cbed94757ffa"
      },
      "execution_count": 187,
      "outputs": [
        {
          "output_type": "stream",
          "name": "stdout",
          "text": [
            "El arreglo es :\n",
            " [99.         98.42105263 97.84210526 97.26315789 96.68421053 96.10526316\n",
            " 95.52631579 94.94736842 94.36842105 93.78947368 93.21052632 92.63157895\n",
            " 92.05263158 91.47368421 90.89473684 90.31578947 89.73684211 89.15789474\n",
            " 88.57894737 88.        ]\n",
            "\n",
            "El tipo del objeto es: <class 'numpy.ndarray'>\n",
            "El numero de dimensiones es: 1\n",
            "el numero de elementos es: 20\n",
            "El tanaño de las dimensiones del objeto es: (20,)\n"
          ]
        }
      ]
    },
    {
      "cell_type": "code",
      "source": [
        "type(mat_10.shape)"
      ],
      "metadata": {
        "colab": {
          "base_uri": "https://localhost:8080/"
        },
        "id": "f5IFObhu-CBt",
        "outputId": "4b11c181-84dd-4774-f4d8-496ca5d83766"
      },
      "execution_count": 188,
      "outputs": [
        {
          "output_type": "execute_result",
          "data": {
            "text/plain": [
              "tuple"
            ]
          },
          "metadata": {},
          "execution_count": 188
        }
      ]
    },
    {
      "cell_type": "code",
      "source": [
        "np.arange(24).reshape(6,4)"
      ],
      "metadata": {
        "id": "RlAUqF5XEszo",
        "outputId": "f6bedf6a-fd9a-4b07-bc48-2bd952c52a34",
        "colab": {
          "base_uri": "https://localhost:8080/"
        }
      },
      "execution_count": 189,
      "outputs": [
        {
          "output_type": "execute_result",
          "data": {
            "text/plain": [
              "array([[ 0,  1,  2,  3],\n",
              "       [ 4,  5,  6,  7],\n",
              "       [ 8,  9, 10, 11],\n",
              "       [12, 13, 14, 15],\n",
              "       [16, 17, 18, 19],\n",
              "       [20, 21, 22, 23]])"
            ]
          },
          "metadata": {},
          "execution_count": 189
        }
      ]
    },
    {
      "cell_type": "code",
      "source": [
        "mat_11 = np.arange(24).reshape(2,4,3)\n",
        "print(f\"El arreglo es :\\n {mat_11}\\n\")\n",
        "print(f\"El tipo del objeto es: {type(mat_11)}\")\n",
        "print(f\"El numero de dimensiones es: {mat_11.ndim}\")\n",
        "print(f\"el numero de elementos es: {mat_11.size}\")\n",
        "print(f\"El tanaño de las dimensiones del objeto es: {mat_11.shape}\")"
      ],
      "metadata": {
        "id": "0Ym3JzjBEwzw",
        "outputId": "a595e9f5-2d03-4ea5-9581-a1511beffcdb",
        "colab": {
          "base_uri": "https://localhost:8080/"
        }
      },
      "execution_count": 190,
      "outputs": [
        {
          "output_type": "stream",
          "name": "stdout",
          "text": [
            "El arreglo es :\n",
            " [[[ 0  1  2]\n",
            "  [ 3  4  5]\n",
            "  [ 6  7  8]\n",
            "  [ 9 10 11]]\n",
            "\n",
            " [[12 13 14]\n",
            "  [15 16 17]\n",
            "  [18 19 20]\n",
            "  [21 22 23]]]\n",
            "\n",
            "El tipo del objeto es: <class 'numpy.ndarray'>\n",
            "El numero de dimensiones es: 3\n",
            "el numero de elementos es: 24\n",
            "El tanaño de las dimensiones del objeto es: (2, 4, 3)\n"
          ]
        }
      ]
    },
    {
      "cell_type": "code",
      "source": [
        "mat_11 = np.arange(24).reshape(6,2,2)\n",
        "print(f\"El arreglo es :\\n {mat_11}\\n\")\n",
        "print(f\"El tipo del objeto es: {type(mat_11)}\")\n",
        "print(f\"El numero de dimensiones es: {mat_11.ndim}\")\n",
        "print(f\"el numero de elementos es: {mat_11.size}\")\n",
        "print(f\"El tanaño de las dimensiones del objeto es: {mat_11.shape}\")"
      ],
      "metadata": {
        "id": "lrfitKKMGrAu",
        "outputId": "183ca14a-2a42-4692-b48f-7cef189c4b30",
        "colab": {
          "base_uri": "https://localhost:8080/"
        }
      },
      "execution_count": 191,
      "outputs": [
        {
          "output_type": "stream",
          "name": "stdout",
          "text": [
            "El arreglo es :\n",
            " [[[ 0  1]\n",
            "  [ 2  3]]\n",
            "\n",
            " [[ 4  5]\n",
            "  [ 6  7]]\n",
            "\n",
            " [[ 8  9]\n",
            "  [10 11]]\n",
            "\n",
            " [[12 13]\n",
            "  [14 15]]\n",
            "\n",
            " [[16 17]\n",
            "  [18 19]]\n",
            "\n",
            " [[20 21]\n",
            "  [22 23]]]\n",
            "\n",
            "El tipo del objeto es: <class 'numpy.ndarray'>\n",
            "El numero de dimensiones es: 3\n",
            "el numero de elementos es: 24\n",
            "El tanaño de las dimensiones del objeto es: (6, 2, 2)\n"
          ]
        }
      ]
    },
    {
      "cell_type": "code",
      "source": [
        "mat_12 = np.arange(27).reshape(3,3,3)\n",
        "print(f\"El arreglo es :\\n {mat_12}\\n\")\n",
        "print(f\"El tipo del objeto es: {type(mat_12)}\")\n",
        "print(f\"El numero de dimensiones es: {mat_12.ndim}\")\n",
        "print(f\"el numero de elementos es: {mat_12.size}\")\n",
        "print(f\"El tanaño de las dimensiones del objeto es: {mat_12.shape}\")"
      ],
      "metadata": {
        "id": "B1Y-Kbj2HVgN",
        "outputId": "47de2476-8751-4254-d650-ece5165de241",
        "colab": {
          "base_uri": "https://localhost:8080/"
        }
      },
      "execution_count": 192,
      "outputs": [
        {
          "output_type": "stream",
          "name": "stdout",
          "text": [
            "El arreglo es :\n",
            " [[[ 0  1  2]\n",
            "  [ 3  4  5]\n",
            "  [ 6  7  8]]\n",
            "\n",
            " [[ 9 10 11]\n",
            "  [12 13 14]\n",
            "  [15 16 17]]\n",
            "\n",
            " [[18 19 20]\n",
            "  [21 22 23]\n",
            "  [24 25 26]]]\n",
            "\n",
            "El tipo del objeto es: <class 'numpy.ndarray'>\n",
            "El numero de dimensiones es: 3\n",
            "el numero de elementos es: 27\n",
            "El tanaño de las dimensiones del objeto es: (3, 3, 3)\n"
          ]
        }
      ]
    },
    {
      "cell_type": "code",
      "source": [
        "mat_13 =np.arange(24).reshape(4,6)\n",
        "mat_13"
      ],
      "metadata": {
        "id": "qyg5NCJ9NKtT",
        "outputId": "95afc787-8583-4fce-d388-807d2582f6ce",
        "colab": {
          "base_uri": "https://localhost:8080/"
        }
      },
      "execution_count": 193,
      "outputs": [
        {
          "output_type": "execute_result",
          "data": {
            "text/plain": [
              "array([[ 0,  1,  2,  3,  4,  5],\n",
              "       [ 6,  7,  8,  9, 10, 11],\n",
              "       [12, 13, 14, 15, 16, 17],\n",
              "       [18, 19, 20, 21, 22, 23]])"
            ]
          },
          "metadata": {},
          "execution_count": 193
        }
      ]
    },
    {
      "cell_type": "markdown",
      "source": [
        "# ***CLASS***\n",
        "Operaciones en matrices."
      ],
      "metadata": {
        "id": "JjlLZdDTO34j"
      }
    },
    {
      "cell_type": "markdown",
      "source": [
        "## ***Multiplicacion Vectorial:***"
      ],
      "metadata": {
        "id": "Ozs1bpdCMteJ"
      }
    },
    {
      "cell_type": "code",
      "source": [
        "# Definición de los vectores\n",
        "a = np.array([1, 2, 3])\n",
        "b = np.array([4, 5, 6])\n",
        "\n",
        "# Producto escalar\n",
        "dot_product = np.dot(a, b)\n",
        "\n",
        "print(\"Producto escalar:\", dot_product)"
      ],
      "metadata": {
        "id": "xyuLqxFiMqOt",
        "outputId": "c0e01a37-2dc1-418d-8388-56f1e9128265",
        "colab": {
          "base_uri": "https://localhost:8080/"
        }
      },
      "execution_count": 194,
      "outputs": [
        {
          "output_type": "stream",
          "name": "stdout",
          "text": [
            "Producto escalar: 32\n"
          ]
        }
      ]
    },
    {
      "cell_type": "code",
      "source": [
        "# Definir dos vectores\n",
        "vector1 = np.array([1, 0, 0])\n",
        "vector2 = np.array([0, 1, 0])\n",
        "\n",
        "# Calcular el producto cruzado\n",
        "producto_cruzado = np.cross(vector1, vector2)\n",
        "\n",
        "print(\"El producto cruzado es:\", producto_cruzado)"
      ],
      "metadata": {
        "id": "OOhv5lIKNQQX",
        "outputId": "02b8d622-a8d1-49e1-8b32-8a972dac3297",
        "colab": {
          "base_uri": "https://localhost:8080/"
        }
      },
      "execution_count": 195,
      "outputs": [
        {
          "output_type": "stream",
          "name": "stdout",
          "text": [
            "El producto cruzado es: [0 0 1]\n"
          ]
        }
      ]
    },
    {
      "cell_type": "code",
      "source": [
        "mat_12"
      ],
      "metadata": {
        "id": "otGxNcPdOBMG",
        "outputId": "68356bd4-7bbd-41c8-e4f7-027cfc824595",
        "colab": {
          "base_uri": "https://localhost:8080/"
        }
      },
      "execution_count": 196,
      "outputs": [
        {
          "output_type": "execute_result",
          "data": {
            "text/plain": [
              "array([[[ 0,  1,  2],\n",
              "        [ 3,  4,  5],\n",
              "        [ 6,  7,  8]],\n",
              "\n",
              "       [[ 9, 10, 11],\n",
              "        [12, 13, 14],\n",
              "        [15, 16, 17]],\n",
              "\n",
              "       [[18, 19, 20],\n",
              "        [21, 22, 23],\n",
              "        [24, 25, 26]]])"
            ]
          },
          "metadata": {},
          "execution_count": 196
        }
      ]
    },
    {
      "cell_type": "code",
      "source": [
        "mat_12[2].size"
      ],
      "metadata": {
        "id": "7H4pe6g3OTGP",
        "outputId": "fea39eee-8bf4-4fe0-f978-93489d43696c",
        "colab": {
          "base_uri": "https://localhost:8080/"
        }
      },
      "execution_count": 197,
      "outputs": [
        {
          "output_type": "execute_result",
          "data": {
            "text/plain": [
              "9"
            ]
          },
          "metadata": {},
          "execution_count": 197
        }
      ]
    },
    {
      "cell_type": "code",
      "source": [
        "mat_13 =np.arange(16).reshape(4,4)\n",
        "mat_13"
      ],
      "metadata": {
        "id": "MA_S1zX6OZAP",
        "outputId": "9970e661-3411-441c-80c3-6abcb9856e19",
        "colab": {
          "base_uri": "https://localhost:8080/"
        }
      },
      "execution_count": 198,
      "outputs": [
        {
          "output_type": "execute_result",
          "data": {
            "text/plain": [
              "array([[ 0,  1,  2,  3],\n",
              "       [ 4,  5,  6,  7],\n",
              "       [ 8,  9, 10, 11],\n",
              "       [12, 13, 14, 15]])"
            ]
          },
          "metadata": {},
          "execution_count": 198
        }
      ]
    },
    {
      "cell_type": "code",
      "source": [
        "type(mat_13)"
      ],
      "metadata": {
        "id": "s9MSqOZAO9ZN",
        "outputId": "4ebb19d2-505f-4e20-9b05-299290cdc429",
        "colab": {
          "base_uri": "https://localhost:8080/"
        }
      },
      "execution_count": 199,
      "outputs": [
        {
          "output_type": "execute_result",
          "data": {
            "text/plain": [
              "numpy.ndarray"
            ]
          },
          "metadata": {},
          "execution_count": 199
        }
      ]
    },
    {
      "cell_type": "markdown",
      "source": [
        "## ***Suma add***"
      ],
      "metadata": {
        "id": "_zg7MdnQPL1k"
      }
    },
    {
      "cell_type": "code",
      "source": [
        "mat_18 =np.arange(4).reshape(2,2) + 1\n",
        "mat_19 =np.arange(4).reshape(2,2) + 5\n",
        "print(f\"Arreglo 1 :\\n {mat_18}\\n\")\n",
        "print(f\"Arreglo 2 :\\n {mat_19}\\n\")"
      ],
      "metadata": {
        "id": "cuBqtWPtPOVH",
        "outputId": "6d1e00c3-599c-4868-9b24-b976cc3f00e2",
        "colab": {
          "base_uri": "https://localhost:8080/"
        }
      },
      "execution_count": 200,
      "outputs": [
        {
          "output_type": "stream",
          "name": "stdout",
          "text": [
            "Arreglo 1 :\n",
            " [[1 2]\n",
            " [3 4]]\n",
            "\n",
            "Arreglo 2 :\n",
            " [[5 6]\n",
            " [7 8]]\n",
            "\n"
          ]
        }
      ]
    },
    {
      "cell_type": "code",
      "source": [
        "# add\n",
        "print(f\"Arreglo suma (mat_18 + mat_19) :\\n {mat_18 + mat_19}\\n\")\n",
        "print(f\"Arreglo  add np.add(mat_18, mat_19) :\\n {np.add(mat_18, mat_19)}\\n\")"
      ],
      "metadata": {
        "id": "iIGMTItrPrkE",
        "outputId": "9c733e17-19d7-4ef9-c1ce-1f93a14c8e11",
        "colab": {
          "base_uri": "https://localhost:8080/"
        }
      },
      "execution_count": 201,
      "outputs": [
        {
          "output_type": "stream",
          "name": "stdout",
          "text": [
            "Arreglo suma (mat_18 + mat_19) :\n",
            " [[ 6  8]\n",
            " [10 12]]\n",
            "\n",
            "Arreglo  add np.add(mat_18, mat_19) :\n",
            " [[ 6  8]\n",
            " [10 12]]\n",
            "\n"
          ]
        }
      ]
    },
    {
      "cell_type": "markdown",
      "source": [
        "## ***Resta subtract***"
      ],
      "metadata": {
        "id": "7_KHojglQAMG"
      }
    },
    {
      "cell_type": "code",
      "source": [
        "#np.subtract(vector1,vector2)\n",
        "print(f\"Arreglo resta (mat_18 - mat_19) :\\n {mat_18 -  mat_19}\\n\")\n",
        "print(f\"Arreglo sub np.subtract(mat_18, mat_19) :\\n {np.subtract(mat_18, mat_19)}\\n\")"
      ],
      "metadata": {
        "id": "f1C_fQYhQDKN",
        "outputId": "032fc963-b057-4b46-cf9f-08a6e8039668",
        "colab": {
          "base_uri": "https://localhost:8080/"
        }
      },
      "execution_count": 202,
      "outputs": [
        {
          "output_type": "stream",
          "name": "stdout",
          "text": [
            "Arreglo resta (mat_18 - mat_19) :\n",
            " [[-4 -4]\n",
            " [-4 -4]]\n",
            "\n",
            "Arreglo sub np.subtract(mat_18, mat_19) :\n",
            " [[-4 -4]\n",
            " [-4 -4]]\n",
            "\n"
          ]
        }
      ]
    },
    {
      "cell_type": "markdown",
      "source": [
        "## ***Multiply Multiplicacion***"
      ],
      "metadata": {
        "id": "vkim9y8BQiIs"
      }
    },
    {
      "cell_type": "code",
      "source": [
        "#np.multiply(vector1, vector2)\n",
        "print(f\"Arreglo Multiplicacion (mat_18* mat_19) :\\n {mat_18*mat_19}\\n\")\n",
        "print(f\"Arreglo np.multiply(mat_18, mat_19) :\\n {np.multiply(mat_18, mat_19)}\\n\")"
      ],
      "metadata": {
        "id": "oMY3jC-2QhaB",
        "outputId": "83060986-a697-480d-d2d5-8288c6195779",
        "colab": {
          "base_uri": "https://localhost:8080/"
        }
      },
      "execution_count": 203,
      "outputs": [
        {
          "output_type": "stream",
          "name": "stdout",
          "text": [
            "Arreglo Multiplicacion (mat_18* mat_19) :\n",
            " [[ 5 12]\n",
            " [21 32]]\n",
            "\n",
            "Arreglo np.multiply(mat_18, mat_19) :\n",
            " [[ 5 12]\n",
            " [21 32]]\n",
            "\n"
          ]
        }
      ]
    },
    {
      "cell_type": "markdown",
      "source": [
        "## ***Numeros Aleatorios***"
      ],
      "metadata": {
        "id": "NsO3OsxiRxaD"
      }
    },
    {
      "cell_type": "code",
      "source": [
        "n1 = np.random.randint(5)\n",
        "mat_20 = np.random.randint(10, size=5)\n",
        "mat_21 = np.random.randint(999, size=(3,3))\n",
        "mat_22 =np.random.rand(10)\n",
        "mat_23 = np.random.rand(3,3)\n",
        "print(f\"El numero aleatorio n1 es:\\n{n1}\\n\")\n",
        "print(f\"La matriz aleatoria mat_20 es: \\n{mat_20} \\n\")\n",
        "print(f\"La matriz aleatoria mat_21 es: \\n {mat_21} \\n\")\n",
        "print(f\"La matriz aleatoria mat_22 es: \\n{mat_22} \\n\")\n",
        "print(f\"La matriz aleatoria mat_23 es: \\n {mat_23} \\n\")"
      ],
      "metadata": {
        "id": "9AIqqgY9Rprq",
        "outputId": "2f13ff45-8450-42ff-c1e1-e5ebceef4eff",
        "colab": {
          "base_uri": "https://localhost:8080/"
        }
      },
      "execution_count": 204,
      "outputs": [
        {
          "output_type": "stream",
          "name": "stdout",
          "text": [
            "El numero aleatorio n1 es:\n",
            "3\n",
            "\n",
            "La matriz aleatoria mat_20 es: \n",
            "[7 0 0 4 3] \n",
            "\n",
            "La matriz aleatoria mat_21 es: \n",
            " [[755 515 376]\n",
            " [879 965  14]\n",
            " [780 824 394]] \n",
            "\n",
            "La matriz aleatoria mat_22 es: \n",
            "[0.87524375 0.69443597 0.31409721 0.24005602 0.88620754 0.20127668\n",
            " 0.37905271 0.1533691  0.04267072 0.99688241] \n",
            "\n",
            "La matriz aleatoria mat_23 es: \n",
            " [[0.58204781 0.28560313 0.43897619]\n",
            " [0.53028144 0.14846902 0.37434669]\n",
            " [0.48643    0.18706747 0.52809501]] \n",
            "\n"
          ]
        }
      ]
    },
    {
      "cell_type": "code",
      "source": [
        "mat_25 = np.random.choice([3,5,9,5,1],size=(2,2))\n",
        "mat_26 = np.array([[0,1,2],[4,2,3]])\n",
        "print(f\"La matriz aleatoria mat_25 es: \\n{mat_25} \\n\")\n",
        "print(f\"La matriz es de dimensiones: \\n{mat_25.ndim}\")\n",
        "print(f\"La matriz aleatoria mat_26 es: \\n{mat_26} \\n\")\n",
        "print(f\"La matriz es de dimensiones de mat_26: {mat_26.ndim}\")\n",
        "print(f\"El tipo de dato de mat_26: {type(mat_26)}\")\n",
        "print(f\"La dimension de mat_26: {mat_26.shape}\")"
      ],
      "metadata": {
        "id": "D41JGjimWpEK",
        "outputId": "bc5510cc-8816-45ac-a640-de011ab217f9",
        "colab": {
          "base_uri": "https://localhost:8080/"
        }
      },
      "execution_count": 205,
      "outputs": [
        {
          "output_type": "stream",
          "name": "stdout",
          "text": [
            "La matriz aleatoria mat_25 es: \n",
            "[[5 5]\n",
            " [5 9]] \n",
            "\n",
            "La matriz es de dimensiones: \n",
            "2\n",
            "La matriz aleatoria mat_26 es: \n",
            "[[0 1 2]\n",
            " [4 2 3]] \n",
            "\n",
            "La matriz es de dimensiones de mat_26: 2\n",
            "El tipo de dato de mat_26: <class 'numpy.ndarray'>\n",
            "La dimension de mat_26: (2, 3)\n"
          ]
        }
      ]
    },
    {
      "cell_type": "code",
      "source": [
        "# La suma de los valores de la matriz es:\n",
        "print(f\"La suma de los valores de la matriz es: {mat_26.sum()}\")\n",
        "# la suma de valores a nivel columna es:\n",
        "print(f\"La suma de los valores de la matriz es: {mat_26.sum(axis=0)}\")\n",
        "# La suma de valores a nivel filas:\n",
        "print(f\"La suma de los valores de la matriz es: {mat_26.sum(axis=1)}\")"
      ],
      "metadata": {
        "id": "gzOidXYPXrtD",
        "outputId": "19a0e1cb-f526-407e-d71f-c86814f56d65",
        "colab": {
          "base_uri": "https://localhost:8080/"
        }
      },
      "execution_count": 206,
      "outputs": [
        {
          "output_type": "stream",
          "name": "stdout",
          "text": [
            "La suma de los valores de la matriz es: 12\n",
            "La suma de los valores de la matriz es: [4 3 5]\n",
            "La suma de los valores de la matriz es: [3 9]\n"
          ]
        }
      ]
    },
    {
      "cell_type": "code",
      "source": [
        "mat_28 = np.array([[1,1],[1,1]])\n",
        "mat_29 = np.array([[2,2],[2,2]])*4\n",
        "print(f\"La matriz mat_28 es: \\n{mat_28} \\n\")\n",
        "print(f\"La matriz mat_29 es: \\n{mat_29} \\n\")"
      ],
      "metadata": {
        "id": "VLDxt94yanLD",
        "outputId": "ee186399-b66c-4024-98d6-cac46939722d",
        "colab": {
          "base_uri": "https://localhost:8080/"
        }
      },
      "execution_count": 207,
      "outputs": [
        {
          "output_type": "stream",
          "name": "stdout",
          "text": [
            "La matriz mat_28 es: \n",
            "[[1 1]\n",
            " [1 1]] \n",
            "\n",
            "La matriz mat_29 es: \n",
            "[[8 8]\n",
            " [8 8]] \n",
            "\n"
          ]
        }
      ]
    },
    {
      "cell_type": "markdown",
      "source": [
        "## ***Concatenacion -  concatenate.***\n",
        "\n",
        "\n"
      ],
      "metadata": {
        "id": "1qxEZwhubCcg"
      }
    },
    {
      "cell_type": "code",
      "source": [
        "np.concatenate([mat_28,mat_29])\n",
        "print(f\"np.concatenate([mat_28,mat_29]) :\\n {np.concatenate([mat_28,mat_29])}\")\n",
        "# apilar vertical:\n",
        "print(f\"np.vstack([mat_28,mat_29]) :\\n {np.concatenate([mat_28,mat_29],axis=0)}\")\n",
        "# apilar horizontal:\n",
        "print(f\"np.hstack([mat_28,mat_29]) :\\n {np.concatenate([mat_28,mat_29],axis=1)}\")"
      ],
      "metadata": {
        "id": "ZnzmoPfybBRn",
        "outputId": "d0f5d0dc-b7b0-4198-eb14-a1fc16f79e6b",
        "colab": {
          "base_uri": "https://localhost:8080/"
        }
      },
      "execution_count": 208,
      "outputs": [
        {
          "output_type": "stream",
          "name": "stdout",
          "text": [
            "np.concatenate([mat_28,mat_29]) :\n",
            " [[1 1]\n",
            " [1 1]\n",
            " [8 8]\n",
            " [8 8]]\n",
            "np.vstack([mat_28,mat_29]) :\n",
            " [[1 1]\n",
            " [1 1]\n",
            " [8 8]\n",
            " [8 8]]\n",
            "np.hstack([mat_28,mat_29]) :\n",
            " [[1 1 8 8]\n",
            " [1 1 8 8]]\n"
          ]
        }
      ]
    },
    {
      "cell_type": "code",
      "source": [],
      "metadata": {
        "id": "LLhApPhjbgIk"
      },
      "execution_count": 208,
      "outputs": []
    },
    {
      "cell_type": "code",
      "source": [],
      "metadata": {
        "id": "hAiiNgZqbzek"
      },
      "execution_count": null,
      "outputs": []
    }
  ]
}
{
  "nbformat": 4,
  "nbformat_minor": 0,
  "metadata": {
    "colab": {
      "provenance": [],
      "authorship_tag": "ABX9TyO1BrHiR5P/J+nhToWRr8jN",
      "include_colab_link": true
    },
    "kernelspec": {
      "name": "python3",
      "display_name": "Python 3"
    },
    "language_info": {
      "name": "python"
    }
  },
  "cells": [
    {
      "cell_type": "markdown",
      "metadata": {
        "id": "view-in-github",
        "colab_type": "text"
      },
      "source": [
        "<a href=\"https://colab.research.google.com/github/NickTorres04/Programacion-en-Python-UTEC/blob/main/mod2_clase3.ipynb\" target=\"_parent\"><img src=\"https://colab.research.google.com/assets/colab-badge.svg\" alt=\"Open In Colab\"/></a>"
      ]
    },
    {
      "cell_type": "markdown",
      "source": [
        "# **Numpy**"
      ],
      "metadata": {
        "id": "cEBKhtPBxGzn"
      }
    },
    {
      "cell_type": "code",
      "execution_count": 2,
      "metadata": {
        "id": "lngebxIuwF4N"
      },
      "outputs": [],
      "source": [
        "# Arreglo que consume menos memoria.\n",
        "import numpy as np"
      ]
    },
    {
      "cell_type": "code",
      "source": [
        "lista_1 = [1,3,5]\n",
        "print(lista_1)\n",
        "sum(lista_1)"
      ],
      "metadata": {
        "colab": {
          "base_uri": "https://localhost:8080/"
        },
        "id": "D3YUYYxGyWPY",
        "outputId": "5003089d-1507-4a44-b3d1-2bad23e8e371"
      },
      "execution_count": 5,
      "outputs": [
        {
          "output_type": "stream",
          "name": "stdout",
          "text": [
            "[1, 3, 5]\n"
          ]
        },
        {
          "output_type": "execute_result",
          "data": {
            "text/plain": [
              "9"
            ]
          },
          "metadata": {},
          "execution_count": 5
        }
      ]
    },
    {
      "cell_type": "code",
      "source": [
        "type(lista_1)"
      ],
      "metadata": {
        "colab": {
          "base_uri": "https://localhost:8080/"
        },
        "id": "UaDqIrSWymUB",
        "outputId": "ff7ffa7f-345e-4bde-c5e5-07fd68f9e401"
      },
      "execution_count": 9,
      "outputs": [
        {
          "output_type": "execute_result",
          "data": {
            "text/plain": [
              "list"
            ]
          },
          "metadata": {},
          "execution_count": 9
        }
      ]
    },
    {
      "cell_type": "code",
      "source": [
        "mat_1=([2,4,5])\n",
        "type(mat_1)"
      ],
      "metadata": {
        "colab": {
          "base_uri": "https://localhost:8080/"
        },
        "id": "iP2_pnFSzIbd",
        "outputId": "31bc92fc-9e9c-4795-8a44-b7b982c29e18"
      },
      "execution_count": 10,
      "outputs": [
        {
          "output_type": "execute_result",
          "data": {
            "text/plain": [
              "list"
            ]
          },
          "metadata": {},
          "execution_count": 10
        }
      ]
    },
    {
      "cell_type": "code",
      "source": [
        "lista_1.append(8)\n",
        "print(lista_1)"
      ],
      "metadata": {
        "colab": {
          "base_uri": "https://localhost:8080/"
        },
        "id": "2M87u1d1zQ0J",
        "outputId": "de8bcbb7-4d0c-4ca4-fcf4-0d04fcf9629a"
      },
      "execution_count": 12,
      "outputs": [
        {
          "output_type": "stream",
          "name": "stdout",
          "text": [
            "[1, 3, 5, 8, 8]\n"
          ]
        }
      ]
    },
    {
      "cell_type": "code",
      "source": [
        "vector = np.array([1, 2, 3, 4, 5])"
      ],
      "metadata": {
        "id": "vXoZ4PSMzW1q"
      },
      "execution_count": 13,
      "outputs": []
    },
    {
      "cell_type": "code",
      "source": [
        "type(vector)"
      ],
      "metadata": {
        "colab": {
          "base_uri": "https://localhost:8080/"
        },
        "id": "9zyDKi8D0flG",
        "outputId": "bb277b03-9937-40e5-af5d-8169d2598c76"
      },
      "execution_count": 14,
      "outputs": [
        {
          "output_type": "execute_result",
          "data": {
            "text/plain": [
              "numpy.ndarray"
            ]
          },
          "metadata": {},
          "execution_count": 14
        }
      ]
    },
    {
      "cell_type": "code",
      "source": [
        "#listas:\n",
        "l1 = [1,2,3]\n",
        "l2 = [4,5,6]\n",
        "l1+l2\n",
        "print(l1+l2)"
      ],
      "metadata": {
        "colab": {
          "base_uri": "https://localhost:8080/"
        },
        "id": "pnPnZqZL0hhO",
        "outputId": "0e553e4f-8f5f-429a-8fc7-a05edf14858b"
      },
      "execution_count": 16,
      "outputs": [
        {
          "output_type": "stream",
          "name": "stdout",
          "text": [
            "[1, 2, 3, 4, 5, 6]\n"
          ]
        }
      ]
    },
    {
      "cell_type": "code",
      "source": [
        "a1 = np.array([1,2,3])\n",
        "a2 = np.array([4,5,6])\n",
        "print(f\"Arreglo de Numpy 1 {a1}\")\n",
        "print(f\"Arreglo de Numpy 1 {a2}\")\n",
        "print(f\"Arreglo de Numpy a1 + a2 {a1+a2}\")\n",
        "print(f\"Arreglo de Numpy a1 * a2 {a1*a2}\")"
      ],
      "metadata": {
        "colab": {
          "base_uri": "https://localhost:8080/"
        },
        "id": "7sy5haoG1K-x",
        "outputId": "7f8b6e6d-0327-46f6-ecf0-fa20f7b651c1"
      },
      "execution_count": 19,
      "outputs": [
        {
          "output_type": "stream",
          "name": "stdout",
          "text": [
            "Arreglo de Numpy 1 [1 2 3]\n",
            "Arreglo de Numpy 1 [4 5 6]\n",
            "Arreglo de Numpy a1 + a2 [5 7 9]\n",
            "Arreglo de Numpy a1 * a2 [ 4 10 18]\n"
          ]
        }
      ]
    },
    {
      "cell_type": "code",
      "source": [
        "mat_3 =np.array([1,2,3,4,5,6])\n",
        "mat_3"
      ],
      "metadata": {
        "colab": {
          "base_uri": "https://localhost:8080/"
        },
        "id": "zLMqZXfs2Een",
        "outputId": "55981c02-5bd7-4afc-d0ce-9bc05290596b"
      },
      "execution_count": 20,
      "outputs": [
        {
          "output_type": "execute_result",
          "data": {
            "text/plain": [
              "array([1, 2, 3, 4, 5, 6])"
            ]
          },
          "metadata": {},
          "execution_count": 20
        }
      ]
    },
    {
      "cell_type": "markdown",
      "source": [
        "## matriz de DOS DIMENSIONES"
      ],
      "metadata": {
        "id": "7NjNZ1qb2Nyi"
      }
    },
    {
      "cell_type": "code",
      "source": [
        "# Matriz en 2D\n",
        "mat_4 = np.array([[1,2,3],[4,5,6]])\n",
        "mat_4"
      ],
      "metadata": {
        "colab": {
          "base_uri": "https://localhost:8080/"
        },
        "id": "mgIeaIq02Mft",
        "outputId": "06c35871-4a84-4f08-d937-7f166b971f0d"
      },
      "execution_count": 21,
      "outputs": [
        {
          "output_type": "execute_result",
          "data": {
            "text/plain": [
              "array([[1, 2, 3],\n",
              "       [4, 5, 6]])"
            ]
          },
          "metadata": {},
          "execution_count": 21
        }
      ]
    },
    {
      "cell_type": "code",
      "source": [
        "mat_5 = np.array([[1],[4],[6]])\n",
        "mat_5"
      ],
      "metadata": {
        "colab": {
          "base_uri": "https://localhost:8080/"
        },
        "id": "kXIfxZbd2f3A",
        "outputId": "84a80e38-2bfa-4053-82c6-3d83d365446d"
      },
      "execution_count": 22,
      "outputs": [
        {
          "output_type": "execute_result",
          "data": {
            "text/plain": [
              "array([[1],\n",
              "       [4],\n",
              "       [6]])"
            ]
          },
          "metadata": {},
          "execution_count": 22
        }
      ]
    },
    {
      "cell_type": "code",
      "source": [
        "lista_2  =  [1,2,3,4,5]\n",
        "print(f\"La lista es : {lista_2}\\n\")\n",
        "print(f\"El tipo del objeto es: {type(lista_2)}\")"
      ],
      "metadata": {
        "colab": {
          "base_uri": "https://localhost:8080/"
        },
        "id": "ISZCN-lR2oKd",
        "outputId": "bbd7f8a9-aa68-4563-b9d1-a9f87ec73181"
      },
      "execution_count": 25,
      "outputs": [
        {
          "output_type": "stream",
          "name": "stdout",
          "text": [
            "La lista es : [1, 2, 3, 4, 5]\n",
            "\n",
            "El tipo del objeto es: <class 'list'>\n"
          ]
        }
      ]
    },
    {
      "cell_type": "code",
      "source": [
        "mat_5 =  np.array(lista_2)\n",
        "print(f\"La lista es : {mat_5}\\n\")\n",
        "print(f\"El tipo del objeto es: {type(mat_5)}\")"
      ],
      "metadata": {
        "colab": {
          "base_uri": "https://localhost:8080/"
        },
        "id": "uHeEFoc73P6J",
        "outputId": "109c8615-71b7-442d-a03b-0cc352cbe763"
      },
      "execution_count": 27,
      "outputs": [
        {
          "output_type": "stream",
          "name": "stdout",
          "text": [
            "La lista es : [1 2 3 4 5]\n",
            "\n",
            "El tipo del objeto es: <class 'numpy.ndarray'>\n"
          ]
        }
      ]
    },
    {
      "cell_type": "code",
      "source": [
        "lista_3  =  [[1,2,3],[4,5,6],[7,8,9]]\n",
        "print(f\"La lista es : {lista_3}\\n\")\n",
        "print(f\"El tipo del objeto es: {type(lista_3)}\")"
      ],
      "metadata": {
        "colab": {
          "base_uri": "https://localhost:8080/"
        },
        "id": "MjshQ_zA4EAx",
        "outputId": "054bc617-dc89-4036-ca3e-d47b3c87a43b"
      },
      "execution_count": 28,
      "outputs": [
        {
          "output_type": "stream",
          "name": "stdout",
          "text": [
            "La lista es : [[1, 2, 3], [4, 5, 6], [7, 8, 9]]\n",
            "\n",
            "El tipo del objeto es: <class 'list'>\n"
          ]
        }
      ]
    },
    {
      "cell_type": "code",
      "source": [
        "mat_6  =  np.array(lista_3)\n",
        "print(f\"La lista es :\\n {mat_6}\")\n",
        "print(f\"El tipo del objeto es: {type(mat_6)}\")"
      ],
      "metadata": {
        "colab": {
          "base_uri": "https://localhost:8080/"
        },
        "id": "FLEhEup94QRm",
        "outputId": "1f525205-9c4a-4b7f-ec6e-b518d1218f7c"
      },
      "execution_count": 31,
      "outputs": [
        {
          "output_type": "stream",
          "name": "stdout",
          "text": [
            "La lista es :\n",
            " [[1 2 3]\n",
            " [4 5 6]\n",
            " [7 8 9]]\n",
            "El tipo del objeto es: <class 'numpy.ndarray'>\n"
          ]
        }
      ]
    },
    {
      "cell_type": "code",
      "source": [
        "mat_7 = np.arange(20).reshape(4,5) #FILAS , COLUMNAS\n",
        "print(f\"La lista es :\\n {mat_7}\")\n",
        "print(f\"El tipo del objeto es: {type(mat_7)}\")\n",
        "print(f\"El numero de dimensiones es: {mat_7.ndim}\")\n",
        "print(f\"el numero de elementos es: {mat_7.size}\")\n",
        "print(f\"El tanaño de las dimensiones del objeto es: {mat_7.shape}\")"
      ],
      "metadata": {
        "colab": {
          "base_uri": "https://localhost:8080/"
        },
        "id": "97yBcPeD5dlc",
        "outputId": "7ef91559-a42a-4d7e-e9a9-ecdba6c58215"
      },
      "execution_count": 43,
      "outputs": [
        {
          "output_type": "stream",
          "name": "stdout",
          "text": [
            "La lista es :\n",
            " [[ 0  1  2  3  4]\n",
            " [ 5  6  7  8  9]\n",
            " [10 11 12 13 14]\n",
            " [15 16 17 18 19]]\n",
            "El tipo del objeto es: <class 'numpy.ndarray'>\n",
            "El numero de dimensiones es: 2\n",
            "el numero de elementos es: 20\n",
            "El tanaño de las dimensiones del objeto es: (4, 5)\n"
          ]
        }
      ]
    },
    {
      "cell_type": "code",
      "source": [
        "print(type(mat_7.shape))\n",
        "print(mat_7.shape[0])\n",
        "print(mat_7.shape[1])"
      ],
      "metadata": {
        "colab": {
          "base_uri": "https://localhost:8080/"
        },
        "id": "QEP_ffz67gFv",
        "outputId": "c3bf5af8-f711-484f-ea37-30bfd2e9a0b0"
      },
      "execution_count": 44,
      "outputs": [
        {
          "output_type": "stream",
          "name": "stdout",
          "text": [
            "<class 'tuple'>\n",
            "4\n",
            "5\n"
          ]
        }
      ]
    },
    {
      "cell_type": "code",
      "source": [
        "mat_9 = np.zeros((4,3))\n",
        "print(f\"El arreglo es :\\n {mat_9}\")\n",
        "print(f\"El tipo del objeto es: {type(mat_9)}\")\n",
        "print(f\"El numero de dimensiones es: {mat_9.ndim}\")\n",
        "print(f\"el numero de elementos es: {mat_9.size}\")\n",
        "print(f\"El tanaño de las dimensiones del objeto es: {mat_9.shape}\")"
      ],
      "metadata": {
        "colab": {
          "base_uri": "https://localhost:8080/"
        },
        "id": "5D3Fu-e87k1Q",
        "outputId": "11aa01e3-5543-4efa-e23e-40597b39f0b4"
      },
      "execution_count": 49,
      "outputs": [
        {
          "output_type": "stream",
          "name": "stdout",
          "text": [
            "El arreglo es :\n",
            " [[0. 0. 0.]\n",
            " [0. 0. 0.]\n",
            " [0. 0. 0.]\n",
            " [0. 0. 0.]]\n",
            "El tipo del objeto es: <class 'numpy.ndarray'>\n",
            "El numero de dimensiones es: 2\n",
            "el numero de elementos es: 12\n",
            "El tanaño de las dimensiones del objeto es: (4, 3)\n"
          ]
        }
      ]
    },
    {
      "cell_type": "code",
      "source": [
        "mat_10 =  np.linspace(99,88,20) #\n",
        "print(f\"El arreglo es :\\n {mat_10}\\n\")\n",
        "print(f\"El tipo del objeto es: {type(mat_10)}\")\n",
        "print(f\"El numero de dimensiones es: {mat_10.ndim}\")\n",
        "print(f\"el numero de elementos es: {mat_10.size}\")\n",
        "print(f\"El tanaño de las dimensiones del objeto es: {mat_10.shape}\")"
      ],
      "metadata": {
        "colab": {
          "base_uri": "https://localhost:8080/"
        },
        "id": "Fbmz1gy29cEX",
        "outputId": "aebdccb0-cbbb-47aa-a349-bf63078c56e8"
      },
      "execution_count": 51,
      "outputs": [
        {
          "output_type": "stream",
          "name": "stdout",
          "text": [
            "El arreglo es :\n",
            " [99.         98.42105263 97.84210526 97.26315789 96.68421053 96.10526316\n",
            " 95.52631579 94.94736842 94.36842105 93.78947368 93.21052632 92.63157895\n",
            " 92.05263158 91.47368421 90.89473684 90.31578947 89.73684211 89.15789474\n",
            " 88.57894737 88.        ]\n",
            "\n",
            "El tipo del objeto es: <class 'numpy.ndarray'>\n",
            "El numero de dimensiones es: 1\n",
            "el numero de elementos es: 20\n",
            "El tanaño de las dimensiones del objeto es: (20,)\n"
          ]
        }
      ]
    },
    {
      "cell_type": "code",
      "source": [
        "type(mat_10.shape)"
      ],
      "metadata": {
        "colab": {
          "base_uri": "https://localhost:8080/"
        },
        "id": "f5IFObhu-CBt",
        "outputId": "ed65861f-2fe5-4186-b40f-050ff5a791df"
      },
      "execution_count": 53,
      "outputs": [
        {
          "output_type": "execute_result",
          "data": {
            "text/plain": [
              "tuple"
            ]
          },
          "metadata": {},
          "execution_count": 53
        }
      ]
    },
    {
      "cell_type": "code",
      "source": [
        "np.arange(24).reshape(6,4)"
      ],
      "metadata": {
        "id": "RlAUqF5XEszo",
        "outputId": "2f6c05aa-018d-46d8-8fd2-683a8c31e1e1",
        "colab": {
          "base_uri": "https://localhost:8080/"
        }
      },
      "execution_count": 55,
      "outputs": [
        {
          "output_type": "execute_result",
          "data": {
            "text/plain": [
              "array([[ 0,  1,  2,  3],\n",
              "       [ 4,  5,  6,  7],\n",
              "       [ 8,  9, 10, 11],\n",
              "       [12, 13, 14, 15],\n",
              "       [16, 17, 18, 19],\n",
              "       [20, 21, 22, 23]])"
            ]
          },
          "metadata": {},
          "execution_count": 55
        }
      ]
    },
    {
      "cell_type": "code",
      "source": [
        "mat_11 = np.arange(24).reshape(2,4,3)\n",
        "print(f\"El arreglo es :\\n {mat_11}\\n\")\n",
        "print(f\"El tipo del objeto es: {type(mat_11)}\")\n",
        "print(f\"El numero de dimensiones es: {mat_11.ndim}\")\n",
        "print(f\"el numero de elementos es: {mat_11.size}\")\n",
        "print(f\"El tanaño de las dimensiones del objeto es: {mat_11.shape}\")"
      ],
      "metadata": {
        "id": "0Ym3JzjBEwzw",
        "outputId": "1932db6c-7d4d-4ebf-ff20-e9f2f6244a8f",
        "colab": {
          "base_uri": "https://localhost:8080/"
        }
      },
      "execution_count": 58,
      "outputs": [
        {
          "output_type": "stream",
          "name": "stdout",
          "text": [
            "El arreglo es :\n",
            " [[[ 0  1  2]\n",
            "  [ 3  4  5]\n",
            "  [ 6  7  8]\n",
            "  [ 9 10 11]]\n",
            "\n",
            " [[12 13 14]\n",
            "  [15 16 17]\n",
            "  [18 19 20]\n",
            "  [21 22 23]]]\n",
            "\n",
            "El tipo del objeto es: <class 'numpy.ndarray'>\n",
            "El numero de dimensiones es: 3\n",
            "el numero de elementos es: 24\n",
            "El tanaño de las dimensiones del objeto es: (2, 4, 3)\n"
          ]
        }
      ]
    },
    {
      "cell_type": "code",
      "source": [
        "mat_11 = np.arange(24).reshape(6,2,2)\n",
        "print(f\"El arreglo es :\\n {mat_11}\\n\")\n",
        "print(f\"El tipo del objeto es: {type(mat_11)}\")\n",
        "print(f\"El numero de dimensiones es: {mat_11.ndim}\")\n",
        "print(f\"el numero de elementos es: {mat_11.size}\")\n",
        "print(f\"El tanaño de las dimensiones del objeto es: {mat_11.shape}\")"
      ],
      "metadata": {
        "id": "lrfitKKMGrAu",
        "outputId": "0da2c0d5-68d5-4677-d748-93adc360b292",
        "colab": {
          "base_uri": "https://localhost:8080/"
        }
      },
      "execution_count": 60,
      "outputs": [
        {
          "output_type": "stream",
          "name": "stdout",
          "text": [
            "El arreglo es :\n",
            " [[[ 0  1]\n",
            "  [ 2  3]]\n",
            "\n",
            " [[ 4  5]\n",
            "  [ 6  7]]\n",
            "\n",
            " [[ 8  9]\n",
            "  [10 11]]\n",
            "\n",
            " [[12 13]\n",
            "  [14 15]]\n",
            "\n",
            " [[16 17]\n",
            "  [18 19]]\n",
            "\n",
            " [[20 21]\n",
            "  [22 23]]]\n",
            "\n",
            "El tipo del objeto es: <class 'numpy.ndarray'>\n",
            "El numero de dimensiones es: 3\n",
            "el numero de elementos es: 24\n",
            "El tanaño de las dimensiones del objeto es: (6, 2, 2)\n"
          ]
        }
      ]
    },
    {
      "cell_type": "code",
      "source": [
        "mat_12 = np.arange(27).reshape(3,3,3)\n",
        "print(f\"El arreglo es :\\n {mat_12}\\n\")\n",
        "print(f\"El tipo del objeto es: {type(mat_12)}\")\n",
        "print(f\"El numero de dimensiones es: {mat_12.ndim}\")\n",
        "print(f\"el numero de elementos es: {mat_12.size}\")\n",
        "print(f\"El tanaño de las dimensiones del objeto es: {mat_12.shape}\")"
      ],
      "metadata": {
        "id": "B1Y-Kbj2HVgN",
        "outputId": "52fb4494-c48b-4876-ec1e-ea24a1bb16b9",
        "colab": {
          "base_uri": "https://localhost:8080/"
        }
      },
      "execution_count": 61,
      "outputs": [
        {
          "output_type": "stream",
          "name": "stdout",
          "text": [
            "El arreglo es :\n",
            " [[[ 0  1  2]\n",
            "  [ 3  4  5]\n",
            "  [ 6  7  8]]\n",
            "\n",
            " [[ 9 10 11]\n",
            "  [12 13 14]\n",
            "  [15 16 17]]\n",
            "\n",
            " [[18 19 20]\n",
            "  [21 22 23]\n",
            "  [24 25 26]]]\n",
            "\n",
            "El tipo del objeto es: <class 'numpy.ndarray'>\n",
            "El numero de dimensiones es: 3\n",
            "el numero de elementos es: 27\n",
            "El tanaño de las dimensiones del objeto es: (3, 3, 3)\n"
          ]
        }
      ]
    },
    {
      "cell_type": "code",
      "source": [
        "mat_13 =np.arange(24).reshape(4,6)\n",
        "mat_13"
      ],
      "metadata": {
        "id": "qyg5NCJ9NKtT",
        "outputId": "55cbc9bc-9387-4f6b-e9dc-2ac046b1a720",
        "colab": {
          "base_uri": "https://localhost:8080/"
        }
      },
      "execution_count": 68,
      "outputs": [
        {
          "output_type": "execute_result",
          "data": {
            "text/plain": [
              "array([[ 0,  1,  2,  3,  4,  5],\n",
              "       [ 6,  7,  8,  9, 10, 11],\n",
              "       [12, 13, 14, 15, 16, 17],\n",
              "       [18, 19, 20, 21, 22, 23]])"
            ]
          },
          "metadata": {},
          "execution_count": 68
        }
      ]
    },
    {
      "cell_type": "code",
      "source": [
        "np.concatenate(np.array([2,4]))"
      ],
      "metadata": {
        "id": "wiGtJBj-NeRO",
        "outputId": "41033f1f-41de-4411-a308-5f14e784247a",
        "colab": {
          "base_uri": "https://localhost:8080/"
        }
      },
      "execution_count": 69,
      "outputs": [
        {
          "output_type": "execute_result",
          "data": {
            "text/plain": [
              "array([12, 13, 14, 15, 16, 17])"
            ]
          },
          "metadata": {},
          "execution_count": 69
        }
      ]
    }
  ]
}
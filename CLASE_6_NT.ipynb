{
  "nbformat": 4,
  "nbformat_minor": 0,
  "metadata": {
    "colab": {
      "provenance": [],
      "mount_file_id": "19kya16a9PWdntg8cOdxFI5icHfkbzCka",
      "authorship_tag": "ABX9TyNTzUwI1uuunoNbZ3+UblW8",
      "include_colab_link": true
    },
    "kernelspec": {
      "name": "python3",
      "display_name": "Python 3"
    },
    "language_info": {
      "name": "python"
    }
  },
  "cells": [
    {
      "cell_type": "markdown",
      "metadata": {
        "id": "view-in-github",
        "colab_type": "text"
      },
      "source": [
        "<a href=\"https://colab.research.google.com/github/NickTorres04/Programacion-en-Python-UTEC/blob/main/CLASE_6_NT.ipynb\" target=\"_parent\"><img src=\"https://colab.research.google.com/assets/colab-badge.svg\" alt=\"Open In Colab\"/></a>"
      ]
    },
    {
      "cell_type": "markdown",
      "source": [
        "# **librerias Python en uso**"
      ],
      "metadata": {
        "id": "25Zfh1R-FgfJ"
      }
    },
    {
      "cell_type": "code",
      "execution_count": 6,
      "metadata": {
        "id": "lpDWF-oVFdCK"
      },
      "outputs": [],
      "source": [
        "import pandas as pd\n",
        "import numpy as np"
      ]
    },
    {
      "cell_type": "markdown",
      "source": [
        "# ***Conexion a GoogleDrive***"
      ],
      "metadata": {
        "id": "f8Gt4EZBJCH_"
      }
    },
    {
      "cell_type": "code",
      "source": [
        "# conectar con google drive.\n",
        "from google.colab import drive\n",
        "drive.mount('/gdrive')"
      ],
      "metadata": {
        "colab": {
          "base_uri": "https://localhost:8080/"
        },
        "id": "3B11hV1mF0PI",
        "outputId": "a94bca6e-e438-41e2-a346-273b4fbd4b79"
      },
      "execution_count": 7,
      "outputs": [
        {
          "output_type": "stream",
          "name": "stdout",
          "text": [
            "Drive already mounted at /gdrive; to attempt to forcibly remount, call drive.mount(\"/gdrive\", force_remount=True).\n"
          ]
        }
      ]
    },
    {
      "cell_type": "markdown",
      "source": [
        "# **RUTAS DE TRABAJO**"
      ],
      "metadata": {
        "id": "K3g1j1iqJOzN"
      }
    },
    {
      "cell_type": "code",
      "source": [
        "\n",
        "ruta_in = \"/gdrive/My Drive/\""
      ],
      "metadata": {
        "id": "sMIf6J__GcVn"
      },
      "execution_count": null,
      "outputs": []
    }
  ]
}
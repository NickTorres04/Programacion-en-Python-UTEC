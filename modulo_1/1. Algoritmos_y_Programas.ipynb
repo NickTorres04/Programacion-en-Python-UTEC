{
  "nbformat": 4,
  "nbformat_minor": 0,
  "metadata": {
    "colab": {
      "provenance": [],
      "include_colab_link": true
    },
    "kernelspec": {
      "name": "python3",
      "display_name": "Python 3"
    },
    "language_info": {
      "name": "python"
    }
  },
  "cells": [
    {
      "cell_type": "markdown",
      "metadata": {
        "id": "view-in-github",
        "colab_type": "text"
      },
      "source": [
        "<a href=\"https://colab.research.google.com/github/NickTorres04/Programacion-en-Python-UTEC/blob/main/modulo_1/1.%20Algoritmos_y_Programas.ipynb\" target=\"_parent\"><img src=\"https://colab.research.google.com/assets/colab-badge.svg\" alt=\"Open In Colab\"/></a>"
      ]
    },
    {
      "cell_type": "markdown",
      "source": [
        "<img src=\"https://www.ctic.uni.edu.pe/wp-content/uploads/2022/04/588px-x-348px-web-1.png\" alt=\"HTML5 Icon\" width=\"900\" height=\"350\" >"
      ],
      "metadata": {
        "id": "XWp-1a3HCQoh"
      }
    },
    {
      "cell_type": "markdown",
      "source": [
        "<h1 align=center><font size = 5> Algoritmos y programas\n",
        "</font></h1>\n",
        "\n",
        "---"
      ],
      "metadata": {
        "id": "6bpRTn-4CTwV"
      }
    },
    {
      "cell_type": "markdown",
      "source": [
        "## Objetivo\n",
        "\n",
        "Al final del laboratorio, los estudiantes deberían ser capaces de comprender y aplicar las operaciones básicas de Python en la solución de problemas, entender cómo se pueden usar estos conceptos en aplicaciones prácticas y cotidianas, y sentirse motivados para explorar más sobre la programación y su potencial para facilitar y optimizar tareas y decisiones.\n"
      ],
      "metadata": {
        "id": "yYAqVvD3RHbf"
      }
    },
    {
      "cell_type": "markdown",
      "source": [
        "#Ejercicio 1:"
      ],
      "metadata": {
        "id": "aRzqyeNfCcPm"
      }
    },
    {
      "cell_type": "markdown",
      "source": [
        "\n",
        "\n",
        "**Sumar Dos Números**\n",
        "\n",
        "Algoritmo:\n",
        "\n",
        "* Obtener dos números.\n",
        "* Sumar los dos números.\n",
        "* Mostrar el resultado."
      ],
      "metadata": {
        "id": "x0CFZxg1_uFy"
      }
    },
    {
      "cell_type": "markdown",
      "source": [
        "\n",
        "**Pseudo-código:**"
      ],
      "metadata": {
        "id": "ktErA-x2ABlB"
      }
    },
    {
      "cell_type": "code",
      "execution_count": null,
      "metadata": {
        "id": "KO4KO9rA_XIT",
        "colab": {
          "base_uri": "https://localhost:8080/",
          "height": 36
        },
        "outputId": "f93dae46-92ab-447b-e79c-2edd29782e05"
      },
      "outputs": [
        {
          "output_type": "execute_result",
          "data": {
            "text/plain": [
              "'\\nInicio\\n    Leer primerNumero\\n    Leer segundoNumero\\n    resultado = primerNumero + segundoNumero\\n    Escribir resultado\\nFin\\n'"
            ],
            "application/vnd.google.colaboratory.intrinsic+json": {
              "type": "string"
            }
          },
          "metadata": {},
          "execution_count": 7
        }
      ],
      "source": [
        "\"\"\"\n",
        "Inicio\n",
        "    Leer primerNumero\n",
        "    Leer segundoNumero\n",
        "    resultado = primerNumero + segundoNumero\n",
        "    Escribir resultado\n",
        "Fin\n",
        "\"\"\""
      ]
    },
    {
      "cell_type": "markdown",
      "source": [
        "**Código:**"
      ],
      "metadata": {
        "id": "X3ydvX4kAu7h"
      }
    },
    {
      "cell_type": "code",
      "source": [
        "a = input(\"Ingrese el primer numero (a): \")\n",
        "b = input(\"Ingrese el segundo numero (b): \")"
      ],
      "metadata": {
        "id": "CXRsWWOaCjcl",
        "colab": {
          "base_uri": "https://localhost:8080/"
        },
        "outputId": "043ef88b-f6b4-4128-e6a5-c131ea94c2e8"
      },
      "execution_count": null,
      "outputs": [
        {
          "name": "stdout",
          "output_type": "stream",
          "text": [
            "Ingrese el primer numero (a): 3\n",
            "Ingrese el segundo numero (b): 4\n"
          ]
        }
      ]
    },
    {
      "cell_type": "code",
      "source": [
        "type(a)\n",
        "type(b)"
      ],
      "metadata": {
        "colab": {
          "base_uri": "https://localhost:8080/"
        },
        "id": "bmuMFE79wa-e",
        "outputId": "d045f127-1a84-4cbf-d00c-34d1ec2f10c3"
      },
      "execution_count": null,
      "outputs": [
        {
          "output_type": "execute_result",
          "data": {
            "text/plain": [
              "str"
            ]
          },
          "metadata": {},
          "execution_count": 15
        }
      ]
    },
    {
      "cell_type": "code",
      "source": [
        "type(int(a))\n"
      ],
      "metadata": {
        "colab": {
          "base_uri": "https://localhost:8080/"
        },
        "id": "SZbJLeO0wrDV",
        "outputId": "dbfbcc9d-456e-44a9-a631-500555f4b98e"
      },
      "execution_count": null,
      "outputs": [
        {
          "output_type": "execute_result",
          "data": {
            "text/plain": [
              "int"
            ]
          },
          "metadata": {},
          "execution_count": 18
        }
      ]
    },
    {
      "cell_type": "markdown",
      "source": [
        "#Ejercicio 2:"
      ],
      "metadata": {
        "id": "vRz5f9r9Cj24"
      }
    },
    {
      "cell_type": "markdown",
      "source": [
        "**Convertir Grados Celsius a Fahrenheit**\n",
        "\n",
        "Algoritmo:\n",
        "\n",
        "* Obtener la temperatura en grados Celsius.\n",
        "* Convertir la temperatura a Fahrenheit usando la fórmula:\n",
        "\n",
        "<img src=\"https://media.geeksforgeeks.org/wp-content/uploads/20220817110636/FtoCformula3.jpg\" alt=\"HTML5 Icon\" width=\"300\" height=\"100\" >\n",
        "\n",
        "* Mostrar la temperatura en Fahrenheit."
      ],
      "metadata": {
        "id": "nye6e5D9Db-C"
      }
    },
    {
      "cell_type": "markdown",
      "source": [
        "**Pseudo-código:**"
      ],
      "metadata": {
        "id": "demRL1imEPst"
      }
    },
    {
      "cell_type": "code",
      "source": [
        "\"\"\"\n",
        "Inicio\n",
        "    Escribir \" Ingrese temperatura en Fahrenheit: \"\n",
        "    Leer temperatura_Fahrenheit\n",
        "    Temp_celsius =  ((temperatura_Fahrenheit - 32)*5)/9\n",
        "    Escribir \"Temperatura en Celsius: \",Temp_celsius\n",
        "Fin\n",
        "\"\"\""
      ],
      "metadata": {
        "id": "0P6hICjcEUAx",
        "colab": {
          "base_uri": "https://localhost:8080/",
          "height": 53
        },
        "outputId": "50755b3a-7971-4230-cd51-e9a281adfa3a"
      },
      "execution_count": null,
      "outputs": [
        {
          "output_type": "execute_result",
          "data": {
            "text/plain": [
              "'\\nInicio\\n    Escribir \" Ingrese temperatura en Fahrenheit: \"\\n    Leer temperatura_Fahrenheit\\n    Temp_celsius =  ((temperatura_Fahrenheit - 32)*5)/9\\n    Escribir \"Temperatura en Celsius: \",Temp_celsius\\nFin\\n'"
            ],
            "application/vnd.google.colaboratory.intrinsic+json": {
              "type": "string"
            }
          },
          "metadata": {},
          "execution_count": 8
        }
      ]
    },
    {
      "cell_type": "markdown",
      "source": [
        "**Código:**"
      ],
      "metadata": {
        "id": "bXa53UH-ESOI"
      }
    },
    {
      "cell_type": "code",
      "source": [
        "temp_fahr = input('Ingrese la temperatura en grados Fahrenheit: ')\n",
        "# temp_fahr =  int(input('Ingrese la temperatura en grados Fahrenheit: ')) manera simplificada\n"
      ],
      "metadata": {
        "id": "q2NlbgyLEUTv",
        "colab": {
          "base_uri": "https://localhost:8080/"
        },
        "outputId": "bd2d4629-697a-42e0-88e2-0c20a2a6628b"
      },
      "execution_count": null,
      "outputs": [
        {
          "name": "stdout",
          "output_type": "stream",
          "text": [
            "Ingrese la temperatura en grados Fahrenheit: 50\n"
          ]
        }
      ]
    },
    {
      "cell_type": "code",
      "source": [
        "temp_fahr"
      ],
      "metadata": {
        "colab": {
          "base_uri": "https://localhost:8080/",
          "height": 36
        },
        "id": "m0ZsZv3cupWK",
        "outputId": "fd5c545e-d6ea-4510-8d2d-9ec3a2b28708"
      },
      "execution_count": null,
      "outputs": [
        {
          "output_type": "execute_result",
          "data": {
            "text/plain": [
              "'50'"
            ],
            "application/vnd.google.colaboratory.intrinsic+json": {
              "type": "string"
            }
          },
          "metadata": {},
          "execution_count": 10
        }
      ]
    },
    {
      "cell_type": "code",
      "source": [
        "temp_celsius = ((int(temp_fahr) - 32)*5)/9 #Esto es un comentario\n",
        "# temp_celsius # ya no seria necesario el castearlo\n",
        "print(\"La temperatura en Celcius es: \", temp_celsius) #escribir"
      ],
      "metadata": {
        "colab": {
          "base_uri": "https://localhost:8080/"
        },
        "id": "kCdyvKoPvaZv",
        "outputId": "2ded52f5-8d05-4791-b6dd-74ebd64ac83d"
      },
      "execution_count": null,
      "outputs": [
        {
          "output_type": "stream",
          "name": "stdout",
          "text": [
            "La temperatura en Celcius es:  10.0\n"
          ]
        }
      ]
    },
    {
      "cell_type": "markdown",
      "source": [
        "#Ejercicio 3:"
      ],
      "metadata": {
        "id": "k8rphMT_DBuN"
      }
    },
    {
      "cell_type": "markdown",
      "source": [
        "**Calcular el Área de un Rectángulo**\n",
        "\n",
        "Algoritmo:\n",
        "\n",
        "* Obtener la longitud del rectángulo.\n",
        "* Obtener el ancho del rectángulo.\n",
        "* Calcular el área multiplicando la longitud por el ancho.\n",
        "* Mostrar el área."
      ],
      "metadata": {
        "id": "DJ2Y_9SEExIO"
      }
    },
    {
      "cell_type": "markdown",
      "source": [
        "**Pseudo-código:**"
      ],
      "metadata": {
        "id": "Xe3lT7n0FIWM"
      }
    },
    {
      "cell_type": "code",
      "source": [
        "\"\"\"\n",
        "Inicio\n",
        "    Escribir \" Ingrese la longitud del rectángulo: \"\n",
        "    Leer longitud\n",
        "    Escribir \" Ingrese el ancho del rectángulo: \"\n",
        "    Leer ancho\n",
        "    Area =  longitud*ancho\n",
        "    Escribir \"El area es: \", Area\n",
        "Fin\n",
        "\"\"\""
      ],
      "metadata": {
        "id": "UyRf86xIFIWY"
      },
      "execution_count": null,
      "outputs": []
    },
    {
      "cell_type": "markdown",
      "source": [
        "**Código:**"
      ],
      "metadata": {
        "id": "-PppYyO4FIWY"
      }
    },
    {
      "cell_type": "code",
      "source": [
        "longitud = int(input(\"Ingrese la longitud del rectangulo: \"))\n",
        "ancho = int(input(\"Ingrese el ancho del rectangulo: \"))\n",
        "area =  longitud*ancho\n",
        "print(\"la longitud es: \",longitud)\n",
        "print(\"El ancho es: \",ancho)\n",
        "print(\"El area es: \",area)"
      ],
      "metadata": {
        "id": "IJvYMur8FIWY",
        "colab": {
          "base_uri": "https://localhost:8080/"
        },
        "outputId": "b4a395e1-1a3e-415b-a788-0ccbe005071a"
      },
      "execution_count": null,
      "outputs": [
        {
          "output_type": "stream",
          "name": "stdout",
          "text": [
            "Ingrese la longitud del rectangulo: 2\n",
            "Ingrese el ancho del rectangulo: 5\n",
            "la longitud es:  2\n",
            "El ancho es:  5\n",
            "El area es:  10\n"
          ]
        }
      ]
    },
    {
      "cell_type": "markdown",
      "source": [
        "#Ejercicio 4:"
      ],
      "metadata": {
        "id": "bttq0JL2DDBP"
      }
    },
    {
      "cell_type": "markdown",
      "source": [
        "**Multiplicar Dos Números**\n",
        "\n",
        "Algoritmo:\n",
        "\n",
        "* Obtener dos números del usuario.\n",
        "* Multiplicar los dos números.\n",
        "* Mostrar el resultado de la multiplicación.\n"
      ],
      "metadata": {
        "id": "CJE_FRnaGSuL"
      }
    },
    {
      "cell_type": "markdown",
      "source": [
        "**Pseudo-código:**"
      ],
      "metadata": {
        "id": "nenh1ng2GaJJ"
      }
    },
    {
      "cell_type": "code",
      "source": [
        "\"\"\"\n",
        "Inicio\n",
        "    Escribir \" Ingrese numero 1: \"\n",
        "    Leer num1\n",
        "    Escribir \" Ingrese numero 2: \"\n",
        "    Leer num2\n",
        "    multiplicar = num1*num2\n",
        "    Escribir \"El resultado es: \",multiplicar\n",
        "Fin\n",
        "\"\"\""
      ],
      "metadata": {
        "id": "4NcqRU8HGaJK",
        "colab": {
          "base_uri": "https://localhost:8080/",
          "height": 53
        },
        "outputId": "2f844966-92ea-481e-c018-8f3474b39ca4"
      },
      "execution_count": null,
      "outputs": [
        {
          "output_type": "execute_result",
          "data": {
            "text/plain": [
              "'\\nInicio\\n    Escribir \" Ingrese numero 1: \"\\n    Leer num1\\n    Escribir \" Ingrese numero 2: \"\\n    Leer num2\\n    multiplicar = num1*num2\\n    Escribir \"El resultado es: \",multiplicar\\nFin\\n'"
            ],
            "application/vnd.google.colaboratory.intrinsic+json": {
              "type": "string"
            }
          },
          "metadata": {},
          "execution_count": 25
        }
      ]
    },
    {
      "cell_type": "markdown",
      "source": [
        "**Código:**"
      ],
      "metadata": {
        "id": "6QdwbyWGGaJK"
      }
    },
    {
      "cell_type": "code",
      "source": [
        "num1 = int(input(\"Ingrese el numero 1: \"))\n",
        "num2 = int(input(\"Ingrese el numero 2: \"))\n",
        "resultado = num1*num2\n",
        "print(\"El resultado es: \", resultado)"
      ],
      "metadata": {
        "id": "jqOfKNIsGaJL",
        "colab": {
          "base_uri": "https://localhost:8080/"
        },
        "outputId": "a13775c9-b014-44e4-8445-da48afdfd62c"
      },
      "execution_count": null,
      "outputs": [
        {
          "output_type": "stream",
          "name": "stdout",
          "text": [
            "Ingrese el numero 1: 23\n",
            "Ingrese el numero 2: 10\n",
            "El resultado es:  230\n"
          ]
        }
      ]
    },
    {
      "cell_type": "markdown",
      "source": [
        "#Ejercicio 5:"
      ],
      "metadata": {
        "id": "kYm5_430DEO4"
      }
    },
    {
      "cell_type": "markdown",
      "source": [
        "**Calcular el Perímetro de un Cuadrado**"
      ],
      "metadata": {
        "id": "qyF9Ig_6GhFJ"
      }
    },
    {
      "cell_type": "markdown",
      "source": [
        "Algoritmo:\n",
        "\n",
        "* Obtener la longitud de un lado del cuadrado.\n",
        "* Calcular el perímetro multiplicando la longitud del lado por cuatro.\n",
        "* Mostrar el perímetro."
      ],
      "metadata": {
        "id": "fJ02vCBIG5Ay"
      }
    },
    {
      "cell_type": "markdown",
      "source": [
        "**Pseudo-código:**"
      ],
      "metadata": {
        "id": "vYmE9dKfHFko"
      }
    },
    {
      "cell_type": "code",
      "source": [
        "\"\"\"\n",
        "Inicio\n",
        "    Escribir \" longitud de un lado del cuadrado: \"\n",
        "    Leer lado\n",
        "    perimetro = lado*4\n",
        "    Escribir \"El perimetro es: \",perimetro\n",
        "Fin\n",
        "\"\"\""
      ],
      "metadata": {
        "id": "uDLjzvLUHFkp"
      },
      "execution_count": null,
      "outputs": []
    },
    {
      "cell_type": "markdown",
      "source": [
        "**Código:**"
      ],
      "metadata": {
        "id": "Ojf15UuuHFkp"
      }
    },
    {
      "cell_type": "code",
      "source": [
        "lado = int(input(\"Ingrese la longitud de un lado del cuadrado:\"))\n",
        "perimetro = lado*4\n",
        "print(\"El perimetro es: \",perimetro)"
      ],
      "metadata": {
        "id": "G_vWP_O8HFkq"
      },
      "execution_count": null,
      "outputs": []
    },
    {
      "cell_type": "markdown",
      "source": [
        "#Ejercicio 6:"
      ],
      "metadata": {
        "id": "IbseiCbIDFn0"
      }
    },
    {
      "cell_type": "markdown",
      "source": [
        "**Dividir Dos Números**\n",
        "\n",
        "Algoritmo:\n",
        "\n",
        "* Obtener dos números, donde el segundo no debe ser cero.\n",
        "* Dividir el primer número por el segundo.\n",
        "* Mostrar el resultado de la división."
      ],
      "metadata": {
        "id": "2hmcZ5tUHiZ5"
      }
    },
    {
      "cell_type": "markdown",
      "source": [
        "**Pseudo-código:**"
      ],
      "metadata": {
        "id": "sZIfUucIHrL6"
      }
    },
    {
      "cell_type": "code",
      "source": [],
      "metadata": {
        "id": "iTjqtjxiHrL7"
      },
      "execution_count": null,
      "outputs": []
    },
    {
      "cell_type": "markdown",
      "source": [
        "**Código:**"
      ],
      "metadata": {
        "id": "6_NZCiOyHrL7"
      }
    },
    {
      "cell_type": "code",
      "source": [],
      "metadata": {
        "id": "KjzD3HZOHrL7"
      },
      "execution_count": null,
      "outputs": []
    },
    {
      "cell_type": "markdown",
      "source": [
        "#Ejercicio 7:"
      ],
      "metadata": {
        "id": "Hz9aLTBYDGcF"
      }
    },
    {
      "cell_type": "markdown",
      "source": [
        "**Calcular el Área de un Triángulo**\n",
        "\n",
        "Algoritmo:\n",
        "\n",
        "* Obtener la base del triángulo.\n",
        "* Obtener la altura del triángulo.\n",
        "* Calcular el área usando la fórmula:\n",
        "\n",
        "<img src=\"https://definicionesyconceptos.com/wp-content/uploads/2021/06/Area-del-triangulo-%C2%BFcomo-calcular.jpg\" alt=\"HTML5 Icon\" width=\"300\" height=\"200\" >\n",
        "\n",
        "* Mostrar el área.\n"
      ],
      "metadata": {
        "id": "K8fhtBoqI1HW"
      }
    },
    {
      "cell_type": "markdown",
      "source": [
        "**Pseudo-código:**"
      ],
      "metadata": {
        "id": "3eQM2quhKl1L"
      }
    },
    {
      "cell_type": "code",
      "source": [],
      "metadata": {
        "id": "tXB8oUaxKl1M"
      },
      "execution_count": null,
      "outputs": []
    },
    {
      "cell_type": "markdown",
      "source": [
        "**Código:**"
      ],
      "metadata": {
        "id": "nNswfr4RKl1M"
      }
    },
    {
      "cell_type": "code",
      "source": [],
      "metadata": {
        "id": "V24IQeelKl1N"
      },
      "execution_count": null,
      "outputs": []
    },
    {
      "cell_type": "markdown",
      "source": [
        "#Ejercicio 8:"
      ],
      "metadata": {
        "id": "yoHWKi3QDHdW"
      }
    },
    {
      "cell_type": "markdown",
      "source": [
        "**Concatenar Dos Cadenas**\n",
        "\n",
        "Algoritmo:\n",
        "\n",
        "* Obtener dos cadenas de texto del usuario.\n",
        "* Concatenar las dos cadenas.\n",
        "* Mostrar la cadena resultante."
      ],
      "metadata": {
        "id": "PLF2oUmVKa2Y"
      }
    },
    {
      "cell_type": "markdown",
      "source": [
        "**Pseudo-código:**"
      ],
      "metadata": {
        "id": "W5C6p2dEKjwG"
      }
    },
    {
      "cell_type": "code",
      "source": [],
      "metadata": {
        "id": "Nm59ZR7lKjwH"
      },
      "execution_count": null,
      "outputs": []
    },
    {
      "cell_type": "markdown",
      "source": [
        "**Código:**"
      ],
      "metadata": {
        "id": "stYESX50KjwH"
      }
    },
    {
      "cell_type": "code",
      "source": [],
      "metadata": {
        "id": "X4f87galKjwH"
      },
      "execution_count": null,
      "outputs": []
    },
    {
      "cell_type": "markdown",
      "source": [
        "#Ejercicio 9:"
      ],
      "metadata": {
        "id": "JBVIn59GK9K2"
      }
    },
    {
      "cell_type": "markdown",
      "source": [
        "**Calculadora de Propinas**\n",
        "\n",
        "Algoritmo:\n",
        "\n",
        "* Obtener el monto total de la factura del usuario.\n",
        "* Preguntar al usuario el porcentaje de propina que desea dar.\n",
        "* Calcular el monto de la propina basado en el porcentaje.\n",
        "* Calcular el total general sumando la propina al monto original de la factura.\n",
        "* Mostrar el monto de la propina y el total a pagar."
      ],
      "metadata": {
        "id": "AAMXNVHQLEsn"
      }
    },
    {
      "cell_type": "markdown",
      "source": [
        "**Pseudo-código:**"
      ],
      "metadata": {
        "id": "8Je8ZEJwLV9B"
      }
    },
    {
      "cell_type": "code",
      "source": [],
      "metadata": {
        "id": "URyNV2uwLV9C"
      },
      "execution_count": null,
      "outputs": []
    },
    {
      "cell_type": "markdown",
      "source": [
        "**Código:**"
      ],
      "metadata": {
        "id": "N6ykGmAOLV9C"
      }
    },
    {
      "cell_type": "code",
      "source": [],
      "metadata": {
        "id": "hhzMUF6LLV9D"
      },
      "execution_count": null,
      "outputs": []
    },
    {
      "cell_type": "markdown",
      "source": [
        "#Ejercicio 10:"
      ],
      "metadata": {
        "id": "rvapOr1vK-T_"
      }
    },
    {
      "cell_type": "markdown",
      "source": [
        "\n",
        "**Generador de Contraseñas**\n",
        "\n",
        "Algoritmo:\n",
        "\n",
        "* Preguntar al usuario la longitud deseada para la contraseña.\n",
        "* Generar una contraseña aleatoria utilizando una combinación de letras mayúsculas, minúsculas, números y símbolos.\n",
        "* Mostrar la contraseña generada al usuario."
      ],
      "metadata": {
        "id": "vg-6eSCvLTnx"
      }
    },
    {
      "cell_type": "markdown",
      "source": [
        "**Pseudo-código:**"
      ],
      "metadata": {
        "id": "YgBxkKISLYPv"
      }
    },
    {
      "cell_type": "code",
      "source": [],
      "metadata": {
        "id": "QhFNxAX9LYPw"
      },
      "execution_count": null,
      "outputs": []
    },
    {
      "cell_type": "markdown",
      "source": [
        "**Código:**"
      ],
      "metadata": {
        "id": "lgoZ0gUOLYPw"
      }
    },
    {
      "cell_type": "code",
      "source": [],
      "metadata": {
        "id": "-LJk0UNCLYPw"
      },
      "execution_count": null,
      "outputs": []
    },
    {
      "cell_type": "markdown",
      "source": [
        "#Ejercicio 11:"
      ],
      "metadata": {
        "id": "39GxEHMDK_nA"
      }
    },
    {
      "cell_type": "markdown",
      "source": [
        "**Calculadora de Edad de Mascotas en Años Humanos**\n",
        "\n",
        "Algoritmo:\n",
        "\n",
        "* Preguntar al usuario el tipo de mascota (perro o gato).\n",
        "* Obtener la edad de la mascota en años.\n",
        "* Calcular la edad equivalente en años humanos usando un factor * multiplicativo (se asume 7 para perros y 6 para gatos).\n",
        "*  Mostrar la edad de la mascota en años humanos."
      ],
      "metadata": {
        "id": "1owrR9ITLEEv"
      }
    },
    {
      "cell_type": "markdown",
      "source": [
        "**Pseudo-código:**"
      ],
      "metadata": {
        "id": "lTbjQwFCLZ5J"
      }
    },
    {
      "cell_type": "code",
      "source": [],
      "metadata": {
        "id": "-9B3G-VPLZ5U"
      },
      "execution_count": null,
      "outputs": []
    },
    {
      "cell_type": "markdown",
      "source": [
        "**Código:**"
      ],
      "metadata": {
        "id": "xVeRXs58LZ5V"
      }
    },
    {
      "cell_type": "code",
      "source": [],
      "metadata": {
        "id": "1FPU9uG2LZ5V"
      },
      "execution_count": null,
      "outputs": []
    },
    {
      "cell_type": "markdown",
      "source": [
        "#Ejercicio 12:"
      ],
      "metadata": {
        "id": "DAGbYDAAP_1t"
      }
    },
    {
      "cell_type": "markdown",
      "source": [
        "**Calculadora de Interés Compuesto**\n",
        "\n",
        "Algoritmo:\n",
        "\n",
        "* Preguntar al usuario el monto inicial de la inversión.\n",
        "* Preguntar la tasa de interés anual (en porcentaje).\n",
        "* Preguntar el número de años que la inversión será mantenida.\n",
        "* Calcular el monto final usando la fórmula de interés compuesto.\n",
        "* Mostrar el monto final después de los años especificados.\n"
      ],
      "metadata": {
        "id": "zbHGgy8lQED9"
      }
    },
    {
      "cell_type": "markdown",
      "source": [
        "**Pseudo-código:**"
      ],
      "metadata": {
        "id": "S_8pekqFQSwO"
      }
    },
    {
      "cell_type": "code",
      "source": [],
      "metadata": {
        "id": "2rpduVNpQSwO"
      },
      "execution_count": null,
      "outputs": []
    },
    {
      "cell_type": "markdown",
      "source": [
        "**Código:**"
      ],
      "metadata": {
        "id": "ccOFTCawQSwP"
      }
    },
    {
      "cell_type": "code",
      "source": [],
      "metadata": {
        "id": "HlizzaY2QSwP"
      },
      "execution_count": null,
      "outputs": []
    },
    {
      "cell_type": "markdown",
      "source": [
        "# Ejercicio 13:"
      ],
      "metadata": {
        "id": "ZZDR1mBbQURN"
      }
    },
    {
      "cell_type": "markdown",
      "source": [
        "**Calculadora de Calorías**\n",
        "\n",
        "Algoritmo:\n",
        "\n",
        "* Preguntar al usuario su peso en kilogramos.\n",
        "* Preguntar la duración de la actividad física en minutos.\n",
        "* Asignar un valor fijo de calorías quemadas por minuto según un promedio (ej. 8 calorías/minuto).\n",
        "* Calcular el total de calorías quemadas.\n",
        "* Mostrar las calorías totales quemadas.\n"
      ],
      "metadata": {
        "id": "xbvh-5XmQWcC"
      }
    },
    {
      "cell_type": "markdown",
      "source": [
        "**Pseudo-código:**"
      ],
      "metadata": {
        "id": "J4884mQ-Qs3W"
      }
    },
    {
      "cell_type": "code",
      "source": [],
      "metadata": {
        "id": "fVTGcp18Qs3X"
      },
      "execution_count": null,
      "outputs": []
    },
    {
      "cell_type": "markdown",
      "source": [
        "**Código:**"
      ],
      "metadata": {
        "id": "JQMMrXvZQs3X"
      }
    },
    {
      "cell_type": "code",
      "source": [],
      "metadata": {
        "id": "k_fVDjUMQs3X"
      },
      "execution_count": null,
      "outputs": []
    },
    {
      "cell_type": "markdown",
      "source": [
        "---\n",
        "\n",
        "# Gracias por completar este laboratorio!\n",
        "\n",
        "---\n"
      ],
      "metadata": {
        "id": "qfNCVQ28DOIT"
      }
    }
  ]
}
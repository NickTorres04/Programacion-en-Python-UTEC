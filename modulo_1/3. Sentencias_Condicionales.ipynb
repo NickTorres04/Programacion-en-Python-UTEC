{
  "nbformat": 4,
  "nbformat_minor": 0,
  "metadata": {
    "colab": {
      "name": "modulo 2.ipynb",
      "provenance": [],
      "include_colab_link": true
    },
    "kernelspec": {
      "name": "python3",
      "display_name": "Python 3"
    },
    "language_info": {
      "name": "python"
    }
  },
  "cells": [
    {
      "cell_type": "markdown",
      "metadata": {
        "id": "view-in-github",
        "colab_type": "text"
      },
      "source": [
        "<a href=\"https://colab.research.google.com/github/NickTorres04/Programacion-en-Python-UTEC/blob/main/modulo_1/3.%20Sentencias_Condicionales.ipynb\" target=\"_parent\"><img src=\"https://colab.research.google.com/assets/colab-badge.svg\" alt=\"Open In Colab\"/></a>"
      ]
    },
    {
      "cell_type": "markdown",
      "source": [
        "<img src=\"https://www.ctic.uni.edu.pe/wp-content/uploads/2022/04/588px-x-348px-web-1.png\" alt=\"HTML5 Icon\" width=\"900\" height=\"350\" >\n"
      ],
      "metadata": {
        "id": "qCg1zV0_DK0j"
      }
    },
    {
      "cell_type": "markdown",
      "source": [
        "<h1 align=center><font size = 5> SENTENCIAS CONDICIONALES\n",
        "\n",
        "</font></h1>\n",
        "\n",
        "---"
      ],
      "metadata": {
        "id": "XJ-qSpecBnPA"
      }
    },
    {
      "cell_type": "markdown",
      "source": [
        "## Ejercicio 1"
      ],
      "metadata": {
        "id": "Pjm79uguowIC"
      }
    },
    {
      "cell_type": "markdown",
      "source": [
        "**Día de la Semana**\n",
        "\n",
        "Crea un programa que solicite al usuario un número del 1 al 7 y devuelva el día de la semana correspondiente (1 para lunes, 2 para martes, etc.). Si el número está fuera de ese rango, el programa debe mostrar un mensaje de error."
      ],
      "metadata": {
        "id": "SdnlyoStB_pK"
      }
    },
    {
      "cell_type": "code",
      "source": [
        "try:\n",
        "  dias = [\"Lunes\", \"Martes\", \"Miércoles\", \"Jueves\", \"Viernes\", \"Sábado\", \"Domingo\"]\n",
        "  #print(f\"{dias[0]}\")\n",
        "  numero_dia = int(input(\"Ingrese el numero de dia: \"))\n",
        "  if (1 <= numero_dia) and (numero_dia <=7 ):\n",
        "    dia = dias[numero_dia-1] #El menos uno es para que Lunes=1 asi sucesivamente.\n",
        "    print(f\" El numero del dia es {numero_dia} y es {dia} \")\n",
        "  else:\n",
        "    print(\"Ingreso un numero fuera de los limites.\")\n",
        "except:\n",
        "    print(\"Ingreso dato incorrecto.\")"
      ],
      "metadata": {
        "id": "QZgHG00qpSNn",
        "colab": {
          "base_uri": "https://localhost:8080/"
        },
        "outputId": "4bc763a5-52e4-4c26-ed54-89e4eaff384d"
      },
      "execution_count": 20,
      "outputs": [
        {
          "output_type": "stream",
          "name": "stdout",
          "text": [
            "Ingrese el numero de dia: r\n",
            "Ingreso dato incorrecto.\n"
          ]
        }
      ]
    },
    {
      "cell_type": "markdown",
      "source": [
        "## Ejercicio 2"
      ],
      "metadata": {
        "id": "dBLOcsf7pOAc"
      }
    },
    {
      "cell_type": "markdown",
      "source": [
        "**Clasificador de Edades**\n",
        "\n",
        "Escribe un programa que pida al usuario su edad y determine si es un niño (menores de 13), un adolescente (entre 13 y 17 años), un adulto (entre 18 y 64 años) o un adulto mayor (65 años o más). Usa if, elif y else para manejar los diferentes rangos de edad."
      ],
      "metadata": {
        "id": "qaFUqFj8pWXo"
      }
    },
    {
      "cell_type": "code",
      "source": [
        "try:\n",
        "  edad =int(input(\"Ingrese su edad: \"))\n",
        "  if edad<13 :\n",
        "    print(\"Es un niño.\")\n",
        "  elif (13<= edad) and (edad<=17):\n",
        "    print(\"Es un adolescente.\")\n",
        "  elif (17<edad) and (edad<=64):\n",
        "    print(\"Es un adulto.\")\n",
        "  elif (65<= edad):\n",
        "    print(\"Es un adulto mayor.\")\n",
        "  else:\n",
        "    print(\"edad erronea.\")\n",
        "except:\n",
        "  print(\"Edad erronea.\")"
      ],
      "metadata": {
        "id": "Ku3EOGfmpbey",
        "colab": {
          "base_uri": "https://localhost:8080/"
        },
        "outputId": "4010821d-5fcf-40ae-d3f5-f7215ad2d883"
      },
      "execution_count": 24,
      "outputs": [
        {
          "output_type": "stream",
          "name": "stdout",
          "text": [
            "Ingrese su edad: 89\n",
            "Es un adulto mayor.\n"
          ]
        }
      ]
    },
    {
      "cell_type": "markdown",
      "source": [
        "## Ejercicio 3"
      ],
      "metadata": {
        "id": "3mMq8vHKpa7Y"
      }
    },
    {
      "cell_type": "markdown",
      "source": [
        "**Calculadora de Tarifa de Transporte**\n",
        "\n",
        "Diseña un programa que calcule el costo del billete de autobús según la distancia del viaje. La tarifa base para los primeros 5 kilómetros es de 2. Cada kilómetro adicional hasta 20 kilómetros cuesta 0.50 extra por kilómetro. Para distancias mayores a 20 kilómetros, cada kilómetro adicional cuesta 0.30. El programa debe pedir al usuario la distancia del viaje y calcular el costo total."
      ],
      "metadata": {
        "id": "xmLc4gGTpgDG"
      }
    },
    {
      "cell_type": "code",
      "source": [
        "try:\n",
        "  distancia = int(input(\"Ingrese la distancia de su viaje: \"))\n",
        "  dist_extra = distancia - 5\n",
        "  if  (0<dist_extra) and (dist_extra < 21):\n",
        "    precio = 2 + (0.5*dist_extra)\n",
        "  elif (20 <dist_extra):\n",
        "    precio = 2 + (0.3*dist_extra)\n",
        "  else:\n",
        "    precio = 2\n",
        "  print(f\" La distancia recorrida es {distancia} y pagara {precio}\")\n",
        "except:\n",
        "  print(\"Dato ingresado incorrecto.\")"
      ],
      "metadata": {
        "id": "zjOaPEVubIIv",
        "outputId": "b8053c0a-90d7-4c07-92ff-60898ecd9a08",
        "colab": {
          "base_uri": "https://localhost:8080/"
        }
      },
      "execution_count": 29,
      "outputs": [
        {
          "output_type": "stream",
          "name": "stdout",
          "text": [
            "Ingrese la distancia de su viaje: 1000\n",
            " La distancia recorrida es 1000 y pagara 300.5\n"
          ]
        }
      ]
    },
    {
      "cell_type": "markdown",
      "source": [
        "## Ejercicio 4"
      ],
      "metadata": {
        "id": "vGY7cl60po9Z"
      }
    },
    {
      "cell_type": "markdown",
      "source": [
        "**Simulador de Calificaciones**\n",
        "\n",
        "Crea un programa que simule la entrada de calificaciones de un estudiante en 5 materias, calcule el promedio y luego determine la categoría de desempeño académico basándose en el promedio: insuficiente (menor a 6), suficiente (6-6.9), bueno (7-8.9), muy bueno (9-9.9) y excelente (10). Además, el programa debe indicar si el estudiante ha reprobado alguna materia."
      ],
      "metadata": {
        "id": "hfY02LIlprAr"
      }
    },
    {
      "cell_type": "code",
      "source": [
        "try:\n",
        "  nota_1 = int(input(\"Ingrese la nota de la materia 1: \"))\n",
        "  nota_2 = int(input(\"Ingrese la nota de la materia 2: \"))\n",
        "  nota_3 = int(input(\"Ingrese la nota de la materia 3: \"))\n",
        "  nota_4 = int(input(\"Ingrese la nota de la materia 4: \"))\n",
        "  nota_5 = int(input(\"Ingrese la nota de la materia 5: \"))\n",
        "  if nota_1 < 6:\n",
        "    print(\"El alumno desaprobo la materia 1.\")\n",
        "  if nota_2 < 6:\n",
        "    print(\"El alumno desaprobo la materia 2.\")\n",
        "  if nota_3 < 6:\n",
        "    print(\"El alumno desaprobo la materia 3.\")\n",
        "  if nota_4 < 6:\n",
        "    print(\"El alumno desaprobo la materia 4.\")\n",
        "  if nota_5 < 6:\n",
        "    print(\"El alumno desaprobo la materia 5.\")\n",
        "  promedio = (nota_1 +nota_2 + nota_3 + nota_4 + nota_5)/5\n",
        "  if promedio < 6 :\n",
        "    print(f\"PROMEDIO INSUFICIENTE. PROMEDIO ES {promedio}.\")\n",
        "  elif (promedio>=6) and (promedio < 7):\n",
        "    print(f\"PROMEDIO SUFICIENTE. PROMEDIO ES {promedio}.\")\n",
        "  elif (promedio>=7) and (promedio < 9):\n",
        "    print(f\"PROMEDIO BUENO. PROMEDIO ES {promedio}.\")\n",
        "  else:\n",
        "    print(f\"PROMEDIO MUY BUENO. PROMEDIO ES {promedio}.\")\n",
        "\n",
        "except:\n",
        "  print(\"Dato mal ingresado.\")"
      ],
      "metadata": {
        "id": "dtTAzOrbp5Cc",
        "colab": {
          "base_uri": "https://localhost:8080/"
        },
        "outputId": "33a42ef8-4354-46c7-8712-d6b788ba7e40"
      },
      "execution_count": 32,
      "outputs": [
        {
          "output_type": "stream",
          "name": "stdout",
          "text": [
            "Ingrese la nota de la materia 1: 10\n",
            "Ingrese la nota de la materia 2: 4\n",
            "Ingrese la nota de la materia 3: 7\n",
            "Ingrese la nota de la materia 4: 8\n",
            "Ingrese la nota de la materia 5: 9\n",
            "El alumno desaprobo la materia 2.\n",
            "PROMEDIO BUENO. PROMEDIO ES 7.6.\n"
          ]
        }
      ]
    },
    {
      "cell_type": "markdown",
      "source": [
        "## Ejercicio 5"
      ],
      "metadata": {
        "id": "OTHCLAOMp5dz"
      }
    },
    {
      "cell_type": "markdown",
      "source": [
        "**Sistema de Bonos por Desempeño**\n",
        "\n",
        "Desarrolla un programa que calcule el bono de fin de año para los empleados de una empresa. El bono se calcula en base a los años de servicio y la evaluación de desempeño. Los empleados con menos de 2 años no reciben bono. Los empleados con 2 a 5 años reciben un 10% de su salario si su desempeño fue \"bueno\", un 20% si fue \"excelente\". Para los empleados con más de 5 años, el bono es del 20% para \"bueno\" y del 30% para \"excelente\". La entrada del programa serán los años de servicio, el salario y la evaluación de desempeño."
      ],
      "metadata": {
        "id": "4RkTFgtQp7N3"
      }
    },
    {
      "cell_type": "code",
      "source": [],
      "metadata": {
        "id": "xIdHopRLqCr_"
      },
      "execution_count": null,
      "outputs": []
    },
    {
      "cell_type": "markdown",
      "source": [
        "---\n",
        "\n",
        "# Gracias por completar este laboratorio!\n",
        "\n",
        "---\n"
      ],
      "metadata": {
        "id": "Z8TPfkHyH_D5"
      }
    }
  ]
}